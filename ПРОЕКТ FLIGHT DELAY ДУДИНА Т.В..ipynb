{
 "cells": [
  {
   "cell_type": "code",
   "execution_count": 1,
   "id": "3219c063",
   "metadata": {},
   "outputs": [],
   "source": [
    "import pandas as pd\n",
    "import datetime, warnings, scipy \n",
    "import numpy as np\n",
    "import seaborn as sns\n",
    "import matplotlib.pyplot as plt"
   ]
  },
  {
   "cell_type": "code",
   "execution_count": 2,
   "id": "f49a2951",
   "metadata": {},
   "outputs": [],
   "source": [
    "import plotly.express as px\n",
    "import plotly.graph_objs as go\n",
    "from plotly import tools\n",
    "import plotly.offline as py"
   ]
  },
  {
   "cell_type": "code",
   "execution_count": 3,
   "id": "08aa3797",
   "metadata": {},
   "outputs": [],
   "source": [
    "airlines = pd.read_csv('airlines.csv')"
   ]
  },
  {
   "cell_type": "code",
   "execution_count": 4,
   "id": "ba3e080b",
   "metadata": {
    "scrolled": true
   },
   "outputs": [
    {
     "data": {
      "text/html": [
       "<div>\n",
       "<style scoped>\n",
       "    .dataframe tbody tr th:only-of-type {\n",
       "        vertical-align: middle;\n",
       "    }\n",
       "\n",
       "    .dataframe tbody tr th {\n",
       "        vertical-align: top;\n",
       "    }\n",
       "\n",
       "    .dataframe thead th {\n",
       "        text-align: right;\n",
       "    }\n",
       "</style>\n",
       "<table border=\"1\" class=\"dataframe\">\n",
       "  <thead>\n",
       "    <tr style=\"text-align: right;\">\n",
       "      <th></th>\n",
       "      <th>IATA_CODE</th>\n",
       "      <th>AIRLINE</th>\n",
       "    </tr>\n",
       "  </thead>\n",
       "  <tbody>\n",
       "    <tr>\n",
       "      <th>0</th>\n",
       "      <td>UA</td>\n",
       "      <td>United Air Lines Inc.</td>\n",
       "    </tr>\n",
       "    <tr>\n",
       "      <th>1</th>\n",
       "      <td>AA</td>\n",
       "      <td>American Airlines Inc.</td>\n",
       "    </tr>\n",
       "    <tr>\n",
       "      <th>2</th>\n",
       "      <td>US</td>\n",
       "      <td>US Airways Inc.</td>\n",
       "    </tr>\n",
       "    <tr>\n",
       "      <th>3</th>\n",
       "      <td>F9</td>\n",
       "      <td>Frontier Airlines Inc.</td>\n",
       "    </tr>\n",
       "    <tr>\n",
       "      <th>4</th>\n",
       "      <td>B6</td>\n",
       "      <td>JetBlue Airways</td>\n",
       "    </tr>\n",
       "    <tr>\n",
       "      <th>5</th>\n",
       "      <td>OO</td>\n",
       "      <td>Skywest Airlines Inc.</td>\n",
       "    </tr>\n",
       "    <tr>\n",
       "      <th>6</th>\n",
       "      <td>AS</td>\n",
       "      <td>Alaska Airlines Inc.</td>\n",
       "    </tr>\n",
       "    <tr>\n",
       "      <th>7</th>\n",
       "      <td>NK</td>\n",
       "      <td>Spirit Air Lines</td>\n",
       "    </tr>\n",
       "    <tr>\n",
       "      <th>8</th>\n",
       "      <td>WN</td>\n",
       "      <td>Southwest Airlines Co.</td>\n",
       "    </tr>\n",
       "    <tr>\n",
       "      <th>9</th>\n",
       "      <td>DL</td>\n",
       "      <td>Delta Air Lines Inc.</td>\n",
       "    </tr>\n",
       "    <tr>\n",
       "      <th>10</th>\n",
       "      <td>EV</td>\n",
       "      <td>Atlantic Southeast Airlines</td>\n",
       "    </tr>\n",
       "    <tr>\n",
       "      <th>11</th>\n",
       "      <td>HA</td>\n",
       "      <td>Hawaiian Airlines Inc.</td>\n",
       "    </tr>\n",
       "    <tr>\n",
       "      <th>12</th>\n",
       "      <td>MQ</td>\n",
       "      <td>American Eagle Airlines Inc.</td>\n",
       "    </tr>\n",
       "    <tr>\n",
       "      <th>13</th>\n",
       "      <td>VX</td>\n",
       "      <td>Virgin America</td>\n",
       "    </tr>\n",
       "  </tbody>\n",
       "</table>\n",
       "</div>"
      ],
      "text/plain": [
       "   IATA_CODE                       AIRLINE\n",
       "0         UA         United Air Lines Inc.\n",
       "1         AA        American Airlines Inc.\n",
       "2         US               US Airways Inc.\n",
       "3         F9        Frontier Airlines Inc.\n",
       "4         B6               JetBlue Airways\n",
       "5         OO         Skywest Airlines Inc.\n",
       "6         AS          Alaska Airlines Inc.\n",
       "7         NK              Spirit Air Lines\n",
       "8         WN        Southwest Airlines Co.\n",
       "9         DL          Delta Air Lines Inc.\n",
       "10        EV   Atlantic Southeast Airlines\n",
       "11        HA        Hawaiian Airlines Inc.\n",
       "12        MQ  American Eagle Airlines Inc.\n",
       "13        VX                Virgin America"
      ]
     },
     "execution_count": 4,
     "metadata": {},
     "output_type": "execute_result"
    }
   ],
   "source": [
    "airlines"
   ]
  },
  {
   "cell_type": "code",
   "execution_count": 5,
   "id": "abaf8ddf",
   "metadata": {},
   "outputs": [],
   "source": [
    "airports = pd.read_csv('airports.csv')"
   ]
  },
  {
   "cell_type": "code",
   "execution_count": 6,
   "id": "655865c3",
   "metadata": {},
   "outputs": [
    {
     "data": {
      "text/html": [
       "<div>\n",
       "<style scoped>\n",
       "    .dataframe tbody tr th:only-of-type {\n",
       "        vertical-align: middle;\n",
       "    }\n",
       "\n",
       "    .dataframe tbody tr th {\n",
       "        vertical-align: top;\n",
       "    }\n",
       "\n",
       "    .dataframe thead th {\n",
       "        text-align: right;\n",
       "    }\n",
       "</style>\n",
       "<table border=\"1\" class=\"dataframe\">\n",
       "  <thead>\n",
       "    <tr style=\"text-align: right;\">\n",
       "      <th></th>\n",
       "      <th>IATA_CODE</th>\n",
       "      <th>AIRPORT</th>\n",
       "      <th>CITY</th>\n",
       "      <th>STATE</th>\n",
       "      <th>COUNTRY</th>\n",
       "      <th>LATITUDE</th>\n",
       "      <th>LONGITUDE</th>\n",
       "    </tr>\n",
       "  </thead>\n",
       "  <tbody>\n",
       "    <tr>\n",
       "      <th>0</th>\n",
       "      <td>ABE</td>\n",
       "      <td>Lehigh Valley International Airport</td>\n",
       "      <td>Allentown</td>\n",
       "      <td>PA</td>\n",
       "      <td>USA</td>\n",
       "      <td>40.65236</td>\n",
       "      <td>-75.44040</td>\n",
       "    </tr>\n",
       "    <tr>\n",
       "      <th>1</th>\n",
       "      <td>ABI</td>\n",
       "      <td>Abilene Regional Airport</td>\n",
       "      <td>Abilene</td>\n",
       "      <td>TX</td>\n",
       "      <td>USA</td>\n",
       "      <td>32.41132</td>\n",
       "      <td>-99.68190</td>\n",
       "    </tr>\n",
       "    <tr>\n",
       "      <th>2</th>\n",
       "      <td>ABQ</td>\n",
       "      <td>Albuquerque International Sunport</td>\n",
       "      <td>Albuquerque</td>\n",
       "      <td>NM</td>\n",
       "      <td>USA</td>\n",
       "      <td>35.04022</td>\n",
       "      <td>-106.60919</td>\n",
       "    </tr>\n",
       "    <tr>\n",
       "      <th>3</th>\n",
       "      <td>ABR</td>\n",
       "      <td>Aberdeen Regional Airport</td>\n",
       "      <td>Aberdeen</td>\n",
       "      <td>SD</td>\n",
       "      <td>USA</td>\n",
       "      <td>45.44906</td>\n",
       "      <td>-98.42183</td>\n",
       "    </tr>\n",
       "    <tr>\n",
       "      <th>4</th>\n",
       "      <td>ABY</td>\n",
       "      <td>Southwest Georgia Regional Airport</td>\n",
       "      <td>Albany</td>\n",
       "      <td>GA</td>\n",
       "      <td>USA</td>\n",
       "      <td>31.53552</td>\n",
       "      <td>-84.19447</td>\n",
       "    </tr>\n",
       "    <tr>\n",
       "      <th>...</th>\n",
       "      <td>...</td>\n",
       "      <td>...</td>\n",
       "      <td>...</td>\n",
       "      <td>...</td>\n",
       "      <td>...</td>\n",
       "      <td>...</td>\n",
       "      <td>...</td>\n",
       "    </tr>\n",
       "    <tr>\n",
       "      <th>317</th>\n",
       "      <td>WRG</td>\n",
       "      <td>Wrangell Airport</td>\n",
       "      <td>Wrangell</td>\n",
       "      <td>AK</td>\n",
       "      <td>USA</td>\n",
       "      <td>56.48433</td>\n",
       "      <td>-132.36982</td>\n",
       "    </tr>\n",
       "    <tr>\n",
       "      <th>318</th>\n",
       "      <td>WYS</td>\n",
       "      <td>Westerly State Airport</td>\n",
       "      <td>West Yellowstone</td>\n",
       "      <td>MT</td>\n",
       "      <td>USA</td>\n",
       "      <td>44.68840</td>\n",
       "      <td>-111.11764</td>\n",
       "    </tr>\n",
       "    <tr>\n",
       "      <th>319</th>\n",
       "      <td>XNA</td>\n",
       "      <td>Northwest Arkansas Regional Airport</td>\n",
       "      <td>Fayetteville/Springdale/Rogers</td>\n",
       "      <td>AR</td>\n",
       "      <td>USA</td>\n",
       "      <td>36.28187</td>\n",
       "      <td>-94.30681</td>\n",
       "    </tr>\n",
       "    <tr>\n",
       "      <th>320</th>\n",
       "      <td>YAK</td>\n",
       "      <td>Yakutat Airport</td>\n",
       "      <td>Yakutat</td>\n",
       "      <td>AK</td>\n",
       "      <td>USA</td>\n",
       "      <td>59.50336</td>\n",
       "      <td>-139.66023</td>\n",
       "    </tr>\n",
       "    <tr>\n",
       "      <th>321</th>\n",
       "      <td>YUM</td>\n",
       "      <td>Yuma International Airport</td>\n",
       "      <td>Yuma</td>\n",
       "      <td>AZ</td>\n",
       "      <td>USA</td>\n",
       "      <td>32.65658</td>\n",
       "      <td>-114.60597</td>\n",
       "    </tr>\n",
       "  </tbody>\n",
       "</table>\n",
       "<p>322 rows × 7 columns</p>\n",
       "</div>"
      ],
      "text/plain": [
       "    IATA_CODE                              AIRPORT  \\\n",
       "0         ABE  Lehigh Valley International Airport   \n",
       "1         ABI             Abilene Regional Airport   \n",
       "2         ABQ    Albuquerque International Sunport   \n",
       "3         ABR            Aberdeen Regional Airport   \n",
       "4         ABY   Southwest Georgia Regional Airport   \n",
       "..        ...                                  ...   \n",
       "317       WRG                     Wrangell Airport   \n",
       "318       WYS               Westerly State Airport   \n",
       "319       XNA  Northwest Arkansas Regional Airport   \n",
       "320       YAK                      Yakutat Airport   \n",
       "321       YUM           Yuma International Airport   \n",
       "\n",
       "                               CITY STATE COUNTRY  LATITUDE  LONGITUDE  \n",
       "0                         Allentown    PA     USA  40.65236  -75.44040  \n",
       "1                           Abilene    TX     USA  32.41132  -99.68190  \n",
       "2                       Albuquerque    NM     USA  35.04022 -106.60919  \n",
       "3                          Aberdeen    SD     USA  45.44906  -98.42183  \n",
       "4                            Albany    GA     USA  31.53552  -84.19447  \n",
       "..                              ...   ...     ...       ...        ...  \n",
       "317                        Wrangell    AK     USA  56.48433 -132.36982  \n",
       "318                West Yellowstone    MT     USA  44.68840 -111.11764  \n",
       "319  Fayetteville/Springdale/Rogers    AR     USA  36.28187  -94.30681  \n",
       "320                         Yakutat    AK     USA  59.50336 -139.66023  \n",
       "321                            Yuma    AZ     USA  32.65658 -114.60597  \n",
       "\n",
       "[322 rows x 7 columns]"
      ]
     },
     "execution_count": 6,
     "metadata": {},
     "output_type": "execute_result"
    }
   ],
   "source": [
    "airports"
   ]
  },
  {
   "cell_type": "code",
   "execution_count": 7,
   "id": "61c76c20",
   "metadata": {},
   "outputs": [
    {
     "name": "stderr",
     "output_type": "stream",
     "text": [
      "c:\\users\\танюша\\desktop\\prodject\\venv\\lib\\site-packages\\IPython\\core\\interactiveshell.py:3444: DtypeWarning: Columns (7,8) have mixed types.Specify dtype option on import or set low_memory=False.\n",
      "  exec(code_obj, self.user_global_ns, self.user_ns)\n"
     ]
    }
   ],
   "source": [
    "flights = pd.read_csv('flights.csv')"
   ]
  },
  {
   "cell_type": "code",
   "execution_count": 8,
   "id": "b03da482",
   "metadata": {},
   "outputs": [
    {
     "data": {
      "text/html": [
       "<div>\n",
       "<style scoped>\n",
       "    .dataframe tbody tr th:only-of-type {\n",
       "        vertical-align: middle;\n",
       "    }\n",
       "\n",
       "    .dataframe tbody tr th {\n",
       "        vertical-align: top;\n",
       "    }\n",
       "\n",
       "    .dataframe thead th {\n",
       "        text-align: right;\n",
       "    }\n",
       "</style>\n",
       "<table border=\"1\" class=\"dataframe\">\n",
       "  <thead>\n",
       "    <tr style=\"text-align: right;\">\n",
       "      <th></th>\n",
       "      <th>YEAR</th>\n",
       "      <th>MONTH</th>\n",
       "      <th>DAY</th>\n",
       "      <th>DAY_OF_WEEK</th>\n",
       "      <th>AIRLINE</th>\n",
       "      <th>FLIGHT_NUMBER</th>\n",
       "      <th>TAIL_NUMBER</th>\n",
       "      <th>ORIGIN_AIRPORT</th>\n",
       "      <th>DESTINATION_AIRPORT</th>\n",
       "      <th>SCHEDULED_DEPARTURE</th>\n",
       "      <th>...</th>\n",
       "      <th>ARRIVAL_TIME</th>\n",
       "      <th>ARRIVAL_DELAY</th>\n",
       "      <th>DIVERTED</th>\n",
       "      <th>CANCELLED</th>\n",
       "      <th>CANCELLATION_REASON</th>\n",
       "      <th>AIR_SYSTEM_DELAY</th>\n",
       "      <th>SECURITY_DELAY</th>\n",
       "      <th>AIRLINE_DELAY</th>\n",
       "      <th>LATE_AIRCRAFT_DELAY</th>\n",
       "      <th>WEATHER_DELAY</th>\n",
       "    </tr>\n",
       "  </thead>\n",
       "  <tbody>\n",
       "    <tr>\n",
       "      <th>0</th>\n",
       "      <td>2015</td>\n",
       "      <td>1</td>\n",
       "      <td>1</td>\n",
       "      <td>4</td>\n",
       "      <td>AS</td>\n",
       "      <td>98</td>\n",
       "      <td>N407AS</td>\n",
       "      <td>ANC</td>\n",
       "      <td>SEA</td>\n",
       "      <td>5</td>\n",
       "      <td>...</td>\n",
       "      <td>408.0</td>\n",
       "      <td>-22.0</td>\n",
       "      <td>0</td>\n",
       "      <td>0</td>\n",
       "      <td>NaN</td>\n",
       "      <td>NaN</td>\n",
       "      <td>NaN</td>\n",
       "      <td>NaN</td>\n",
       "      <td>NaN</td>\n",
       "      <td>NaN</td>\n",
       "    </tr>\n",
       "    <tr>\n",
       "      <th>1</th>\n",
       "      <td>2015</td>\n",
       "      <td>1</td>\n",
       "      <td>1</td>\n",
       "      <td>4</td>\n",
       "      <td>AA</td>\n",
       "      <td>2336</td>\n",
       "      <td>N3KUAA</td>\n",
       "      <td>LAX</td>\n",
       "      <td>PBI</td>\n",
       "      <td>10</td>\n",
       "      <td>...</td>\n",
       "      <td>741.0</td>\n",
       "      <td>-9.0</td>\n",
       "      <td>0</td>\n",
       "      <td>0</td>\n",
       "      <td>NaN</td>\n",
       "      <td>NaN</td>\n",
       "      <td>NaN</td>\n",
       "      <td>NaN</td>\n",
       "      <td>NaN</td>\n",
       "      <td>NaN</td>\n",
       "    </tr>\n",
       "    <tr>\n",
       "      <th>2</th>\n",
       "      <td>2015</td>\n",
       "      <td>1</td>\n",
       "      <td>1</td>\n",
       "      <td>4</td>\n",
       "      <td>US</td>\n",
       "      <td>840</td>\n",
       "      <td>N171US</td>\n",
       "      <td>SFO</td>\n",
       "      <td>CLT</td>\n",
       "      <td>20</td>\n",
       "      <td>...</td>\n",
       "      <td>811.0</td>\n",
       "      <td>5.0</td>\n",
       "      <td>0</td>\n",
       "      <td>0</td>\n",
       "      <td>NaN</td>\n",
       "      <td>NaN</td>\n",
       "      <td>NaN</td>\n",
       "      <td>NaN</td>\n",
       "      <td>NaN</td>\n",
       "      <td>NaN</td>\n",
       "    </tr>\n",
       "    <tr>\n",
       "      <th>3</th>\n",
       "      <td>2015</td>\n",
       "      <td>1</td>\n",
       "      <td>1</td>\n",
       "      <td>4</td>\n",
       "      <td>AA</td>\n",
       "      <td>258</td>\n",
       "      <td>N3HYAA</td>\n",
       "      <td>LAX</td>\n",
       "      <td>MIA</td>\n",
       "      <td>20</td>\n",
       "      <td>...</td>\n",
       "      <td>756.0</td>\n",
       "      <td>-9.0</td>\n",
       "      <td>0</td>\n",
       "      <td>0</td>\n",
       "      <td>NaN</td>\n",
       "      <td>NaN</td>\n",
       "      <td>NaN</td>\n",
       "      <td>NaN</td>\n",
       "      <td>NaN</td>\n",
       "      <td>NaN</td>\n",
       "    </tr>\n",
       "    <tr>\n",
       "      <th>4</th>\n",
       "      <td>2015</td>\n",
       "      <td>1</td>\n",
       "      <td>1</td>\n",
       "      <td>4</td>\n",
       "      <td>AS</td>\n",
       "      <td>135</td>\n",
       "      <td>N527AS</td>\n",
       "      <td>SEA</td>\n",
       "      <td>ANC</td>\n",
       "      <td>25</td>\n",
       "      <td>...</td>\n",
       "      <td>259.0</td>\n",
       "      <td>-21.0</td>\n",
       "      <td>0</td>\n",
       "      <td>0</td>\n",
       "      <td>NaN</td>\n",
       "      <td>NaN</td>\n",
       "      <td>NaN</td>\n",
       "      <td>NaN</td>\n",
       "      <td>NaN</td>\n",
       "      <td>NaN</td>\n",
       "    </tr>\n",
       "    <tr>\n",
       "      <th>...</th>\n",
       "      <td>...</td>\n",
       "      <td>...</td>\n",
       "      <td>...</td>\n",
       "      <td>...</td>\n",
       "      <td>...</td>\n",
       "      <td>...</td>\n",
       "      <td>...</td>\n",
       "      <td>...</td>\n",
       "      <td>...</td>\n",
       "      <td>...</td>\n",
       "      <td>...</td>\n",
       "      <td>...</td>\n",
       "      <td>...</td>\n",
       "      <td>...</td>\n",
       "      <td>...</td>\n",
       "      <td>...</td>\n",
       "      <td>...</td>\n",
       "      <td>...</td>\n",
       "      <td>...</td>\n",
       "      <td>...</td>\n",
       "      <td>...</td>\n",
       "    </tr>\n",
       "    <tr>\n",
       "      <th>5819074</th>\n",
       "      <td>2015</td>\n",
       "      <td>12</td>\n",
       "      <td>31</td>\n",
       "      <td>4</td>\n",
       "      <td>B6</td>\n",
       "      <td>688</td>\n",
       "      <td>N657JB</td>\n",
       "      <td>LAX</td>\n",
       "      <td>BOS</td>\n",
       "      <td>2359</td>\n",
       "      <td>...</td>\n",
       "      <td>753.0</td>\n",
       "      <td>-26.0</td>\n",
       "      <td>0</td>\n",
       "      <td>0</td>\n",
       "      <td>NaN</td>\n",
       "      <td>NaN</td>\n",
       "      <td>NaN</td>\n",
       "      <td>NaN</td>\n",
       "      <td>NaN</td>\n",
       "      <td>NaN</td>\n",
       "    </tr>\n",
       "    <tr>\n",
       "      <th>5819075</th>\n",
       "      <td>2015</td>\n",
       "      <td>12</td>\n",
       "      <td>31</td>\n",
       "      <td>4</td>\n",
       "      <td>B6</td>\n",
       "      <td>745</td>\n",
       "      <td>N828JB</td>\n",
       "      <td>JFK</td>\n",
       "      <td>PSE</td>\n",
       "      <td>2359</td>\n",
       "      <td>...</td>\n",
       "      <td>430.0</td>\n",
       "      <td>-16.0</td>\n",
       "      <td>0</td>\n",
       "      <td>0</td>\n",
       "      <td>NaN</td>\n",
       "      <td>NaN</td>\n",
       "      <td>NaN</td>\n",
       "      <td>NaN</td>\n",
       "      <td>NaN</td>\n",
       "      <td>NaN</td>\n",
       "    </tr>\n",
       "    <tr>\n",
       "      <th>5819076</th>\n",
       "      <td>2015</td>\n",
       "      <td>12</td>\n",
       "      <td>31</td>\n",
       "      <td>4</td>\n",
       "      <td>B6</td>\n",
       "      <td>1503</td>\n",
       "      <td>N913JB</td>\n",
       "      <td>JFK</td>\n",
       "      <td>SJU</td>\n",
       "      <td>2359</td>\n",
       "      <td>...</td>\n",
       "      <td>432.0</td>\n",
       "      <td>-8.0</td>\n",
       "      <td>0</td>\n",
       "      <td>0</td>\n",
       "      <td>NaN</td>\n",
       "      <td>NaN</td>\n",
       "      <td>NaN</td>\n",
       "      <td>NaN</td>\n",
       "      <td>NaN</td>\n",
       "      <td>NaN</td>\n",
       "    </tr>\n",
       "    <tr>\n",
       "      <th>5819077</th>\n",
       "      <td>2015</td>\n",
       "      <td>12</td>\n",
       "      <td>31</td>\n",
       "      <td>4</td>\n",
       "      <td>B6</td>\n",
       "      <td>333</td>\n",
       "      <td>N527JB</td>\n",
       "      <td>MCO</td>\n",
       "      <td>SJU</td>\n",
       "      <td>2359</td>\n",
       "      <td>...</td>\n",
       "      <td>330.0</td>\n",
       "      <td>-10.0</td>\n",
       "      <td>0</td>\n",
       "      <td>0</td>\n",
       "      <td>NaN</td>\n",
       "      <td>NaN</td>\n",
       "      <td>NaN</td>\n",
       "      <td>NaN</td>\n",
       "      <td>NaN</td>\n",
       "      <td>NaN</td>\n",
       "    </tr>\n",
       "    <tr>\n",
       "      <th>5819078</th>\n",
       "      <td>2015</td>\n",
       "      <td>12</td>\n",
       "      <td>31</td>\n",
       "      <td>4</td>\n",
       "      <td>B6</td>\n",
       "      <td>839</td>\n",
       "      <td>N534JB</td>\n",
       "      <td>JFK</td>\n",
       "      <td>BQN</td>\n",
       "      <td>2359</td>\n",
       "      <td>...</td>\n",
       "      <td>442.0</td>\n",
       "      <td>2.0</td>\n",
       "      <td>0</td>\n",
       "      <td>0</td>\n",
       "      <td>NaN</td>\n",
       "      <td>NaN</td>\n",
       "      <td>NaN</td>\n",
       "      <td>NaN</td>\n",
       "      <td>NaN</td>\n",
       "      <td>NaN</td>\n",
       "    </tr>\n",
       "  </tbody>\n",
       "</table>\n",
       "<p>5819079 rows × 31 columns</p>\n",
       "</div>"
      ],
      "text/plain": [
       "         YEAR  MONTH  DAY  DAY_OF_WEEK AIRLINE  FLIGHT_NUMBER TAIL_NUMBER  \\\n",
       "0        2015      1    1            4      AS             98      N407AS   \n",
       "1        2015      1    1            4      AA           2336      N3KUAA   \n",
       "2        2015      1    1            4      US            840      N171US   \n",
       "3        2015      1    1            4      AA            258      N3HYAA   \n",
       "4        2015      1    1            4      AS            135      N527AS   \n",
       "...       ...    ...  ...          ...     ...            ...         ...   \n",
       "5819074  2015     12   31            4      B6            688      N657JB   \n",
       "5819075  2015     12   31            4      B6            745      N828JB   \n",
       "5819076  2015     12   31            4      B6           1503      N913JB   \n",
       "5819077  2015     12   31            4      B6            333      N527JB   \n",
       "5819078  2015     12   31            4      B6            839      N534JB   \n",
       "\n",
       "        ORIGIN_AIRPORT DESTINATION_AIRPORT  SCHEDULED_DEPARTURE  ...  \\\n",
       "0                  ANC                 SEA                    5  ...   \n",
       "1                  LAX                 PBI                   10  ...   \n",
       "2                  SFO                 CLT                   20  ...   \n",
       "3                  LAX                 MIA                   20  ...   \n",
       "4                  SEA                 ANC                   25  ...   \n",
       "...                ...                 ...                  ...  ...   \n",
       "5819074            LAX                 BOS                 2359  ...   \n",
       "5819075            JFK                 PSE                 2359  ...   \n",
       "5819076            JFK                 SJU                 2359  ...   \n",
       "5819077            MCO                 SJU                 2359  ...   \n",
       "5819078            JFK                 BQN                 2359  ...   \n",
       "\n",
       "         ARRIVAL_TIME  ARRIVAL_DELAY  DIVERTED  CANCELLED  \\\n",
       "0               408.0          -22.0         0          0   \n",
       "1               741.0           -9.0         0          0   \n",
       "2               811.0            5.0         0          0   \n",
       "3               756.0           -9.0         0          0   \n",
       "4               259.0          -21.0         0          0   \n",
       "...               ...            ...       ...        ...   \n",
       "5819074         753.0          -26.0         0          0   \n",
       "5819075         430.0          -16.0         0          0   \n",
       "5819076         432.0           -8.0         0          0   \n",
       "5819077         330.0          -10.0         0          0   \n",
       "5819078         442.0            2.0         0          0   \n",
       "\n",
       "         CANCELLATION_REASON  AIR_SYSTEM_DELAY  SECURITY_DELAY  AIRLINE_DELAY  \\\n",
       "0                        NaN               NaN             NaN            NaN   \n",
       "1                        NaN               NaN             NaN            NaN   \n",
       "2                        NaN               NaN             NaN            NaN   \n",
       "3                        NaN               NaN             NaN            NaN   \n",
       "4                        NaN               NaN             NaN            NaN   \n",
       "...                      ...               ...             ...            ...   \n",
       "5819074                  NaN               NaN             NaN            NaN   \n",
       "5819075                  NaN               NaN             NaN            NaN   \n",
       "5819076                  NaN               NaN             NaN            NaN   \n",
       "5819077                  NaN               NaN             NaN            NaN   \n",
       "5819078                  NaN               NaN             NaN            NaN   \n",
       "\n",
       "         LATE_AIRCRAFT_DELAY  WEATHER_DELAY  \n",
       "0                        NaN            NaN  \n",
       "1                        NaN            NaN  \n",
       "2                        NaN            NaN  \n",
       "3                        NaN            NaN  \n",
       "4                        NaN            NaN  \n",
       "...                      ...            ...  \n",
       "5819074                  NaN            NaN  \n",
       "5819075                  NaN            NaN  \n",
       "5819076                  NaN            NaN  \n",
       "5819077                  NaN            NaN  \n",
       "5819078                  NaN            NaN  \n",
       "\n",
       "[5819079 rows x 31 columns]"
      ]
     },
     "execution_count": 8,
     "metadata": {},
     "output_type": "execute_result"
    }
   ],
   "source": [
    "flights"
   ]
  },
  {
   "cell_type": "code",
   "execution_count": 9,
   "id": "9eeaeefd",
   "metadata": {
    "scrolled": true
   },
   "outputs": [
    {
     "data": {
      "text/plain": [
       "Index(['YEAR', 'MONTH', 'DAY', 'DAY_OF_WEEK', 'AIRLINE', 'FLIGHT_NUMBER',\n",
       "       'TAIL_NUMBER', 'ORIGIN_AIRPORT', 'DESTINATION_AIRPORT',\n",
       "       'SCHEDULED_DEPARTURE', 'DEPARTURE_TIME', 'DEPARTURE_DELAY', 'TAXI_OUT',\n",
       "       'WHEELS_OFF', 'SCHEDULED_TIME', 'ELAPSED_TIME', 'AIR_TIME', 'DISTANCE',\n",
       "       'WHEELS_ON', 'TAXI_IN', 'SCHEDULED_ARRIVAL', 'ARRIVAL_TIME',\n",
       "       'ARRIVAL_DELAY', 'DIVERTED', 'CANCELLED', 'CANCELLATION_REASON',\n",
       "       'AIR_SYSTEM_DELAY', 'SECURITY_DELAY', 'AIRLINE_DELAY',\n",
       "       'LATE_AIRCRAFT_DELAY', 'WEATHER_DELAY'],\n",
       "      dtype='object')"
      ]
     },
     "execution_count": 9,
     "metadata": {},
     "output_type": "execute_result"
    }
   ],
   "source": [
    "flights.columns"
   ]
  },
  {
   "cell_type": "code",
   "execution_count": 10,
   "id": "baf1d882",
   "metadata": {},
   "outputs": [],
   "source": [
    "airport_mean_delays = pd.DataFrame(pd.Series(flights['ORIGIN_AIRPORT'].unique()))\n",
    "airport_mean_delays.set_index(0, drop = True, inplace = True)\n",
    "abbr_companies = airlines.set_index('IATA_CODE')['AIRLINE'].to_dict()\n",
    "identify_airport = airports.set_index('IATA_CODE')['CITY'].to_dict()\n",
    "\n",
    "# function that extract statistical parameters from a grouby objet:\n",
    "def get_stats(group):\n",
    "    return {'min': group.min(), 'max': group.max(),\n",
    "            'count': group.count(), 'mean': group.mean()}\n",
    "#___________________________________________________________\n",
    "\n",
    "for carrier in abbr_companies.keys():\n",
    "    fg1 = flights[flights['AIRLINE'] == carrier]\n",
    "    test = fg1['DEPARTURE_DELAY'].groupby(flights['ORIGIN_AIRPORT']).apply(get_stats).unstack()\n",
    "    airport_mean_delays[carrier] = test.loc[:, 'mean'] "
   ]
  },
  {
   "cell_type": "code",
   "execution_count": 129,
   "id": "3a690b99",
   "metadata": {
    "scrolled": false
   },
   "outputs": [
    {
     "data": {
      "image/png": "[encoded data removed]",
      "text/plain": [
       "<Figure size 864x864 with 4 Axes>"
      ]
     },
     "metadata": {},
     "output_type": "display_data"
    }
   ],
   "source": [
    "sns.set(context=\"paper\")\n",
    "fig = plt.figure(1, figsize=(12,12))\n",
    "\n",
    "ax = fig.add_subplot(1,2,1)\n",
    "subset = airport_mean_delays.iloc[:50,:].rename(columns = abbr_companies)\n",
    "subset = subset.rename(index = identify_airport)\n",
    "mask = subset.isnull()\n",
    "sns.heatmap(subset, linewidths=0.05, cmap=\"YlGnBu\", mask=mask, vmin = 0, vmax = 30)\n",
    "plt.setp(ax.get_xticklabels(), fontsize=12, rotation = 88) ;\n",
    "ax.yaxis.label.set_visible(False)\n",
    "\n",
    "ax = fig.add_subplot(1,2,2)    \n",
    "subset = airport_mean_delays.iloc[50:100,:].rename(columns = abbr_companies)\n",
    "subset = subset.rename(index = identify_airport)\n",
    "fig.text(0.5, 1.02, \"Масштабы задержек в аэропорту отправления\", ha='center', fontsize = 20)\n",
    "mask = subset.isnull()\n",
    "sns.heatmap(subset, linewidths=0.05, cmap=\"YlGnBu\", mask=mask, vmin = 0, vmax = 30)\n",
    "plt.setp(ax.get_xticklabels(), fontsize=12, rotation = 88) ;\n",
    "ax.yaxis.label.set_visible(False)\n",
    "\n",
    "plt.tight_layout()"
   ]
  },
  {
   "cell_type": "code",
   "execution_count": null,
   "id": "b4630a34",
   "metadata": {},
   "outputs": [],
   "source": [
    "## удалим данные с значением NULL"
   ]
  },
  {
   "cell_type": "code",
   "execution_count": 12,
   "id": "8bf49383",
   "metadata": {},
   "outputs": [
    {
     "data": {
      "text/plain": [
       "IATA_CODE    0\n",
       "AIRPORT      0\n",
       "CITY         0\n",
       "STATE        0\n",
       "COUNTRY      0\n",
       "LATITUDE     3\n",
       "LONGITUDE    3\n",
       "dtype: int64"
      ]
     },
     "execution_count": 12,
     "metadata": {},
     "output_type": "execute_result"
    }
   ],
   "source": [
    "airports.isnull().sum()"
   ]
  },
  {
   "cell_type": "code",
   "execution_count": 13,
   "id": "12fee6cd",
   "metadata": {},
   "outputs": [],
   "source": [
    "airports = airports.dropna(subset = ['LATITUDE','LONGITUDE'])"
   ]
  },
  {
   "cell_type": "code",
   "execution_count": 14,
   "id": "b663a850",
   "metadata": {},
   "outputs": [
    {
     "data": {
      "text/plain": [
       "IATA_CODE    0\n",
       "AIRPORT      0\n",
       "CITY         0\n",
       "STATE        0\n",
       "COUNTRY      0\n",
       "LATITUDE     0\n",
       "LONGITUDE    0\n",
       "dtype: int64"
      ]
     },
     "execution_count": 14,
     "metadata": {},
     "output_type": "execute_result"
    }
   ],
   "source": [
    "airports.isnull().sum()"
   ]
  },
  {
   "cell_type": "code",
   "execution_count": 15,
   "id": "2ccc6ccd",
   "metadata": {
    "scrolled": false
   },
   "outputs": [
    {
     "data": {
      "text/html": [
       "<div>\n",
       "<style scoped>\n",
       "    .dataframe tbody tr th:only-of-type {\n",
       "        vertical-align: middle;\n",
       "    }\n",
       "\n",
       "    .dataframe tbody tr th {\n",
       "        vertical-align: top;\n",
       "    }\n",
       "\n",
       "    .dataframe thead th {\n",
       "        text-align: right;\n",
       "    }\n",
       "</style>\n",
       "<table border=\"1\" class=\"dataframe\">\n",
       "  <thead>\n",
       "    <tr style=\"text-align: right;\">\n",
       "      <th></th>\n",
       "      <th>IATA_CODE</th>\n",
       "      <th>AIRPORT</th>\n",
       "      <th>CITY</th>\n",
       "      <th>STATE</th>\n",
       "      <th>COUNTRY</th>\n",
       "      <th>LATITUDE</th>\n",
       "      <th>LONGITUDE</th>\n",
       "    </tr>\n",
       "  </thead>\n",
       "  <tbody>\n",
       "    <tr>\n",
       "      <th>0</th>\n",
       "      <td>ABE</td>\n",
       "      <td>Lehigh Valley International Airport</td>\n",
       "      <td>Allentown</td>\n",
       "      <td>PA</td>\n",
       "      <td>USA</td>\n",
       "      <td>40.65236</td>\n",
       "      <td>-75.44040</td>\n",
       "    </tr>\n",
       "    <tr>\n",
       "      <th>1</th>\n",
       "      <td>ABI</td>\n",
       "      <td>Abilene Regional Airport</td>\n",
       "      <td>Abilene</td>\n",
       "      <td>TX</td>\n",
       "      <td>USA</td>\n",
       "      <td>32.41132</td>\n",
       "      <td>-99.68190</td>\n",
       "    </tr>\n",
       "    <tr>\n",
       "      <th>2</th>\n",
       "      <td>ABQ</td>\n",
       "      <td>Albuquerque International Sunport</td>\n",
       "      <td>Albuquerque</td>\n",
       "      <td>NM</td>\n",
       "      <td>USA</td>\n",
       "      <td>35.04022</td>\n",
       "      <td>-106.60919</td>\n",
       "    </tr>\n",
       "    <tr>\n",
       "      <th>3</th>\n",
       "      <td>ABR</td>\n",
       "      <td>Aberdeen Regional Airport</td>\n",
       "      <td>Aberdeen</td>\n",
       "      <td>SD</td>\n",
       "      <td>USA</td>\n",
       "      <td>45.44906</td>\n",
       "      <td>-98.42183</td>\n",
       "    </tr>\n",
       "    <tr>\n",
       "      <th>4</th>\n",
       "      <td>ABY</td>\n",
       "      <td>Southwest Georgia Regional Airport</td>\n",
       "      <td>Albany</td>\n",
       "      <td>GA</td>\n",
       "      <td>USA</td>\n",
       "      <td>31.53552</td>\n",
       "      <td>-84.19447</td>\n",
       "    </tr>\n",
       "    <tr>\n",
       "      <th>5</th>\n",
       "      <td>ACK</td>\n",
       "      <td>Nantucket Memorial Airport</td>\n",
       "      <td>Nantucket</td>\n",
       "      <td>MA</td>\n",
       "      <td>USA</td>\n",
       "      <td>41.25305</td>\n",
       "      <td>-70.06018</td>\n",
       "    </tr>\n",
       "    <tr>\n",
       "      <th>6</th>\n",
       "      <td>ACT</td>\n",
       "      <td>Waco Regional Airport</td>\n",
       "      <td>Waco</td>\n",
       "      <td>TX</td>\n",
       "      <td>USA</td>\n",
       "      <td>31.61129</td>\n",
       "      <td>-97.23052</td>\n",
       "    </tr>\n",
       "    <tr>\n",
       "      <th>7</th>\n",
       "      <td>ACV</td>\n",
       "      <td>Arcata Airport</td>\n",
       "      <td>Arcata/Eureka</td>\n",
       "      <td>CA</td>\n",
       "      <td>USA</td>\n",
       "      <td>40.97812</td>\n",
       "      <td>-124.10862</td>\n",
       "    </tr>\n",
       "    <tr>\n",
       "      <th>8</th>\n",
       "      <td>ACY</td>\n",
       "      <td>Atlantic City International Airport</td>\n",
       "      <td>Atlantic City</td>\n",
       "      <td>NJ</td>\n",
       "      <td>USA</td>\n",
       "      <td>39.45758</td>\n",
       "      <td>-74.57717</td>\n",
       "    </tr>\n",
       "    <tr>\n",
       "      <th>9</th>\n",
       "      <td>ADK</td>\n",
       "      <td>Adak Airport</td>\n",
       "      <td>Adak</td>\n",
       "      <td>AK</td>\n",
       "      <td>USA</td>\n",
       "      <td>51.87796</td>\n",
       "      <td>-176.64603</td>\n",
       "    </tr>\n",
       "    <tr>\n",
       "      <th>10</th>\n",
       "      <td>ADQ</td>\n",
       "      <td>Kodiak Airport</td>\n",
       "      <td>Kodiak</td>\n",
       "      <td>AK</td>\n",
       "      <td>USA</td>\n",
       "      <td>57.74997</td>\n",
       "      <td>-152.49386</td>\n",
       "    </tr>\n",
       "    <tr>\n",
       "      <th>11</th>\n",
       "      <td>AEX</td>\n",
       "      <td>Alexandria International Airport</td>\n",
       "      <td>Alexandria</td>\n",
       "      <td>LA</td>\n",
       "      <td>USA</td>\n",
       "      <td>31.32737</td>\n",
       "      <td>-92.54856</td>\n",
       "    </tr>\n",
       "    <tr>\n",
       "      <th>12</th>\n",
       "      <td>AGS</td>\n",
       "      <td>Augusta Regional Airport (Bush Field)</td>\n",
       "      <td>Augusta</td>\n",
       "      <td>GA</td>\n",
       "      <td>USA</td>\n",
       "      <td>33.36996</td>\n",
       "      <td>-81.96450</td>\n",
       "    </tr>\n",
       "    <tr>\n",
       "      <th>13</th>\n",
       "      <td>AKN</td>\n",
       "      <td>King Salmon Airport</td>\n",
       "      <td>King Salmon</td>\n",
       "      <td>AK</td>\n",
       "      <td>USA</td>\n",
       "      <td>58.67680</td>\n",
       "      <td>-156.64922</td>\n",
       "    </tr>\n",
       "    <tr>\n",
       "      <th>14</th>\n",
       "      <td>ALB</td>\n",
       "      <td>Albany International Airport</td>\n",
       "      <td>Albany</td>\n",
       "      <td>NY</td>\n",
       "      <td>USA</td>\n",
       "      <td>42.74812</td>\n",
       "      <td>-73.80298</td>\n",
       "    </tr>\n",
       "    <tr>\n",
       "      <th>15</th>\n",
       "      <td>ALO</td>\n",
       "      <td>Waterloo Regional Airport</td>\n",
       "      <td>Waterloo</td>\n",
       "      <td>IA</td>\n",
       "      <td>USA</td>\n",
       "      <td>42.55708</td>\n",
       "      <td>-92.40034</td>\n",
       "    </tr>\n",
       "    <tr>\n",
       "      <th>16</th>\n",
       "      <td>AMA</td>\n",
       "      <td>Rick Husband Amarillo International Airport</td>\n",
       "      <td>Amarillo</td>\n",
       "      <td>TX</td>\n",
       "      <td>USA</td>\n",
       "      <td>35.21937</td>\n",
       "      <td>-101.70593</td>\n",
       "    </tr>\n",
       "    <tr>\n",
       "      <th>17</th>\n",
       "      <td>ANC</td>\n",
       "      <td>Ted Stevens Anchorage International Airport</td>\n",
       "      <td>Anchorage</td>\n",
       "      <td>AK</td>\n",
       "      <td>USA</td>\n",
       "      <td>61.17432</td>\n",
       "      <td>-149.99619</td>\n",
       "    </tr>\n",
       "    <tr>\n",
       "      <th>18</th>\n",
       "      <td>APN</td>\n",
       "      <td>Alpena County Regional Airport</td>\n",
       "      <td>Alpena</td>\n",
       "      <td>MI</td>\n",
       "      <td>USA</td>\n",
       "      <td>45.07807</td>\n",
       "      <td>-83.56029</td>\n",
       "    </tr>\n",
       "    <tr>\n",
       "      <th>19</th>\n",
       "      <td>ASE</td>\n",
       "      <td>Aspen-Pitkin County Airport</td>\n",
       "      <td>Aspen</td>\n",
       "      <td>CO</td>\n",
       "      <td>USA</td>\n",
       "      <td>39.22316</td>\n",
       "      <td>-106.86885</td>\n",
       "    </tr>\n",
       "  </tbody>\n",
       "</table>\n",
       "</div>"
      ],
      "text/plain": [
       "   IATA_CODE                                      AIRPORT           CITY  \\\n",
       "0        ABE          Lehigh Valley International Airport      Allentown   \n",
       "1        ABI                     Abilene Regional Airport        Abilene   \n",
       "2        ABQ            Albuquerque International Sunport    Albuquerque   \n",
       "3        ABR                    Aberdeen Regional Airport       Aberdeen   \n",
       "4        ABY           Southwest Georgia Regional Airport         Albany   \n",
       "5        ACK                   Nantucket Memorial Airport      Nantucket   \n",
       "6        ACT                        Waco Regional Airport           Waco   \n",
       "7        ACV                               Arcata Airport  Arcata/Eureka   \n",
       "8        ACY          Atlantic City International Airport  Atlantic City   \n",
       "9        ADK                                 Adak Airport           Adak   \n",
       "10       ADQ                               Kodiak Airport         Kodiak   \n",
       "11       AEX             Alexandria International Airport     Alexandria   \n",
       "12       AGS        Augusta Regional Airport (Bush Field)        Augusta   \n",
       "13       AKN                          King Salmon Airport    King Salmon   \n",
       "14       ALB                 Albany International Airport         Albany   \n",
       "15       ALO                    Waterloo Regional Airport       Waterloo   \n",
       "16       AMA  Rick Husband Amarillo International Airport       Amarillo   \n",
       "17       ANC  Ted Stevens Anchorage International Airport      Anchorage   \n",
       "18       APN               Alpena County Regional Airport         Alpena   \n",
       "19       ASE                  Aspen-Pitkin County Airport          Aspen   \n",
       "\n",
       "   STATE COUNTRY  LATITUDE  LONGITUDE  \n",
       "0     PA     USA  40.65236  -75.44040  \n",
       "1     TX     USA  32.41132  -99.68190  \n",
       "2     NM     USA  35.04022 -106.60919  \n",
       "3     SD     USA  45.44906  -98.42183  \n",
       "4     GA     USA  31.53552  -84.19447  \n",
       "5     MA     USA  41.25305  -70.06018  \n",
       "6     TX     USA  31.61129  -97.23052  \n",
       "7     CA     USA  40.97812 -124.10862  \n",
       "8     NJ     USA  39.45758  -74.57717  \n",
       "9     AK     USA  51.87796 -176.64603  \n",
       "10    AK     USA  57.74997 -152.49386  \n",
       "11    LA     USA  31.32737  -92.54856  \n",
       "12    GA     USA  33.36996  -81.96450  \n",
       "13    AK     USA  58.67680 -156.64922  \n",
       "14    NY     USA  42.74812  -73.80298  \n",
       "15    IA     USA  42.55708  -92.40034  \n",
       "16    TX     USA  35.21937 -101.70593  \n",
       "17    AK     USA  61.17432 -149.99619  \n",
       "18    MI     USA  45.07807  -83.56029  \n",
       "19    CO     USA  39.22316 -106.86885  "
      ]
     },
     "execution_count": 15,
     "metadata": {},
     "output_type": "execute_result"
    }
   ],
   "source": [
    "airports.head(20)"
   ]
  },
  {
   "cell_type": "code",
   "execution_count": 16,
   "id": "88e88307",
   "metadata": {
    "collapsed": true
   },
   "outputs": [
    {
     "data": {
      "text/plain": [
       "YEAR                    0.000000\n",
       "MONTH                   0.000000\n",
       "DAY                     0.000000\n",
       "DAY_OF_WEEK             0.000000\n",
       "AIRLINE                 0.000000\n",
       "FLIGHT_NUMBER           0.000000\n",
       "TAIL_NUMBER             0.252978\n",
       "ORIGIN_AIRPORT          0.000000\n",
       "DESTINATION_AIRPORT     0.000000\n",
       "SCHEDULED_DEPARTURE     0.000000\n",
       "DEPARTURE_TIME          1.480526\n",
       "DEPARTURE_DELAY         1.480526\n",
       "TAXI_OUT                1.530259\n",
       "WHEELS_OFF              1.530259\n",
       "SCHEDULED_TIME          0.000103\n",
       "ELAPSED_TIME            1.805629\n",
       "AIR_TIME                1.805629\n",
       "DISTANCE                0.000000\n",
       "WHEELS_ON               1.589822\n",
       "TAXI_IN                 1.589822\n",
       "SCHEDULED_ARRIVAL       0.000000\n",
       "ARRIVAL_TIME            1.589822\n",
       "ARRIVAL_DELAY           1.805629\n",
       "DIVERTED                0.000000\n",
       "CANCELLED               0.000000\n",
       "CANCELLATION_REASON    98.455357\n",
       "AIR_SYSTEM_DELAY       81.724960\n",
       "SECURITY_DELAY         81.724960\n",
       "AIRLINE_DELAY          81.724960\n",
       "LATE_AIRCRAFT_DELAY    81.724960\n",
       "WEATHER_DELAY          81.724960\n",
       "dtype: float64"
      ]
     },
     "execution_count": 16,
     "metadata": {},
     "output_type": "execute_result"
    }
   ],
   "source": [
    "# найдем  процентное соотношение нулевых значений\n",
    "flights_null = flights.isnull().sum()*100/flights.shape[0]\n",
    "flights_null"
   ]
  },
  {
   "cell_type": "code",
   "execution_count": null,
   "id": "7a6f8f14",
   "metadata": {},
   "outputs": [],
   "source": [
    "# Удаление подмножества нулевых значений"
   ]
  },
  {
   "cell_type": "code",
   "execution_count": 16,
   "id": "837342a1",
   "metadata": {},
   "outputs": [],
   "source": [
    "flights1 = flights.dropna(subset = [\"TAIL_NUMBER\",'DEPARTURE_TIME','DEPARTURE_DELAY','TAXI_OUT','WHEELS_OFF','SCHEDULED_TIME',\n",
    "             'ELAPSED_TIME','AIR_TIME','WHEELS_ON','TAXI_IN','ARRIVAL_TIME','ARRIVAL_DELAY'])"
   ]
  },
  {
   "cell_type": "code",
   "execution_count": 17,
   "id": "0257ce91",
   "metadata": {},
   "outputs": [
    {
     "data": {
      "text/plain": [
       "(5714008, 31)"
      ]
     },
     "execution_count": 17,
     "metadata": {},
     "output_type": "execute_result"
    }
   ],
   "source": [
    "flights1.shape"
   ]
  },
  {
   "cell_type": "code",
   "execution_count": 18,
   "id": "8cafaf35",
   "metadata": {
    "collapsed": true
   },
   "outputs": [
    {
     "data": {
      "text/plain": [
       "YEAR                         0\n",
       "MONTH                        0\n",
       "DAY                          0\n",
       "DAY_OF_WEEK                  0\n",
       "AIRLINE                      0\n",
       "FLIGHT_NUMBER                0\n",
       "TAIL_NUMBER                  0\n",
       "ORIGIN_AIRPORT               0\n",
       "DESTINATION_AIRPORT          0\n",
       "SCHEDULED_DEPARTURE          0\n",
       "DEPARTURE_TIME               0\n",
       "DEPARTURE_DELAY              0\n",
       "TAXI_OUT                     0\n",
       "WHEELS_OFF                   0\n",
       "SCHEDULED_TIME               0\n",
       "ELAPSED_TIME                 0\n",
       "AIR_TIME                     0\n",
       "DISTANCE                     0\n",
       "WHEELS_ON                    0\n",
       "TAXI_IN                      0\n",
       "SCHEDULED_ARRIVAL            0\n",
       "ARRIVAL_TIME                 0\n",
       "ARRIVAL_DELAY                0\n",
       "DIVERTED                     0\n",
       "CANCELLED                    0\n",
       "CANCELLATION_REASON    5714008\n",
       "AIR_SYSTEM_DELAY       4650569\n",
       "SECURITY_DELAY         4650569\n",
       "AIRLINE_DELAY          4650569\n",
       "LATE_AIRCRAFT_DELAY    4650569\n",
       "WEATHER_DELAY          4650569\n",
       "dtype: int64"
      ]
     },
     "execution_count": 18,
     "metadata": {},
     "output_type": "execute_result"
    }
   ],
   "source": [
    "flights1.isnull().sum()"
   ]
  },
  {
   "cell_type": "code",
   "execution_count": null,
   "id": "3acf3cdb",
   "metadata": {},
   "outputs": [],
   "source": [
    "# Создадим набор данных с различными типами задержек"
   ]
  },
  {
   "cell_type": "code",
   "execution_count": 19,
   "id": "39ccaaa6",
   "metadata": {},
   "outputs": [],
   "source": [
    "Delays = flights1.dropna(subset = ['AIR_SYSTEM_DELAY','SECURITY_DELAY','AIRLINE_DELAY','LATE_AIRCRAFT_DELAY','WEATHER_DELAY'])\n",
    "Delays = flights1.drop(['YEAR','MONTH','DAY','DAY_OF_WEEK','TAIL_NUMBER','SCHEDULED_DEPARTURE','DEPARTURE_TIME','SCHEDULED_TIME',\n",
    "                     'SCHEDULED_ARRIVAL','ARRIVAL_TIME','DIVERTED','CANCELLED','CANCELLATION_REASON','FLIGHT_NUMBER','WHEELS_OFF',\n",
    "                     'WHEELS_ON','AIR_TIME'],axis = 1)"
   ]
  },
  {
   "cell_type": "code",
   "execution_count": 21,
   "id": "dbee271b",
   "metadata": {
    "collapsed": true
   },
   "outputs": [
    {
     "name": "stdout",
     "output_type": "stream",
     "text": [
      "<class 'pandas.core.frame.DataFrame'>\n",
      "Int64Index: 5714008 entries, 0 to 5819078\n",
      "Data columns (total 14 columns):\n",
      " #   Column               Dtype  \n",
      "---  ------               -----  \n",
      " 0   AIRLINE              object \n",
      " 1   ORIGIN_AIRPORT       object \n",
      " 2   DESTINATION_AIRPORT  object \n",
      " 3   DEPARTURE_DELAY      float64\n",
      " 4   TAXI_OUT             float64\n",
      " 5   ELAPSED_TIME         float64\n",
      " 6   DISTANCE             int64  \n",
      " 7   TAXI_IN              float64\n",
      " 8   ARRIVAL_DELAY        float64\n",
      " 9   AIR_SYSTEM_DELAY     float64\n",
      " 10  SECURITY_DELAY       float64\n",
      " 11  AIRLINE_DELAY        float64\n",
      " 12  LATE_AIRCRAFT_DELAY  float64\n",
      " 13  WEATHER_DELAY        float64\n",
      "dtypes: float64(10), int64(1), object(3)\n",
      "memory usage: 653.9+ MB\n"
     ]
    }
   ],
   "source": [
    "Delays.info()"
   ]
  },
  {
   "cell_type": "code",
   "execution_count": null,
   "id": "36cc0589",
   "metadata": {},
   "outputs": [],
   "source": [
    "# Создадим набор данных не учитывая виды задержек и удаляя нулевые значения"
   ]
  },
  {
   "cell_type": "code",
   "execution_count": 20,
   "id": "1b12eea1",
   "metadata": {},
   "outputs": [],
   "source": [
    "Fly = flights1.drop(['CANCELLATION_REASON','AIR_SYSTEM_DELAY','SECURITY_DELAY','AIRLINE_DELAY',\n",
    "                    'LATE_AIRCRAFT_DELAY','WEATHER_DELAY'],axis = 1)"
   ]
  },
  {
   "cell_type": "code",
   "execution_count": 21,
   "id": "93329cfb",
   "metadata": {
    "collapsed": true
   },
   "outputs": [
    {
     "data": {
      "text/plain": [
       "YEAR                   0\n",
       "MONTH                  0\n",
       "DAY                    0\n",
       "DAY_OF_WEEK            0\n",
       "AIRLINE                0\n",
       "FLIGHT_NUMBER          0\n",
       "TAIL_NUMBER            0\n",
       "ORIGIN_AIRPORT         0\n",
       "DESTINATION_AIRPORT    0\n",
       "SCHEDULED_DEPARTURE    0\n",
       "DEPARTURE_TIME         0\n",
       "DEPARTURE_DELAY        0\n",
       "TAXI_OUT               0\n",
       "WHEELS_OFF             0\n",
       "SCHEDULED_TIME         0\n",
       "ELAPSED_TIME           0\n",
       "AIR_TIME               0\n",
       "DISTANCE               0\n",
       "WHEELS_ON              0\n",
       "TAXI_IN                0\n",
       "SCHEDULED_ARRIVAL      0\n",
       "ARRIVAL_TIME           0\n",
       "ARRIVAL_DELAY          0\n",
       "DIVERTED               0\n",
       "CANCELLED              0\n",
       "dtype: int64"
      ]
     },
     "execution_count": 21,
     "metadata": {},
     "output_type": "execute_result"
    }
   ],
   "source": [
    "Fly.isnull().sum()"
   ]
  },
  {
   "cell_type": "code",
   "execution_count": 22,
   "id": "d97327c4",
   "metadata": {
    "collapsed": true
   },
   "outputs": [
    {
     "name": "stdout",
     "output_type": "stream",
     "text": [
      "<class 'pandas.core.frame.DataFrame'>\n",
      "Int64Index: 5714008 entries, 0 to 5819078\n",
      "Data columns (total 25 columns):\n",
      " #   Column               Dtype  \n",
      "---  ------               -----  \n",
      " 0   YEAR                 int64  \n",
      " 1   MONTH                int64  \n",
      " 2   DAY                  int64  \n",
      " 3   DAY_OF_WEEK          int64  \n",
      " 4   AIRLINE              object \n",
      " 5   FLIGHT_NUMBER        int64  \n",
      " 6   TAIL_NUMBER          object \n",
      " 7   ORIGIN_AIRPORT       object \n",
      " 8   DESTINATION_AIRPORT  object \n",
      " 9   SCHEDULED_DEPARTURE  int64  \n",
      " 10  DEPARTURE_TIME       float64\n",
      " 11  DEPARTURE_DELAY      float64\n",
      " 12  TAXI_OUT             float64\n",
      " 13  WHEELS_OFF           float64\n",
      " 14  SCHEDULED_TIME       float64\n",
      " 15  ELAPSED_TIME         float64\n",
      " 16  AIR_TIME             float64\n",
      " 17  DISTANCE             int64  \n",
      " 18  WHEELS_ON            float64\n",
      " 19  TAXI_IN              float64\n",
      " 20  SCHEDULED_ARRIVAL    int64  \n",
      " 21  ARRIVAL_TIME         float64\n",
      " 22  ARRIVAL_DELAY        float64\n",
      " 23  DIVERTED             int64  \n",
      " 24  CANCELLED            int64  \n",
      "dtypes: float64(11), int64(10), object(4)\n",
      "memory usage: 1.1+ GB\n"
     ]
    }
   ],
   "source": [
    "Fly.info()"
   ]
  },
  {
   "cell_type": "code",
   "execution_count": 23,
   "id": "688191a4",
   "metadata": {},
   "outputs": [
    {
     "data": {
      "text/plain": [
       "0"
      ]
     },
     "execution_count": 23,
     "metadata": {},
     "output_type": "execute_result"
    }
   ],
   "source": [
    "Fly.DEPARTURE_TIME.isnull().sum()"
   ]
  },
  {
   "cell_type": "code",
   "execution_count": 24,
   "id": "011730b8",
   "metadata": {},
   "outputs": [
    {
     "data": {
      "text/plain": [
       "dtype('float64')"
      ]
     },
     "execution_count": 24,
     "metadata": {},
     "output_type": "execute_result"
    }
   ],
   "source": [
    "Fly.DEPARTURE_TIME.dtype"
   ]
  },
  {
   "cell_type": "code",
   "execution_count": 25,
   "id": "389db492",
   "metadata": {
    "scrolled": true
   },
   "outputs": [
    {
     "data": {
      "text/plain": [
       "0          2354.0\n",
       "1             2.0\n",
       "2            18.0\n",
       "3            15.0\n",
       "4            24.0\n",
       "            ...  \n",
       "5819074    2355.0\n",
       "5819075    2355.0\n",
       "5819076    2350.0\n",
       "5819077    2353.0\n",
       "5819078      14.0\n",
       "Name: DEPARTURE_TIME, Length: 5714008, dtype: float64"
      ]
     },
     "execution_count": 25,
     "metadata": {},
     "output_type": "execute_result"
    }
   ],
   "source": [
    "Fly.DEPARTURE_TIME"
   ]
  },
  {
   "cell_type": "code",
   "execution_count": null,
   "id": "514e61e6",
   "metadata": {},
   "outputs": [],
   "source": [
    "# Данный формат времени не удобен для анализа, поэтому переведем в формат даты времени"
   ]
  },
  {
   "cell_type": "code",
   "execution_count": 26,
   "id": "1c5222f1",
   "metadata": {},
   "outputs": [],
   "source": [
    "def Format_Hourmin(hours):\n",
    "        if hours == 2400:\n",
    "            hours = 0\n",
    "        else:\n",
    "            hours = \"{0:04d}\".format(int(hours))\n",
    "            Hourmin = datetime.time(int(hours[0:2]), int(hours[2:4]))\n",
    "            return Hourmin"
   ]
  },
  {
   "cell_type": "code",
   "execution_count": 27,
   "id": "be04233b",
   "metadata": {},
   "outputs": [
    {
     "data": {
      "text/plain": [
       "0          23:54:00\n",
       "1          00:02:00\n",
       "2          00:18:00\n",
       "3          00:15:00\n",
       "4          00:24:00\n",
       "             ...   \n",
       "5819074    23:55:00\n",
       "5819075    23:55:00\n",
       "5819076    23:50:00\n",
       "5819077    23:53:00\n",
       "5819078    00:14:00\n",
       "Name: DEPARTURE_TIME, Length: 5714008, dtype: object"
      ]
     },
     "execution_count": 27,
     "metadata": {},
     "output_type": "execute_result"
    }
   ],
   "source": [
    "Fly['DEPARTURE_TIME'] =flights1['DEPARTURE_TIME'].apply(Format_Hourmin)\n",
    "Fly['DEPARTURE_TIME']"
   ]
  },
  {
   "cell_type": "code",
   "execution_count": null,
   "id": "46fe7ecb",
   "metadata": {},
   "outputs": [],
   "source": [
    "# Перевод в формат даты"
   ]
  },
  {
   "cell_type": "code",
   "execution_count": 28,
   "id": "e02ff081",
   "metadata": {},
   "outputs": [
    {
     "data": {
      "text/plain": [
       "0         2015-01-01\n",
       "1         2015-01-01\n",
       "2         2015-01-01\n",
       "3         2015-01-01\n",
       "4         2015-01-01\n",
       "             ...    \n",
       "5819074   2015-12-31\n",
       "5819075   2015-12-31\n",
       "5819076   2015-12-31\n",
       "5819077   2015-12-31\n",
       "5819078   2015-12-31\n",
       "Name: Date, Length: 5714008, dtype: datetime64[ns]"
      ]
     },
     "execution_count": 28,
     "metadata": {},
     "output_type": "execute_result"
    }
   ],
   "source": [
    "Fly['Date'] = pd.to_datetime(Fly[['YEAR','MONTH','DAY']])\n",
    "Fly.Date"
   ]
  },
  {
   "cell_type": "code",
   "execution_count": 29,
   "id": "b77723e2",
   "metadata": {},
   "outputs": [],
   "source": [
    "Fly['DEPARTURE_TIME'] =flights1['DEPARTURE_TIME'].apply(Format_Hourmin)\n",
    "Fly['SCHEDULED_ARRIVAL'] =flights1['SCHEDULED_ARRIVAL'].apply(Format_Hourmin)\n",
    "Fly['ARRIVAL_TIME'] =flights1['ARRIVAL_TIME'].apply(Format_Hourmin)\n",
    "Fly['SCHEDULED_DEPARTURE'] =flights1['SCHEDULED_DEPARTURE'].apply(Format_Hourmin)"
   ]
  },
  {
   "cell_type": "code",
   "execution_count": 30,
   "id": "d4083b2d",
   "metadata": {},
   "outputs": [
    {
     "data": {
      "text/plain": [
       "0          00:05:00\n",
       "1          00:10:00\n",
       "2          00:20:00\n",
       "3          00:20:00\n",
       "4          00:25:00\n",
       "             ...   \n",
       "5819074    23:59:00\n",
       "5819075    23:59:00\n",
       "5819076    23:59:00\n",
       "5819077    23:59:00\n",
       "5819078    23:59:00\n",
       "Name: SCHEDULED_DEPARTURE, Length: 5714008, dtype: object"
      ]
     },
     "execution_count": 30,
     "metadata": {},
     "output_type": "execute_result"
    }
   ],
   "source": [
    "Fly.SCHEDULED_DEPARTURE"
   ]
  },
  {
   "cell_type": "code",
   "execution_count": null,
   "id": "dff5d86c",
   "metadata": {},
   "outputs": [],
   "source": [
    "# Объединим три базы данных для лучшего анализа"
   ]
  },
  {
   "cell_type": "code",
   "execution_count": 31,
   "id": "baa1eae9",
   "metadata": {},
   "outputs": [],
   "source": [
    "# Объединим с данными Airlines\n",
    "Fly = Fly.merge(airlines, left_on='AIRLINE', right_on='IATA_CODE', how='inner')"
   ]
  },
  {
   "cell_type": "code",
   "execution_count": 32,
   "id": "86338f9d",
   "metadata": {},
   "outputs": [],
   "source": [
    "Fly = Fly.drop(['AIRLINE_x','IATA_CODE'], axis=1)"
   ]
  },
  {
   "cell_type": "code",
   "execution_count": 33,
   "id": "f29183e1",
   "metadata": {},
   "outputs": [],
   "source": [
    "Fly = Fly.rename(columns={\"AIRLINE_y\":\"AIRLINE\"})"
   ]
  },
  {
   "cell_type": "code",
   "execution_count": null,
   "id": "1d29dc6d",
   "metadata": {},
   "outputs": [],
   "source": [
    "# Объединяем данные с таблицей Airports"
   ]
  },
  {
   "cell_type": "code",
   "execution_count": 34,
   "id": "528e6e65",
   "metadata": {},
   "outputs": [],
   "source": [
    "Fly = Fly.merge(airports, left_on='ORIGIN_AIRPORT', right_on='IATA_CODE', how='inner')\n",
    "Fly = Fly.merge(airports, left_on='DESTINATION_AIRPORT', right_on='IATA_CODE', how='inner')"
   ]
  },
  {
   "cell_type": "code",
   "execution_count": 35,
   "id": "eabfa538",
   "metadata": {},
   "outputs": [
    {
     "data": {
      "text/plain": [
       "Index(['YEAR', 'MONTH', 'DAY', 'DAY_OF_WEEK', 'FLIGHT_NUMBER', 'TAIL_NUMBER',\n",
       "       'ORIGIN_AIRPORT', 'DESTINATION_AIRPORT', 'SCHEDULED_DEPARTURE',\n",
       "       'DEPARTURE_TIME', 'DEPARTURE_DELAY', 'TAXI_OUT', 'WHEELS_OFF',\n",
       "       'SCHEDULED_TIME', 'ELAPSED_TIME', 'AIR_TIME', 'DISTANCE', 'WHEELS_ON',\n",
       "       'TAXI_IN', 'SCHEDULED_ARRIVAL', 'ARRIVAL_TIME', 'ARRIVAL_DELAY',\n",
       "       'DIVERTED', 'CANCELLED', 'Date', 'AIRLINE', 'IATA_CODE_x', 'AIRPORT_x',\n",
       "       'CITY_x', 'STATE_x', 'COUNTRY_x', 'LATITUDE_x', 'LONGITUDE_x',\n",
       "       'IATA_CODE_y', 'AIRPORT_y', 'CITY_y', 'STATE_y', 'COUNTRY_y',\n",
       "       'LATITUDE_y', 'LONGITUDE_y'],\n",
       "      dtype='object')"
      ]
     },
     "execution_count": 35,
     "metadata": {},
     "output_type": "execute_result"
    }
   ],
   "source": [
    "Fly.columns"
   ]
  },
  {
   "cell_type": "code",
   "execution_count": 36,
   "id": "d91bff20",
   "metadata": {},
   "outputs": [],
   "source": [
    "Fly = Fly.drop(['LATITUDE_x', 'LONGITUDE_x', 'STATE_y', 'COUNTRY_y', 'LATITUDE_y', 'LONGITUDE_y','STATE_x', 'COUNTRY_x'], axis=1)"
   ]
  },
  {
   "cell_type": "code",
   "execution_count": 37,
   "id": "71d0d9aa",
   "metadata": {},
   "outputs": [],
   "source": [
    "Fly = Fly.rename(columns={'IATA_CODE_x':'Airport_Code','AIRPORT_x':'Airport_Name','CITY_x':'Airport_City',\n",
    "                             'IATA_CODE_y':'Destination_Airport_Code','AIRPORT_y':'Destination_Airport_Name','CITY_y':'Destination_City'})"
   ]
  },
  {
   "cell_type": "code",
   "execution_count": 38,
   "id": "502c5dca",
   "metadata": {},
   "outputs": [
    {
     "data": {
      "text/html": [
       "<div>\n",
       "<style scoped>\n",
       "    .dataframe tbody tr th:only-of-type {\n",
       "        vertical-align: middle;\n",
       "    }\n",
       "\n",
       "    .dataframe tbody tr th {\n",
       "        vertical-align: top;\n",
       "    }\n",
       "\n",
       "    .dataframe thead th {\n",
       "        text-align: right;\n",
       "    }\n",
       "</style>\n",
       "<table border=\"1\" class=\"dataframe\">\n",
       "  <thead>\n",
       "    <tr style=\"text-align: right;\">\n",
       "      <th></th>\n",
       "      <th>YEAR</th>\n",
       "      <th>MONTH</th>\n",
       "      <th>DAY</th>\n",
       "      <th>DAY_OF_WEEK</th>\n",
       "      <th>FLIGHT_NUMBER</th>\n",
       "      <th>TAIL_NUMBER</th>\n",
       "      <th>ORIGIN_AIRPORT</th>\n",
       "      <th>DESTINATION_AIRPORT</th>\n",
       "      <th>SCHEDULED_DEPARTURE</th>\n",
       "      <th>DEPARTURE_TIME</th>\n",
       "      <th>...</th>\n",
       "      <th>DIVERTED</th>\n",
       "      <th>CANCELLED</th>\n",
       "      <th>Date</th>\n",
       "      <th>AIRLINE</th>\n",
       "      <th>Airport_Code</th>\n",
       "      <th>Airport_Name</th>\n",
       "      <th>Airport_City</th>\n",
       "      <th>Destination_Airport_Code</th>\n",
       "      <th>Destination_Airport_Name</th>\n",
       "      <th>Destination_City</th>\n",
       "    </tr>\n",
       "  </thead>\n",
       "  <tbody>\n",
       "    <tr>\n",
       "      <th>0</th>\n",
       "      <td>2015</td>\n",
       "      <td>1</td>\n",
       "      <td>1</td>\n",
       "      <td>4</td>\n",
       "      <td>98</td>\n",
       "      <td>N407AS</td>\n",
       "      <td>ANC</td>\n",
       "      <td>SEA</td>\n",
       "      <td>00:05:00</td>\n",
       "      <td>23:54:00</td>\n",
       "      <td>...</td>\n",
       "      <td>0</td>\n",
       "      <td>0</td>\n",
       "      <td>2015-01-01</td>\n",
       "      <td>Alaska Airlines Inc.</td>\n",
       "      <td>ANC</td>\n",
       "      <td>Ted Stevens Anchorage International Airport</td>\n",
       "      <td>Anchorage</td>\n",
       "      <td>SEA</td>\n",
       "      <td>Seattle-Tacoma International Airport</td>\n",
       "      <td>Seattle</td>\n",
       "    </tr>\n",
       "    <tr>\n",
       "      <th>1</th>\n",
       "      <td>2015</td>\n",
       "      <td>1</td>\n",
       "      <td>1</td>\n",
       "      <td>4</td>\n",
       "      <td>108</td>\n",
       "      <td>N309AS</td>\n",
       "      <td>ANC</td>\n",
       "      <td>SEA</td>\n",
       "      <td>00:45:00</td>\n",
       "      <td>00:41:00</td>\n",
       "      <td>...</td>\n",
       "      <td>0</td>\n",
       "      <td>0</td>\n",
       "      <td>2015-01-01</td>\n",
       "      <td>Alaska Airlines Inc.</td>\n",
       "      <td>ANC</td>\n",
       "      <td>Ted Stevens Anchorage International Airport</td>\n",
       "      <td>Anchorage</td>\n",
       "      <td>SEA</td>\n",
       "      <td>Seattle-Tacoma International Airport</td>\n",
       "      <td>Seattle</td>\n",
       "    </tr>\n",
       "    <tr>\n",
       "      <th>2</th>\n",
       "      <td>2015</td>\n",
       "      <td>1</td>\n",
       "      <td>1</td>\n",
       "      <td>4</td>\n",
       "      <td>134</td>\n",
       "      <td>N464AS</td>\n",
       "      <td>ANC</td>\n",
       "      <td>SEA</td>\n",
       "      <td>01:55:00</td>\n",
       "      <td>01:40:00</td>\n",
       "      <td>...</td>\n",
       "      <td>0</td>\n",
       "      <td>0</td>\n",
       "      <td>2015-01-01</td>\n",
       "      <td>Alaska Airlines Inc.</td>\n",
       "      <td>ANC</td>\n",
       "      <td>Ted Stevens Anchorage International Airport</td>\n",
       "      <td>Anchorage</td>\n",
       "      <td>SEA</td>\n",
       "      <td>Seattle-Tacoma International Airport</td>\n",
       "      <td>Seattle</td>\n",
       "    </tr>\n",
       "    <tr>\n",
       "      <th>3</th>\n",
       "      <td>2015</td>\n",
       "      <td>1</td>\n",
       "      <td>1</td>\n",
       "      <td>4</td>\n",
       "      <td>114</td>\n",
       "      <td>N303AS</td>\n",
       "      <td>ANC</td>\n",
       "      <td>SEA</td>\n",
       "      <td>02:20:00</td>\n",
       "      <td>02:09:00</td>\n",
       "      <td>...</td>\n",
       "      <td>0</td>\n",
       "      <td>0</td>\n",
       "      <td>2015-01-01</td>\n",
       "      <td>Alaska Airlines Inc.</td>\n",
       "      <td>ANC</td>\n",
       "      <td>Ted Stevens Anchorage International Airport</td>\n",
       "      <td>Anchorage</td>\n",
       "      <td>SEA</td>\n",
       "      <td>Seattle-Tacoma International Airport</td>\n",
       "      <td>Seattle</td>\n",
       "    </tr>\n",
       "    <tr>\n",
       "      <th>4</th>\n",
       "      <td>2015</td>\n",
       "      <td>1</td>\n",
       "      <td>1</td>\n",
       "      <td>4</td>\n",
       "      <td>730</td>\n",
       "      <td>N423AS</td>\n",
       "      <td>ANC</td>\n",
       "      <td>SEA</td>\n",
       "      <td>05:05:00</td>\n",
       "      <td>04:57:00</td>\n",
       "      <td>...</td>\n",
       "      <td>0</td>\n",
       "      <td>0</td>\n",
       "      <td>2015-01-01</td>\n",
       "      <td>Alaska Airlines Inc.</td>\n",
       "      <td>ANC</td>\n",
       "      <td>Ted Stevens Anchorage International Airport</td>\n",
       "      <td>Anchorage</td>\n",
       "      <td>SEA</td>\n",
       "      <td>Seattle-Tacoma International Airport</td>\n",
       "      <td>Seattle</td>\n",
       "    </tr>\n",
       "    <tr>\n",
       "      <th>...</th>\n",
       "      <td>...</td>\n",
       "      <td>...</td>\n",
       "      <td>...</td>\n",
       "      <td>...</td>\n",
       "      <td>...</td>\n",
       "      <td>...</td>\n",
       "      <td>...</td>\n",
       "      <td>...</td>\n",
       "      <td>...</td>\n",
       "      <td>...</td>\n",
       "      <td>...</td>\n",
       "      <td>...</td>\n",
       "      <td>...</td>\n",
       "      <td>...</td>\n",
       "      <td>...</td>\n",
       "      <td>...</td>\n",
       "      <td>...</td>\n",
       "      <td>...</td>\n",
       "      <td>...</td>\n",
       "      <td>...</td>\n",
       "      <td>...</td>\n",
       "    </tr>\n",
       "    <tr>\n",
       "      <th>5221995</th>\n",
       "      <td>2015</td>\n",
       "      <td>12</td>\n",
       "      <td>29</td>\n",
       "      <td>2</td>\n",
       "      <td>2734</td>\n",
       "      <td>N884AS</td>\n",
       "      <td>MEI</td>\n",
       "      <td>PIB</td>\n",
       "      <td>20:46:00</td>\n",
       "      <td>20:37:00</td>\n",
       "      <td>...</td>\n",
       "      <td>0</td>\n",
       "      <td>0</td>\n",
       "      <td>2015-12-29</td>\n",
       "      <td>Atlantic Southeast Airlines</td>\n",
       "      <td>MEI</td>\n",
       "      <td>Meridian Regional Airport</td>\n",
       "      <td>Meridian</td>\n",
       "      <td>PIB</td>\n",
       "      <td>Hattiesburg-Laurel Regional Airport</td>\n",
       "      <td>Hattiesburg-Laurel</td>\n",
       "    </tr>\n",
       "    <tr>\n",
       "      <th>5221996</th>\n",
       "      <td>2015</td>\n",
       "      <td>12</td>\n",
       "      <td>30</td>\n",
       "      <td>3</td>\n",
       "      <td>2730</td>\n",
       "      <td>N880AS</td>\n",
       "      <td>MEI</td>\n",
       "      <td>PIB</td>\n",
       "      <td>14:35:00</td>\n",
       "      <td>16:16:00</td>\n",
       "      <td>...</td>\n",
       "      <td>0</td>\n",
       "      <td>0</td>\n",
       "      <td>2015-12-30</td>\n",
       "      <td>Atlantic Southeast Airlines</td>\n",
       "      <td>MEI</td>\n",
       "      <td>Meridian Regional Airport</td>\n",
       "      <td>Meridian</td>\n",
       "      <td>PIB</td>\n",
       "      <td>Hattiesburg-Laurel Regional Airport</td>\n",
       "      <td>Hattiesburg-Laurel</td>\n",
       "    </tr>\n",
       "    <tr>\n",
       "      <th>5221997</th>\n",
       "      <td>2015</td>\n",
       "      <td>12</td>\n",
       "      <td>30</td>\n",
       "      <td>3</td>\n",
       "      <td>2734</td>\n",
       "      <td>N907EV</td>\n",
       "      <td>MEI</td>\n",
       "      <td>PIB</td>\n",
       "      <td>20:46:00</td>\n",
       "      <td>20:56:00</td>\n",
       "      <td>...</td>\n",
       "      <td>0</td>\n",
       "      <td>0</td>\n",
       "      <td>2015-12-30</td>\n",
       "      <td>Atlantic Southeast Airlines</td>\n",
       "      <td>MEI</td>\n",
       "      <td>Meridian Regional Airport</td>\n",
       "      <td>Meridian</td>\n",
       "      <td>PIB</td>\n",
       "      <td>Hattiesburg-Laurel Regional Airport</td>\n",
       "      <td>Hattiesburg-Laurel</td>\n",
       "    </tr>\n",
       "    <tr>\n",
       "      <th>5221998</th>\n",
       "      <td>2015</td>\n",
       "      <td>12</td>\n",
       "      <td>31</td>\n",
       "      <td>4</td>\n",
       "      <td>2730</td>\n",
       "      <td>N907EV</td>\n",
       "      <td>MEI</td>\n",
       "      <td>PIB</td>\n",
       "      <td>14:35:00</td>\n",
       "      <td>14:21:00</td>\n",
       "      <td>...</td>\n",
       "      <td>0</td>\n",
       "      <td>0</td>\n",
       "      <td>2015-12-31</td>\n",
       "      <td>Atlantic Southeast Airlines</td>\n",
       "      <td>MEI</td>\n",
       "      <td>Meridian Regional Airport</td>\n",
       "      <td>Meridian</td>\n",
       "      <td>PIB</td>\n",
       "      <td>Hattiesburg-Laurel Regional Airport</td>\n",
       "      <td>Hattiesburg-Laurel</td>\n",
       "    </tr>\n",
       "    <tr>\n",
       "      <th>5221999</th>\n",
       "      <td>2015</td>\n",
       "      <td>12</td>\n",
       "      <td>31</td>\n",
       "      <td>4</td>\n",
       "      <td>2734</td>\n",
       "      <td>N907EV</td>\n",
       "      <td>MEI</td>\n",
       "      <td>PIB</td>\n",
       "      <td>20:46:00</td>\n",
       "      <td>20:20:00</td>\n",
       "      <td>...</td>\n",
       "      <td>0</td>\n",
       "      <td>0</td>\n",
       "      <td>2015-12-31</td>\n",
       "      <td>Atlantic Southeast Airlines</td>\n",
       "      <td>MEI</td>\n",
       "      <td>Meridian Regional Airport</td>\n",
       "      <td>Meridian</td>\n",
       "      <td>PIB</td>\n",
       "      <td>Hattiesburg-Laurel Regional Airport</td>\n",
       "      <td>Hattiesburg-Laurel</td>\n",
       "    </tr>\n",
       "  </tbody>\n",
       "</table>\n",
       "<p>5222000 rows × 32 columns</p>\n",
       "</div>"
      ],
      "text/plain": [
       "         YEAR  MONTH  DAY  DAY_OF_WEEK  FLIGHT_NUMBER TAIL_NUMBER  \\\n",
       "0        2015      1    1            4             98      N407AS   \n",
       "1        2015      1    1            4            108      N309AS   \n",
       "2        2015      1    1            4            134      N464AS   \n",
       "3        2015      1    1            4            114      N303AS   \n",
       "4        2015      1    1            4            730      N423AS   \n",
       "...       ...    ...  ...          ...            ...         ...   \n",
       "5221995  2015     12   29            2           2734      N884AS   \n",
       "5221996  2015     12   30            3           2730      N880AS   \n",
       "5221997  2015     12   30            3           2734      N907EV   \n",
       "5221998  2015     12   31            4           2730      N907EV   \n",
       "5221999  2015     12   31            4           2734      N907EV   \n",
       "\n",
       "        ORIGIN_AIRPORT DESTINATION_AIRPORT SCHEDULED_DEPARTURE DEPARTURE_TIME  \\\n",
       "0                  ANC                 SEA            00:05:00       23:54:00   \n",
       "1                  ANC                 SEA            00:45:00       00:41:00   \n",
       "2                  ANC                 SEA            01:55:00       01:40:00   \n",
       "3                  ANC                 SEA            02:20:00       02:09:00   \n",
       "4                  ANC                 SEA            05:05:00       04:57:00   \n",
       "...                ...                 ...                 ...            ...   \n",
       "5221995            MEI                 PIB            20:46:00       20:37:00   \n",
       "5221996            MEI                 PIB            14:35:00       16:16:00   \n",
       "5221997            MEI                 PIB            20:46:00       20:56:00   \n",
       "5221998            MEI                 PIB            14:35:00       14:21:00   \n",
       "5221999            MEI                 PIB            20:46:00       20:20:00   \n",
       "\n",
       "         ...  DIVERTED  CANCELLED       Date                      AIRLINE  \\\n",
       "0        ...         0          0 2015-01-01         Alaska Airlines Inc.   \n",
       "1        ...         0          0 2015-01-01         Alaska Airlines Inc.   \n",
       "2        ...         0          0 2015-01-01         Alaska Airlines Inc.   \n",
       "3        ...         0          0 2015-01-01         Alaska Airlines Inc.   \n",
       "4        ...         0          0 2015-01-01         Alaska Airlines Inc.   \n",
       "...      ...       ...        ...        ...                          ...   \n",
       "5221995  ...         0          0 2015-12-29  Atlantic Southeast Airlines   \n",
       "5221996  ...         0          0 2015-12-30  Atlantic Southeast Airlines   \n",
       "5221997  ...         0          0 2015-12-30  Atlantic Southeast Airlines   \n",
       "5221998  ...         0          0 2015-12-31  Atlantic Southeast Airlines   \n",
       "5221999  ...         0          0 2015-12-31  Atlantic Southeast Airlines   \n",
       "\n",
       "         Airport_Code                                 Airport_Name  \\\n",
       "0                 ANC  Ted Stevens Anchorage International Airport   \n",
       "1                 ANC  Ted Stevens Anchorage International Airport   \n",
       "2                 ANC  Ted Stevens Anchorage International Airport   \n",
       "3                 ANC  Ted Stevens Anchorage International Airport   \n",
       "4                 ANC  Ted Stevens Anchorage International Airport   \n",
       "...               ...                                          ...   \n",
       "5221995           MEI                    Meridian Regional Airport   \n",
       "5221996           MEI                    Meridian Regional Airport   \n",
       "5221997           MEI                    Meridian Regional Airport   \n",
       "5221998           MEI                    Meridian Regional Airport   \n",
       "5221999           MEI                    Meridian Regional Airport   \n",
       "\n",
       "         Airport_City  Destination_Airport_Code  \\\n",
       "0           Anchorage                       SEA   \n",
       "1           Anchorage                       SEA   \n",
       "2           Anchorage                       SEA   \n",
       "3           Anchorage                       SEA   \n",
       "4           Anchorage                       SEA   \n",
       "...               ...                       ...   \n",
       "5221995      Meridian                       PIB   \n",
       "5221996      Meridian                       PIB   \n",
       "5221997      Meridian                       PIB   \n",
       "5221998      Meridian                       PIB   \n",
       "5221999      Meridian                       PIB   \n",
       "\n",
       "                     Destination_Airport_Name    Destination_City  \n",
       "0        Seattle-Tacoma International Airport             Seattle  \n",
       "1        Seattle-Tacoma International Airport             Seattle  \n",
       "2        Seattle-Tacoma International Airport             Seattle  \n",
       "3        Seattle-Tacoma International Airport             Seattle  \n",
       "4        Seattle-Tacoma International Airport             Seattle  \n",
       "...                                       ...                 ...  \n",
       "5221995   Hattiesburg-Laurel Regional Airport  Hattiesburg-Laurel  \n",
       "5221996   Hattiesburg-Laurel Regional Airport  Hattiesburg-Laurel  \n",
       "5221997   Hattiesburg-Laurel Regional Airport  Hattiesburg-Laurel  \n",
       "5221998   Hattiesburg-Laurel Regional Airport  Hattiesburg-Laurel  \n",
       "5221999   Hattiesburg-Laurel Regional Airport  Hattiesburg-Laurel  \n",
       "\n",
       "[5222000 rows x 32 columns]"
      ]
     },
     "execution_count": 38,
     "metadata": {},
     "output_type": "execute_result"
    }
   ],
   "source": [
    "Fly"
   ]
  },
  {
   "cell_type": "code",
   "execution_count": 39,
   "id": "1014a4eb",
   "metadata": {},
   "outputs": [],
   "source": [
    "New_Fly = pd.DataFrame(Fly[['Date', 'AIRLINE', 'ORIGIN_AIRPORT', 'Airport_Name','Airport_City', 'DESTINATION_AIRPORT',\n",
    "                               'Destination_Airport_Name','Destination_City','SCHEDULED_DEPARTURE', 'DEPARTURE_TIME',\n",
    "                               'DEPARTURE_DELAY','ARRIVAL_TIME','SCHEDULED_ARRIVAL','ARRIVAL_DELAY',\n",
    "                              'SCHEDULED_TIME','ELAPSED_TIME','DISTANCE','AIR_TIME','TAXI_IN','TAXI_OUT']])"
   ]
  },
  {
   "cell_type": "code",
   "execution_count": 40,
   "id": "7af63b33",
   "metadata": {},
   "outputs": [
    {
     "data": {
      "text/html": [
       "<div>\n",
       "<style scoped>\n",
       "    .dataframe tbody tr th:only-of-type {\n",
       "        vertical-align: middle;\n",
       "    }\n",
       "\n",
       "    .dataframe tbody tr th {\n",
       "        vertical-align: top;\n",
       "    }\n",
       "\n",
       "    .dataframe thead th {\n",
       "        text-align: right;\n",
       "    }\n",
       "</style>\n",
       "<table border=\"1\" class=\"dataframe\">\n",
       "  <thead>\n",
       "    <tr style=\"text-align: right;\">\n",
       "      <th></th>\n",
       "      <th>Date</th>\n",
       "      <th>AIRLINE</th>\n",
       "      <th>ORIGIN_AIRPORT</th>\n",
       "      <th>Airport_Name</th>\n",
       "      <th>Airport_City</th>\n",
       "      <th>DESTINATION_AIRPORT</th>\n",
       "      <th>Destination_Airport_Name</th>\n",
       "      <th>Destination_City</th>\n",
       "      <th>SCHEDULED_DEPARTURE</th>\n",
       "      <th>DEPARTURE_TIME</th>\n",
       "      <th>DEPARTURE_DELAY</th>\n",
       "      <th>ARRIVAL_TIME</th>\n",
       "      <th>SCHEDULED_ARRIVAL</th>\n",
       "      <th>ARRIVAL_DELAY</th>\n",
       "      <th>SCHEDULED_TIME</th>\n",
       "      <th>ELAPSED_TIME</th>\n",
       "      <th>DISTANCE</th>\n",
       "      <th>AIR_TIME</th>\n",
       "      <th>TAXI_IN</th>\n",
       "      <th>TAXI_OUT</th>\n",
       "    </tr>\n",
       "  </thead>\n",
       "  <tbody>\n",
       "    <tr>\n",
       "      <th>0</th>\n",
       "      <td>2015-01-01</td>\n",
       "      <td>Alaska Airlines Inc.</td>\n",
       "      <td>ANC</td>\n",
       "      <td>Ted Stevens Anchorage International Airport</td>\n",
       "      <td>Anchorage</td>\n",
       "      <td>SEA</td>\n",
       "      <td>Seattle-Tacoma International Airport</td>\n",
       "      <td>Seattle</td>\n",
       "      <td>00:05:00</td>\n",
       "      <td>23:54:00</td>\n",
       "      <td>-11.0</td>\n",
       "      <td>04:08:00</td>\n",
       "      <td>04:30:00</td>\n",
       "      <td>-22.0</td>\n",
       "      <td>205.0</td>\n",
       "      <td>194.0</td>\n",
       "      <td>1448</td>\n",
       "      <td>169.0</td>\n",
       "      <td>4.0</td>\n",
       "      <td>21.0</td>\n",
       "    </tr>\n",
       "    <tr>\n",
       "      <th>1</th>\n",
       "      <td>2015-01-01</td>\n",
       "      <td>Alaska Airlines Inc.</td>\n",
       "      <td>ANC</td>\n",
       "      <td>Ted Stevens Anchorage International Airport</td>\n",
       "      <td>Anchorage</td>\n",
       "      <td>SEA</td>\n",
       "      <td>Seattle-Tacoma International Airport</td>\n",
       "      <td>Seattle</td>\n",
       "      <td>00:45:00</td>\n",
       "      <td>00:41:00</td>\n",
       "      <td>-4.0</td>\n",
       "      <td>04:55:00</td>\n",
       "      <td>05:09:00</td>\n",
       "      <td>-14.0</td>\n",
       "      <td>204.0</td>\n",
       "      <td>194.0</td>\n",
       "      <td>1448</td>\n",
       "      <td>173.0</td>\n",
       "      <td>4.0</td>\n",
       "      <td>17.0</td>\n",
       "    </tr>\n",
       "    <tr>\n",
       "      <th>2</th>\n",
       "      <td>2015-01-01</td>\n",
       "      <td>Alaska Airlines Inc.</td>\n",
       "      <td>ANC</td>\n",
       "      <td>Ted Stevens Anchorage International Airport</td>\n",
       "      <td>Anchorage</td>\n",
       "      <td>SEA</td>\n",
       "      <td>Seattle-Tacoma International Airport</td>\n",
       "      <td>Seattle</td>\n",
       "      <td>01:55:00</td>\n",
       "      <td>01:40:00</td>\n",
       "      <td>-15.0</td>\n",
       "      <td>05:58:00</td>\n",
       "      <td>06:33:00</td>\n",
       "      <td>-35.0</td>\n",
       "      <td>218.0</td>\n",
       "      <td>198.0</td>\n",
       "      <td>1448</td>\n",
       "      <td>170.0</td>\n",
       "      <td>11.0</td>\n",
       "      <td>17.0</td>\n",
       "    </tr>\n",
       "    <tr>\n",
       "      <th>3</th>\n",
       "      <td>2015-01-01</td>\n",
       "      <td>Alaska Airlines Inc.</td>\n",
       "      <td>ANC</td>\n",
       "      <td>Ted Stevens Anchorage International Airport</td>\n",
       "      <td>Anchorage</td>\n",
       "      <td>SEA</td>\n",
       "      <td>Seattle-Tacoma International Airport</td>\n",
       "      <td>Seattle</td>\n",
       "      <td>02:20:00</td>\n",
       "      <td>02:09:00</td>\n",
       "      <td>-11.0</td>\n",
       "      <td>06:28:00</td>\n",
       "      <td>06:40:00</td>\n",
       "      <td>-12.0</td>\n",
       "      <td>200.0</td>\n",
       "      <td>199.0</td>\n",
       "      <td>1448</td>\n",
       "      <td>176.0</td>\n",
       "      <td>8.0</td>\n",
       "      <td>15.0</td>\n",
       "    </tr>\n",
       "    <tr>\n",
       "      <th>4</th>\n",
       "      <td>2015-01-01</td>\n",
       "      <td>Alaska Airlines Inc.</td>\n",
       "      <td>ANC</td>\n",
       "      <td>Ted Stevens Anchorage International Airport</td>\n",
       "      <td>Anchorage</td>\n",
       "      <td>SEA</td>\n",
       "      <td>Seattle-Tacoma International Airport</td>\n",
       "      <td>Seattle</td>\n",
       "      <td>05:05:00</td>\n",
       "      <td>04:57:00</td>\n",
       "      <td>-8.0</td>\n",
       "      <td>09:16:00</td>\n",
       "      <td>09:30:00</td>\n",
       "      <td>-14.0</td>\n",
       "      <td>205.0</td>\n",
       "      <td>199.0</td>\n",
       "      <td>1448</td>\n",
       "      <td>179.0</td>\n",
       "      <td>4.0</td>\n",
       "      <td>16.0</td>\n",
       "    </tr>\n",
       "    <tr>\n",
       "      <th>...</th>\n",
       "      <td>...</td>\n",
       "      <td>...</td>\n",
       "      <td>...</td>\n",
       "      <td>...</td>\n",
       "      <td>...</td>\n",
       "      <td>...</td>\n",
       "      <td>...</td>\n",
       "      <td>...</td>\n",
       "      <td>...</td>\n",
       "      <td>...</td>\n",
       "      <td>...</td>\n",
       "      <td>...</td>\n",
       "      <td>...</td>\n",
       "      <td>...</td>\n",
       "      <td>...</td>\n",
       "      <td>...</td>\n",
       "      <td>...</td>\n",
       "      <td>...</td>\n",
       "      <td>...</td>\n",
       "      <td>...</td>\n",
       "    </tr>\n",
       "    <tr>\n",
       "      <th>5221995</th>\n",
       "      <td>2015-12-29</td>\n",
       "      <td>Atlantic Southeast Airlines</td>\n",
       "      <td>MEI</td>\n",
       "      <td>Meridian Regional Airport</td>\n",
       "      <td>Meridian</td>\n",
       "      <td>PIB</td>\n",
       "      <td>Hattiesburg-Laurel Regional Airport</td>\n",
       "      <td>Hattiesburg-Laurel</td>\n",
       "      <td>20:46:00</td>\n",
       "      <td>20:37:00</td>\n",
       "      <td>-9.0</td>\n",
       "      <td>21:02:00</td>\n",
       "      <td>21:20:00</td>\n",
       "      <td>-18.0</td>\n",
       "      <td>34.0</td>\n",
       "      <td>25.0</td>\n",
       "      <td>69</td>\n",
       "      <td>17.0</td>\n",
       "      <td>2.0</td>\n",
       "      <td>6.0</td>\n",
       "    </tr>\n",
       "    <tr>\n",
       "      <th>5221996</th>\n",
       "      <td>2015-12-30</td>\n",
       "      <td>Atlantic Southeast Airlines</td>\n",
       "      <td>MEI</td>\n",
       "      <td>Meridian Regional Airport</td>\n",
       "      <td>Meridian</td>\n",
       "      <td>PIB</td>\n",
       "      <td>Hattiesburg-Laurel Regional Airport</td>\n",
       "      <td>Hattiesburg-Laurel</td>\n",
       "      <td>14:35:00</td>\n",
       "      <td>16:16:00</td>\n",
       "      <td>101.0</td>\n",
       "      <td>16:39:00</td>\n",
       "      <td>15:09:00</td>\n",
       "      <td>90.0</td>\n",
       "      <td>34.0</td>\n",
       "      <td>23.0</td>\n",
       "      <td>69</td>\n",
       "      <td>14.0</td>\n",
       "      <td>5.0</td>\n",
       "      <td>4.0</td>\n",
       "    </tr>\n",
       "    <tr>\n",
       "      <th>5221997</th>\n",
       "      <td>2015-12-30</td>\n",
       "      <td>Atlantic Southeast Airlines</td>\n",
       "      <td>MEI</td>\n",
       "      <td>Meridian Regional Airport</td>\n",
       "      <td>Meridian</td>\n",
       "      <td>PIB</td>\n",
       "      <td>Hattiesburg-Laurel Regional Airport</td>\n",
       "      <td>Hattiesburg-Laurel</td>\n",
       "      <td>20:46:00</td>\n",
       "      <td>20:56:00</td>\n",
       "      <td>10.0</td>\n",
       "      <td>21:30:00</td>\n",
       "      <td>21:20:00</td>\n",
       "      <td>10.0</td>\n",
       "      <td>34.0</td>\n",
       "      <td>34.0</td>\n",
       "      <td>69</td>\n",
       "      <td>18.0</td>\n",
       "      <td>4.0</td>\n",
       "      <td>12.0</td>\n",
       "    </tr>\n",
       "    <tr>\n",
       "      <th>5221998</th>\n",
       "      <td>2015-12-31</td>\n",
       "      <td>Atlantic Southeast Airlines</td>\n",
       "      <td>MEI</td>\n",
       "      <td>Meridian Regional Airport</td>\n",
       "      <td>Meridian</td>\n",
       "      <td>PIB</td>\n",
       "      <td>Hattiesburg-Laurel Regional Airport</td>\n",
       "      <td>Hattiesburg-Laurel</td>\n",
       "      <td>14:35:00</td>\n",
       "      <td>14:21:00</td>\n",
       "      <td>-14.0</td>\n",
       "      <td>14:51:00</td>\n",
       "      <td>15:09:00</td>\n",
       "      <td>-18.0</td>\n",
       "      <td>34.0</td>\n",
       "      <td>30.0</td>\n",
       "      <td>69</td>\n",
       "      <td>18.0</td>\n",
       "      <td>3.0</td>\n",
       "      <td>9.0</td>\n",
       "    </tr>\n",
       "    <tr>\n",
       "      <th>5221999</th>\n",
       "      <td>2015-12-31</td>\n",
       "      <td>Atlantic Southeast Airlines</td>\n",
       "      <td>MEI</td>\n",
       "      <td>Meridian Regional Airport</td>\n",
       "      <td>Meridian</td>\n",
       "      <td>PIB</td>\n",
       "      <td>Hattiesburg-Laurel Regional Airport</td>\n",
       "      <td>Hattiesburg-Laurel</td>\n",
       "      <td>20:46:00</td>\n",
       "      <td>20:20:00</td>\n",
       "      <td>-26.0</td>\n",
       "      <td>20:48:00</td>\n",
       "      <td>21:20:00</td>\n",
       "      <td>-32.0</td>\n",
       "      <td>34.0</td>\n",
       "      <td>28.0</td>\n",
       "      <td>69</td>\n",
       "      <td>18.0</td>\n",
       "      <td>3.0</td>\n",
       "      <td>7.0</td>\n",
       "    </tr>\n",
       "  </tbody>\n",
       "</table>\n",
       "<p>5222000 rows × 20 columns</p>\n",
       "</div>"
      ],
      "text/plain": [
       "              Date                      AIRLINE ORIGIN_AIRPORT  \\\n",
       "0       2015-01-01         Alaska Airlines Inc.            ANC   \n",
       "1       2015-01-01         Alaska Airlines Inc.            ANC   \n",
       "2       2015-01-01         Alaska Airlines Inc.            ANC   \n",
       "3       2015-01-01         Alaska Airlines Inc.            ANC   \n",
       "4       2015-01-01         Alaska Airlines Inc.            ANC   \n",
       "...            ...                          ...            ...   \n",
       "5221995 2015-12-29  Atlantic Southeast Airlines            MEI   \n",
       "5221996 2015-12-30  Atlantic Southeast Airlines            MEI   \n",
       "5221997 2015-12-30  Atlantic Southeast Airlines            MEI   \n",
       "5221998 2015-12-31  Atlantic Southeast Airlines            MEI   \n",
       "5221999 2015-12-31  Atlantic Southeast Airlines            MEI   \n",
       "\n",
       "                                        Airport_Name Airport_City  \\\n",
       "0        Ted Stevens Anchorage International Airport    Anchorage   \n",
       "1        Ted Stevens Anchorage International Airport    Anchorage   \n",
       "2        Ted Stevens Anchorage International Airport    Anchorage   \n",
       "3        Ted Stevens Anchorage International Airport    Anchorage   \n",
       "4        Ted Stevens Anchorage International Airport    Anchorage   \n",
       "...                                              ...          ...   \n",
       "5221995                    Meridian Regional Airport     Meridian   \n",
       "5221996                    Meridian Regional Airport     Meridian   \n",
       "5221997                    Meridian Regional Airport     Meridian   \n",
       "5221998                    Meridian Regional Airport     Meridian   \n",
       "5221999                    Meridian Regional Airport     Meridian   \n",
       "\n",
       "        DESTINATION_AIRPORT              Destination_Airport_Name  \\\n",
       "0                       SEA  Seattle-Tacoma International Airport   \n",
       "1                       SEA  Seattle-Tacoma International Airport   \n",
       "2                       SEA  Seattle-Tacoma International Airport   \n",
       "3                       SEA  Seattle-Tacoma International Airport   \n",
       "4                       SEA  Seattle-Tacoma International Airport   \n",
       "...                     ...                                   ...   \n",
       "5221995                 PIB   Hattiesburg-Laurel Regional Airport   \n",
       "5221996                 PIB   Hattiesburg-Laurel Regional Airport   \n",
       "5221997                 PIB   Hattiesburg-Laurel Regional Airport   \n",
       "5221998                 PIB   Hattiesburg-Laurel Regional Airport   \n",
       "5221999                 PIB   Hattiesburg-Laurel Regional Airport   \n",
       "\n",
       "           Destination_City SCHEDULED_DEPARTURE DEPARTURE_TIME  \\\n",
       "0                   Seattle            00:05:00       23:54:00   \n",
       "1                   Seattle            00:45:00       00:41:00   \n",
       "2                   Seattle            01:55:00       01:40:00   \n",
       "3                   Seattle            02:20:00       02:09:00   \n",
       "4                   Seattle            05:05:00       04:57:00   \n",
       "...                     ...                 ...            ...   \n",
       "5221995  Hattiesburg-Laurel            20:46:00       20:37:00   \n",
       "5221996  Hattiesburg-Laurel            14:35:00       16:16:00   \n",
       "5221997  Hattiesburg-Laurel            20:46:00       20:56:00   \n",
       "5221998  Hattiesburg-Laurel            14:35:00       14:21:00   \n",
       "5221999  Hattiesburg-Laurel            20:46:00       20:20:00   \n",
       "\n",
       "         DEPARTURE_DELAY ARRIVAL_TIME SCHEDULED_ARRIVAL  ARRIVAL_DELAY  \\\n",
       "0                  -11.0     04:08:00          04:30:00          -22.0   \n",
       "1                   -4.0     04:55:00          05:09:00          -14.0   \n",
       "2                  -15.0     05:58:00          06:33:00          -35.0   \n",
       "3                  -11.0     06:28:00          06:40:00          -12.0   \n",
       "4                   -8.0     09:16:00          09:30:00          -14.0   \n",
       "...                  ...          ...               ...            ...   \n",
       "5221995             -9.0     21:02:00          21:20:00          -18.0   \n",
       "5221996            101.0     16:39:00          15:09:00           90.0   \n",
       "5221997             10.0     21:30:00          21:20:00           10.0   \n",
       "5221998            -14.0     14:51:00          15:09:00          -18.0   \n",
       "5221999            -26.0     20:48:00          21:20:00          -32.0   \n",
       "\n",
       "         SCHEDULED_TIME  ELAPSED_TIME  DISTANCE  AIR_TIME  TAXI_IN  TAXI_OUT  \n",
       "0                 205.0         194.0      1448     169.0      4.0      21.0  \n",
       "1                 204.0         194.0      1448     173.0      4.0      17.0  \n",
       "2                 218.0         198.0      1448     170.0     11.0      17.0  \n",
       "3                 200.0         199.0      1448     176.0      8.0      15.0  \n",
       "4                 205.0         199.0      1448     179.0      4.0      16.0  \n",
       "...                 ...           ...       ...       ...      ...       ...  \n",
       "5221995            34.0          25.0        69      17.0      2.0       6.0  \n",
       "5221996            34.0          23.0        69      14.0      5.0       4.0  \n",
       "5221997            34.0          34.0        69      18.0      4.0      12.0  \n",
       "5221998            34.0          30.0        69      18.0      3.0       9.0  \n",
       "5221999            34.0          28.0        69      18.0      3.0       7.0  \n",
       "\n",
       "[5222000 rows x 20 columns]"
      ]
     },
     "execution_count": 40,
     "metadata": {},
     "output_type": "execute_result"
    }
   ],
   "source": [
    "New_Fly"
   ]
  },
  {
   "cell_type": "code",
   "execution_count": 41,
   "id": "b49fb595",
   "metadata": {},
   "outputs": [],
   "source": [
    "Fly_neg = New_Fly[New_Fly['DEPARTURE_DELAY'] > 0]"
   ]
  },
  {
   "cell_type": "code",
   "execution_count": 42,
   "id": "4910964e",
   "metadata": {},
   "outputs": [
    {
     "data": {
      "text/html": [
       "<div>\n",
       "<style scoped>\n",
       "    .dataframe tbody tr th:only-of-type {\n",
       "        vertical-align: middle;\n",
       "    }\n",
       "\n",
       "    .dataframe tbody tr th {\n",
       "        vertical-align: top;\n",
       "    }\n",
       "\n",
       "    .dataframe thead th {\n",
       "        text-align: right;\n",
       "    }\n",
       "</style>\n",
       "<table border=\"1\" class=\"dataframe\">\n",
       "  <thead>\n",
       "    <tr style=\"text-align: right;\">\n",
       "      <th></th>\n",
       "      <th>Date</th>\n",
       "      <th>AIRLINE</th>\n",
       "      <th>ORIGIN_AIRPORT</th>\n",
       "      <th>Airport_Name</th>\n",
       "      <th>Airport_City</th>\n",
       "      <th>DESTINATION_AIRPORT</th>\n",
       "      <th>Destination_Airport_Name</th>\n",
       "      <th>Destination_City</th>\n",
       "      <th>SCHEDULED_DEPARTURE</th>\n",
       "      <th>DEPARTURE_TIME</th>\n",
       "      <th>DEPARTURE_DELAY</th>\n",
       "      <th>ARRIVAL_TIME</th>\n",
       "      <th>SCHEDULED_ARRIVAL</th>\n",
       "      <th>ARRIVAL_DELAY</th>\n",
       "      <th>SCHEDULED_TIME</th>\n",
       "      <th>ELAPSED_TIME</th>\n",
       "      <th>DISTANCE</th>\n",
       "      <th>AIR_TIME</th>\n",
       "      <th>TAXI_IN</th>\n",
       "      <th>TAXI_OUT</th>\n",
       "    </tr>\n",
       "  </thead>\n",
       "  <tbody>\n",
       "    <tr>\n",
       "      <th>22</th>\n",
       "      <td>2015-01-02</td>\n",
       "      <td>Alaska Airlines Inc.</td>\n",
       "      <td>ANC</td>\n",
       "      <td>Ted Stevens Anchorage International Airport</td>\n",
       "      <td>Anchorage</td>\n",
       "      <td>SEA</td>\n",
       "      <td>Seattle-Tacoma International Airport</td>\n",
       "      <td>Seattle</td>\n",
       "      <td>13:40:00</td>\n",
       "      <td>13:47:00</td>\n",
       "      <td>7.0</td>\n",
       "      <td>17:50:00</td>\n",
       "      <td>17:55:00</td>\n",
       "      <td>-5.0</td>\n",
       "      <td>195.0</td>\n",
       "      <td>183.0</td>\n",
       "      <td>1448</td>\n",
       "      <td>163.0</td>\n",
       "      <td>11.0</td>\n",
       "      <td>9.0</td>\n",
       "    </tr>\n",
       "    <tr>\n",
       "      <th>23</th>\n",
       "      <td>2015-01-02</td>\n",
       "      <td>Alaska Airlines Inc.</td>\n",
       "      <td>ANC</td>\n",
       "      <td>Ted Stevens Anchorage International Airport</td>\n",
       "      <td>Anchorage</td>\n",
       "      <td>SEA</td>\n",
       "      <td>Seattle-Tacoma International Airport</td>\n",
       "      <td>Seattle</td>\n",
       "      <td>14:30:00</td>\n",
       "      <td>14:39:00</td>\n",
       "      <td>9.0</td>\n",
       "      <td>18:39:00</td>\n",
       "      <td>18:50:00</td>\n",
       "      <td>-11.0</td>\n",
       "      <td>200.0</td>\n",
       "      <td>180.0</td>\n",
       "      <td>1448</td>\n",
       "      <td>162.0</td>\n",
       "      <td>8.0</td>\n",
       "      <td>10.0</td>\n",
       "    </tr>\n",
       "    <tr>\n",
       "      <th>28</th>\n",
       "      <td>2015-01-03</td>\n",
       "      <td>Alaska Airlines Inc.</td>\n",
       "      <td>ANC</td>\n",
       "      <td>Ted Stevens Anchorage International Airport</td>\n",
       "      <td>Anchorage</td>\n",
       "      <td>SEA</td>\n",
       "      <td>Seattle-Tacoma International Airport</td>\n",
       "      <td>Seattle</td>\n",
       "      <td>00:45:00</td>\n",
       "      <td>01:38:00</td>\n",
       "      <td>53.0</td>\n",
       "      <td>05:29:00</td>\n",
       "      <td>05:09:00</td>\n",
       "      <td>20.0</td>\n",
       "      <td>204.0</td>\n",
       "      <td>171.0</td>\n",
       "      <td>1448</td>\n",
       "      <td>156.0</td>\n",
       "      <td>4.0</td>\n",
       "      <td>11.0</td>\n",
       "    </tr>\n",
       "    <tr>\n",
       "      <th>29</th>\n",
       "      <td>2015-01-03</td>\n",
       "      <td>Alaska Airlines Inc.</td>\n",
       "      <td>ANC</td>\n",
       "      <td>Ted Stevens Anchorage International Airport</td>\n",
       "      <td>Anchorage</td>\n",
       "      <td>SEA</td>\n",
       "      <td>Seattle-Tacoma International Airport</td>\n",
       "      <td>Seattle</td>\n",
       "      <td>01:35:00</td>\n",
       "      <td>02:24:00</td>\n",
       "      <td>49.0</td>\n",
       "      <td>06:24:00</td>\n",
       "      <td>06:00:00</td>\n",
       "      <td>24.0</td>\n",
       "      <td>205.0</td>\n",
       "      <td>180.0</td>\n",
       "      <td>1448</td>\n",
       "      <td>163.0</td>\n",
       "      <td>9.0</td>\n",
       "      <td>8.0</td>\n",
       "    </tr>\n",
       "    <tr>\n",
       "      <th>30</th>\n",
       "      <td>2015-01-03</td>\n",
       "      <td>Alaska Airlines Inc.</td>\n",
       "      <td>ANC</td>\n",
       "      <td>Ted Stevens Anchorage International Airport</td>\n",
       "      <td>Anchorage</td>\n",
       "      <td>SEA</td>\n",
       "      <td>Seattle-Tacoma International Airport</td>\n",
       "      <td>Seattle</td>\n",
       "      <td>01:55:00</td>\n",
       "      <td>02:28:00</td>\n",
       "      <td>33.0</td>\n",
       "      <td>06:36:00</td>\n",
       "      <td>06:33:00</td>\n",
       "      <td>3.0</td>\n",
       "      <td>218.0</td>\n",
       "      <td>188.0</td>\n",
       "      <td>1448</td>\n",
       "      <td>163.0</td>\n",
       "      <td>12.0</td>\n",
       "      <td>13.0</td>\n",
       "    </tr>\n",
       "    <tr>\n",
       "      <th>...</th>\n",
       "      <td>...</td>\n",
       "      <td>...</td>\n",
       "      <td>...</td>\n",
       "      <td>...</td>\n",
       "      <td>...</td>\n",
       "      <td>...</td>\n",
       "      <td>...</td>\n",
       "      <td>...</td>\n",
       "      <td>...</td>\n",
       "      <td>...</td>\n",
       "      <td>...</td>\n",
       "      <td>...</td>\n",
       "      <td>...</td>\n",
       "      <td>...</td>\n",
       "      <td>...</td>\n",
       "      <td>...</td>\n",
       "      <td>...</td>\n",
       "      <td>...</td>\n",
       "      <td>...</td>\n",
       "      <td>...</td>\n",
       "    </tr>\n",
       "    <tr>\n",
       "      <th>5221990</th>\n",
       "      <td>2015-12-26</td>\n",
       "      <td>Atlantic Southeast Airlines</td>\n",
       "      <td>MEI</td>\n",
       "      <td>Meridian Regional Airport</td>\n",
       "      <td>Meridian</td>\n",
       "      <td>PIB</td>\n",
       "      <td>Hattiesburg-Laurel Regional Airport</td>\n",
       "      <td>Hattiesburg-Laurel</td>\n",
       "      <td>20:46:00</td>\n",
       "      <td>21:19:00</td>\n",
       "      <td>33.0</td>\n",
       "      <td>21:53:00</td>\n",
       "      <td>21:20:00</td>\n",
       "      <td>33.0</td>\n",
       "      <td>34.0</td>\n",
       "      <td>34.0</td>\n",
       "      <td>69</td>\n",
       "      <td>18.0</td>\n",
       "      <td>4.0</td>\n",
       "      <td>12.0</td>\n",
       "    </tr>\n",
       "    <tr>\n",
       "      <th>5221991</th>\n",
       "      <td>2015-12-27</td>\n",
       "      <td>Atlantic Southeast Airlines</td>\n",
       "      <td>MEI</td>\n",
       "      <td>Meridian Regional Airport</td>\n",
       "      <td>Meridian</td>\n",
       "      <td>PIB</td>\n",
       "      <td>Hattiesburg-Laurel Regional Airport</td>\n",
       "      <td>Hattiesburg-Laurel</td>\n",
       "      <td>20:46:00</td>\n",
       "      <td>22:19:00</td>\n",
       "      <td>93.0</td>\n",
       "      <td>22:49:00</td>\n",
       "      <td>21:20:00</td>\n",
       "      <td>89.0</td>\n",
       "      <td>34.0</td>\n",
       "      <td>30.0</td>\n",
       "      <td>69</td>\n",
       "      <td>19.0</td>\n",
       "      <td>4.0</td>\n",
       "      <td>7.0</td>\n",
       "    </tr>\n",
       "    <tr>\n",
       "      <th>5221992</th>\n",
       "      <td>2015-12-28</td>\n",
       "      <td>Atlantic Southeast Airlines</td>\n",
       "      <td>MEI</td>\n",
       "      <td>Meridian Regional Airport</td>\n",
       "      <td>Meridian</td>\n",
       "      <td>PIB</td>\n",
       "      <td>Hattiesburg-Laurel Regional Airport</td>\n",
       "      <td>Hattiesburg-Laurel</td>\n",
       "      <td>14:35:00</td>\n",
       "      <td>14:43:00</td>\n",
       "      <td>8.0</td>\n",
       "      <td>15:15:00</td>\n",
       "      <td>15:09:00</td>\n",
       "      <td>6.0</td>\n",
       "      <td>34.0</td>\n",
       "      <td>32.0</td>\n",
       "      <td>69</td>\n",
       "      <td>18.0</td>\n",
       "      <td>3.0</td>\n",
       "      <td>11.0</td>\n",
       "    </tr>\n",
       "    <tr>\n",
       "      <th>5221996</th>\n",
       "      <td>2015-12-30</td>\n",
       "      <td>Atlantic Southeast Airlines</td>\n",
       "      <td>MEI</td>\n",
       "      <td>Meridian Regional Airport</td>\n",
       "      <td>Meridian</td>\n",
       "      <td>PIB</td>\n",
       "      <td>Hattiesburg-Laurel Regional Airport</td>\n",
       "      <td>Hattiesburg-Laurel</td>\n",
       "      <td>14:35:00</td>\n",
       "      <td>16:16:00</td>\n",
       "      <td>101.0</td>\n",
       "      <td>16:39:00</td>\n",
       "      <td>15:09:00</td>\n",
       "      <td>90.0</td>\n",
       "      <td>34.0</td>\n",
       "      <td>23.0</td>\n",
       "      <td>69</td>\n",
       "      <td>14.0</td>\n",
       "      <td>5.0</td>\n",
       "      <td>4.0</td>\n",
       "    </tr>\n",
       "    <tr>\n",
       "      <th>5221997</th>\n",
       "      <td>2015-12-30</td>\n",
       "      <td>Atlantic Southeast Airlines</td>\n",
       "      <td>MEI</td>\n",
       "      <td>Meridian Regional Airport</td>\n",
       "      <td>Meridian</td>\n",
       "      <td>PIB</td>\n",
       "      <td>Hattiesburg-Laurel Regional Airport</td>\n",
       "      <td>Hattiesburg-Laurel</td>\n",
       "      <td>20:46:00</td>\n",
       "      <td>20:56:00</td>\n",
       "      <td>10.0</td>\n",
       "      <td>21:30:00</td>\n",
       "      <td>21:20:00</td>\n",
       "      <td>10.0</td>\n",
       "      <td>34.0</td>\n",
       "      <td>34.0</td>\n",
       "      <td>69</td>\n",
       "      <td>18.0</td>\n",
       "      <td>4.0</td>\n",
       "      <td>12.0</td>\n",
       "    </tr>\n",
       "  </tbody>\n",
       "</table>\n",
       "<p>1967570 rows × 20 columns</p>\n",
       "</div>"
      ],
      "text/plain": [
       "              Date                      AIRLINE ORIGIN_AIRPORT  \\\n",
       "22      2015-01-02         Alaska Airlines Inc.            ANC   \n",
       "23      2015-01-02         Alaska Airlines Inc.            ANC   \n",
       "28      2015-01-03         Alaska Airlines Inc.            ANC   \n",
       "29      2015-01-03         Alaska Airlines Inc.            ANC   \n",
       "30      2015-01-03         Alaska Airlines Inc.            ANC   \n",
       "...            ...                          ...            ...   \n",
       "5221990 2015-12-26  Atlantic Southeast Airlines            MEI   \n",
       "5221991 2015-12-27  Atlantic Southeast Airlines            MEI   \n",
       "5221992 2015-12-28  Atlantic Southeast Airlines            MEI   \n",
       "5221996 2015-12-30  Atlantic Southeast Airlines            MEI   \n",
       "5221997 2015-12-30  Atlantic Southeast Airlines            MEI   \n",
       "\n",
       "                                        Airport_Name Airport_City  \\\n",
       "22       Ted Stevens Anchorage International Airport    Anchorage   \n",
       "23       Ted Stevens Anchorage International Airport    Anchorage   \n",
       "28       Ted Stevens Anchorage International Airport    Anchorage   \n",
       "29       Ted Stevens Anchorage International Airport    Anchorage   \n",
       "30       Ted Stevens Anchorage International Airport    Anchorage   \n",
       "...                                              ...          ...   \n",
       "5221990                    Meridian Regional Airport     Meridian   \n",
       "5221991                    Meridian Regional Airport     Meridian   \n",
       "5221992                    Meridian Regional Airport     Meridian   \n",
       "5221996                    Meridian Regional Airport     Meridian   \n",
       "5221997                    Meridian Regional Airport     Meridian   \n",
       "\n",
       "        DESTINATION_AIRPORT              Destination_Airport_Name  \\\n",
       "22                      SEA  Seattle-Tacoma International Airport   \n",
       "23                      SEA  Seattle-Tacoma International Airport   \n",
       "28                      SEA  Seattle-Tacoma International Airport   \n",
       "29                      SEA  Seattle-Tacoma International Airport   \n",
       "30                      SEA  Seattle-Tacoma International Airport   \n",
       "...                     ...                                   ...   \n",
       "5221990                 PIB   Hattiesburg-Laurel Regional Airport   \n",
       "5221991                 PIB   Hattiesburg-Laurel Regional Airport   \n",
       "5221992                 PIB   Hattiesburg-Laurel Regional Airport   \n",
       "5221996                 PIB   Hattiesburg-Laurel Regional Airport   \n",
       "5221997                 PIB   Hattiesburg-Laurel Regional Airport   \n",
       "\n",
       "           Destination_City SCHEDULED_DEPARTURE DEPARTURE_TIME  \\\n",
       "22                  Seattle            13:40:00       13:47:00   \n",
       "23                  Seattle            14:30:00       14:39:00   \n",
       "28                  Seattle            00:45:00       01:38:00   \n",
       "29                  Seattle            01:35:00       02:24:00   \n",
       "30                  Seattle            01:55:00       02:28:00   \n",
       "...                     ...                 ...            ...   \n",
       "5221990  Hattiesburg-Laurel            20:46:00       21:19:00   \n",
       "5221991  Hattiesburg-Laurel            20:46:00       22:19:00   \n",
       "5221992  Hattiesburg-Laurel            14:35:00       14:43:00   \n",
       "5221996  Hattiesburg-Laurel            14:35:00       16:16:00   \n",
       "5221997  Hattiesburg-Laurel            20:46:00       20:56:00   \n",
       "\n",
       "         DEPARTURE_DELAY ARRIVAL_TIME SCHEDULED_ARRIVAL  ARRIVAL_DELAY  \\\n",
       "22                   7.0     17:50:00          17:55:00           -5.0   \n",
       "23                   9.0     18:39:00          18:50:00          -11.0   \n",
       "28                  53.0     05:29:00          05:09:00           20.0   \n",
       "29                  49.0     06:24:00          06:00:00           24.0   \n",
       "30                  33.0     06:36:00          06:33:00            3.0   \n",
       "...                  ...          ...               ...            ...   \n",
       "5221990             33.0     21:53:00          21:20:00           33.0   \n",
       "5221991             93.0     22:49:00          21:20:00           89.0   \n",
       "5221992              8.0     15:15:00          15:09:00            6.0   \n",
       "5221996            101.0     16:39:00          15:09:00           90.0   \n",
       "5221997             10.0     21:30:00          21:20:00           10.0   \n",
       "\n",
       "         SCHEDULED_TIME  ELAPSED_TIME  DISTANCE  AIR_TIME  TAXI_IN  TAXI_OUT  \n",
       "22                195.0         183.0      1448     163.0     11.0       9.0  \n",
       "23                200.0         180.0      1448     162.0      8.0      10.0  \n",
       "28                204.0         171.0      1448     156.0      4.0      11.0  \n",
       "29                205.0         180.0      1448     163.0      9.0       8.0  \n",
       "30                218.0         188.0      1448     163.0     12.0      13.0  \n",
       "...                 ...           ...       ...       ...      ...       ...  \n",
       "5221990            34.0          34.0        69      18.0      4.0      12.0  \n",
       "5221991            34.0          30.0        69      19.0      4.0       7.0  \n",
       "5221992            34.0          32.0        69      18.0      3.0      11.0  \n",
       "5221996            34.0          23.0        69      14.0      5.0       4.0  \n",
       "5221997            34.0          34.0        69      18.0      4.0      12.0  \n",
       "\n",
       "[1967570 rows x 20 columns]"
      ]
     },
     "execution_count": 42,
     "metadata": {},
     "output_type": "execute_result"
    }
   ],
   "source": [
    "Fly_neg"
   ]
  },
  {
   "cell_type": "code",
   "execution_count": 43,
   "id": "219dc1a1",
   "metadata": {},
   "outputs": [],
   "source": [
    "Fly1 = Fly_neg[Fly_neg['DEPARTURE_DELAY'] == Fly_neg['DEPARTURE_DELAY'].min()]"
   ]
  },
  {
   "cell_type": "code",
   "execution_count": 44,
   "id": "b7314b1b",
   "metadata": {},
   "outputs": [
    {
     "data": {
      "text/plain": [
       "202        1.0\n",
       "282        1.0\n",
       "288        1.0\n",
       "333        1.0\n",
       "441        1.0\n",
       "          ... \n",
       "5221546    1.0\n",
       "5221572    1.0\n",
       "5221650    1.0\n",
       "5221867    1.0\n",
       "5221921    1.0\n",
       "Name: DEPARTURE_DELAY, Length: 145486, dtype: float64"
      ]
     },
     "execution_count": 44,
     "metadata": {},
     "output_type": "execute_result"
    }
   ],
   "source": [
    "Fly1.DEPARTURE_DELAY"
   ]
  },
  {
   "cell_type": "code",
   "execution_count": 45,
   "id": "486daf16",
   "metadata": {},
   "outputs": [],
   "source": [
    "F=Fly1.Airport_Name.value_counts().sort_values(ascending=False)[:15]"
   ]
  },
  {
   "cell_type": "code",
   "execution_count": 46,
   "id": "621ce91a",
   "metadata": {},
   "outputs": [
    {
     "name": "stdout",
     "output_type": "stream",
     "text": [
      "Hartsfield-Jackson Atlanta International Airport    11520\n",
      "Chicago O'Hare International Airport                 7413\n",
      "Denver International Airport                         6358\n",
      "Dallas/Fort Worth International Airport              6308\n",
      "Los Angeles International Airport                    6042\n",
      "Phoenix Sky Harbor International Airport             4815\n",
      "McCarran International Airport                       4199\n",
      "San Francisco International Airport                  4188\n",
      "George Bush Intercontinental Airport                 4045\n",
      "Seattle-Tacoma International Airport                 3871\n",
      "Orlando International Airport                        3225\n",
      "Charlotte Douglas International Airport              3157\n",
      "Chicago Midway International Airport                 3107\n",
      "Newark Liberty International Airport                 3025\n",
      "Baltimore-Washington International Airport           2929\n",
      "Name: Airport_Name, dtype: int64\n"
     ]
    }
   ],
   "source": [
    "print(F)"
   ]
  },
  {
   "cell_type": "code",
   "execution_count": 134,
   "id": "67ee63c8",
   "metadata": {},
   "outputs": [
    {
     "data": {
      "application/vnd.plotly.v1+json": {
       "config": {
        "linkText": "Export to plot.ly",
        "plotlyServerURL": "https://plot.ly",
        "showLink": false
       },
       "data": [
        {
         "marker": {
          "color": [
           11520,
           7413,
           6358,
           6308,
           6042,
           4815,
           4199,
           4188,
           4045,
           3871,
           3225,
           3157,
           3107,
           3025,
           2929
          ],
          "colorscale": [
           [
            0,
            "#440154"
           ],
           [
            0.1111111111111111,
            "#482878"
           ],
           [
            0.2222222222222222,
            "#3e4989"
           ],
           [
            0.3333333333333333,
            "#31688e"
           ],
           [
            0.4444444444444444,
            "#26828e"
           ],
           [
            0.5555555555555556,
            "#1f9e89"
           ],
           [
            0.6666666666666666,
            "#35b779"
           ],
           [
            0.7777777777777778,
            "#6ece58"
           ],
           [
            0.8888888888888888,
            "#b5de2b"
           ],
           [
            1,
            "#fde725"
           ]
          ],
          "showscale": true
         },
         "type": "bar",
         "x": [
          "Hartsfield-Jackson Atlanta International Airport",
          "Chicago O'Hare International Airport",
          "Denver International Airport",
          "Dallas/Fort Worth International Airport",
          "Los Angeles International Airport",
          "Phoenix Sky Harbor International Airport",
          "McCarran International Airport",
          "San Francisco International Airport",
          "George Bush Intercontinental Airport",
          "Seattle-Tacoma International Airport",
          "Orlando International Airport",
          "Charlotte Douglas International Airport",
          "Chicago Midway International Airport",
          "Newark Liberty International Airport",
          "Baltimore-Washington International Airport"
         ],
         "y": [
          11520,
          7413,
          6358,
          6308,
          6042,
          4815,
          4199,
          4188,
          4045,
          3871,
          3225,
          3157,
          3107,
          3025,
          2929
         ]
        }
       ],
       "layout": {
        "template": {
         "data": {
          "bar": [
           {
            "error_x": {
             "color": "#2a3f5f"
            },
            "error_y": {
             "color": "#2a3f5f"
            },
            "marker": {
             "line": {
              "color": "#E5ECF6",
              "width": 0.5
             },
             "pattern": {
              "fillmode": "overlay",
              "size": 10,
              "solidity": 0.2
             }
            },
            "type": "bar"
           }
          ],
          "barpolar": [
           {
            "marker": {
             "line": {
              "color": "#E5ECF6",
              "width": 0.5
             },
             "pattern": {
              "fillmode": "overlay",
              "size": 10,
              "solidity": 0.2
             }
            },
            "type": "barpolar"
           }
          ],
          "carpet": [
           {
            "aaxis": {
             "endlinecolor": "#2a3f5f",
             "gridcolor": "white",
             "linecolor": "white",
             "minorgridcolor": "white",
             "startlinecolor": "#2a3f5f"
            },
            "baxis": {
             "endlinecolor": "#2a3f5f",
             "gridcolor": "white",
             "linecolor": "white",
             "minorgridcolor": "white",
             "startlinecolor": "#2a3f5f"
            },
            "type": "carpet"
           }
          ],
          "choropleth": [
           {
            "colorbar": {
             "outlinewidth": 0,
             "ticks": ""
            },
            "type": "choropleth"
           }
          ],
          "contour": [
           {
            "colorbar": {
             "outlinewidth": 0,
             "ticks": ""
            },
            "colorscale": [
             [
              0,
              "#0d0887"
             ],
             [
              0.1111111111111111,
              "#46039f"
             ],
             [
              0.2222222222222222,
              "#7201a8"
             ],
             [
              0.3333333333333333,
              "#9c179e"
             ],
             [
              0.4444444444444444,
              "#bd3786"
             ],
             [
              0.5555555555555556,
              "#d8576b"
             ],
             [
              0.6666666666666666,
              "#ed7953"
             ],
             [
              0.7777777777777778,
              "#fb9f3a"
             ],
             [
              0.8888888888888888,
              "#fdca26"
             ],
             [
              1,
              "#f0f921"
             ]
            ],
            "type": "contour"
           }
          ],
          "contourcarpet": [
           {
            "colorbar": {
             "outlinewidth": 0,
             "ticks": ""
            },
            "type": "contourcarpet"
           }
          ],
          "heatmap": [
           {
            "colorbar": {
             "outlinewidth": 0,
             "ticks": ""
            },
            "colorscale": [
             [
              0,
              "#0d0887"
             ],
             [
              0.1111111111111111,
              "#46039f"
             ],
             [
              0.2222222222222222,
              "#7201a8"
             ],
             [
              0.3333333333333333,
              "#9c179e"
             ],
             [
              0.4444444444444444,
              "#bd3786"
             ],
             [
              0.5555555555555556,
              "#d8576b"
             ],
             [
              0.6666666666666666,
              "#ed7953"
             ],
             [
              0.7777777777777778,
              "#fb9f3a"
             ],
             [
              0.8888888888888888,
              "#fdca26"
             ],
             [
              1,
              "#f0f921"
             ]
            ],
            "type": "heatmap"
           }
          ],
          "heatmapgl": [
           {
            "colorbar": {
             "outlinewidth": 0,
             "ticks": ""
            },
            "colorscale": [
             [
              0,
              "#0d0887"
             ],
             [
              0.1111111111111111,
              "#46039f"
             ],
             [
              0.2222222222222222,
              "#7201a8"
             ],
             [
              0.3333333333333333,
              "#9c179e"
             ],
             [
              0.4444444444444444,
              "#bd3786"
             ],
             [
              0.5555555555555556,
              "#d8576b"
             ],
             [
              0.6666666666666666,
              "#ed7953"
             ],
             [
              0.7777777777777778,
              "#fb9f3a"
             ],
             [
              0.8888888888888888,
              "#fdca26"
             ],
             [
              1,
              "#f0f921"
             ]
            ],
            "type": "heatmapgl"
           }
          ],
          "histogram": [
           {
            "marker": {
             "pattern": {
              "fillmode": "overlay",
              "size": 10,
              "solidity": 0.2
             }
            },
            "type": "histogram"
           }
          ],
          "histogram2d": [
           {
            "colorbar": {
             "outlinewidth": 0,
             "ticks": ""
            },
            "colorscale": [
             [
              0,
              "#0d0887"
             ],
             [
              0.1111111111111111,
              "#46039f"
             ],
             [
              0.2222222222222222,
              "#7201a8"
             ],
             [
              0.3333333333333333,
              "#9c179e"
             ],
             [
              0.4444444444444444,
              "#bd3786"
             ],
             [
              0.5555555555555556,
              "#d8576b"
             ],
             [
              0.6666666666666666,
              "#ed7953"
             ],
             [
              0.7777777777777778,
              "#fb9f3a"
             ],
             [
              0.8888888888888888,
              "#fdca26"
             ],
             [
              1,
              "#f0f921"
             ]
            ],
            "type": "histogram2d"
           }
          ],
          "histogram2dcontour": [
           {
            "colorbar": {
             "outlinewidth": 0,
             "ticks": ""
            },
            "colorscale": [
             [
              0,
              "#0d0887"
             ],
             [
              0.1111111111111111,
              "#46039f"
             ],
             [
              0.2222222222222222,
              "#7201a8"
             ],
             [
              0.3333333333333333,
              "#9c179e"
             ],
             [
              0.4444444444444444,
              "#bd3786"
             ],
             [
              0.5555555555555556,
              "#d8576b"
             ],
             [
              0.6666666666666666,
              "#ed7953"
             ],
             [
              0.7777777777777778,
              "#fb9f3a"
             ],
             [
              0.8888888888888888,
              "#fdca26"
             ],
             [
              1,
              "#f0f921"
             ]
            ],
            "type": "histogram2dcontour"
           }
          ],
          "mesh3d": [
           {
            "colorbar": {
             "outlinewidth": 0,
             "ticks": ""
            },
            "type": "mesh3d"
           }
          ],
          "parcoords": [
           {
            "line": {
             "colorbar": {
              "outlinewidth": 0,
              "ticks": ""
             }
            },
            "type": "parcoords"
           }
          ],
          "pie": [
           {
            "automargin": true,
            "type": "pie"
           }
          ],
          "scatter": [
           {
            "marker": {
             "colorbar": {
              "outlinewidth": 0,
              "ticks": ""
             }
            },
            "type": "scatter"
           }
          ],
          "scatter3d": [
           {
            "line": {
             "colorbar": {
              "outlinewidth": 0,
              "ticks": ""
             }
            },
            "marker": {
             "colorbar": {
              "outlinewidth": 0,
              "ticks": ""
             }
            },
            "type": "scatter3d"
           }
          ],
          "scattercarpet": [
           {
            "marker": {
             "colorbar": {
              "outlinewidth": 0,
              "ticks": ""
             }
            },
            "type": "scattercarpet"
           }
          ],
          "scattergeo": [
           {
            "marker": {
             "colorbar": {
              "outlinewidth": 0,
              "ticks": ""
             }
            },
            "type": "scattergeo"
           }
          ],
          "scattergl": [
           {
            "marker": {
             "colorbar": {
              "outlinewidth": 0,
              "ticks": ""
             }
            },
            "type": "scattergl"
           }
          ],
          "scattermapbox": [
           {
            "marker": {
             "colorbar": {
              "outlinewidth": 0,
              "ticks": ""
             }
            },
            "type": "scattermapbox"
           }
          ],
          "scatterpolar": [
           {
            "marker": {
             "colorbar": {
              "outlinewidth": 0,
              "ticks": ""
             }
            },
            "type": "scatterpolar"
           }
          ],
          "scatterpolargl": [
           {
            "marker": {
             "colorbar": {
              "outlinewidth": 0,
              "ticks": ""
             }
            },
            "type": "scatterpolargl"
           }
          ],
          "scatterternary": [
           {
            "marker": {
             "colorbar": {
              "outlinewidth": 0,
              "ticks": ""
             }
            },
            "type": "scatterternary"
           }
          ],
          "surface": [
           {
            "colorbar": {
             "outlinewidth": 0,
             "ticks": ""
            },
            "colorscale": [
             [
              0,
              "#0d0887"
             ],
             [
              0.1111111111111111,
              "#46039f"
             ],
             [
              0.2222222222222222,
              "#7201a8"
             ],
             [
              0.3333333333333333,
              "#9c179e"
             ],
             [
              0.4444444444444444,
              "#bd3786"
             ],
             [
              0.5555555555555556,
              "#d8576b"
             ],
             [
              0.6666666666666666,
              "#ed7953"
             ],
             [
              0.7777777777777778,
              "#fb9f3a"
             ],
             [
              0.8888888888888888,
              "#fdca26"
             ],
             [
              1,
              "#f0f921"
             ]
            ],
            "type": "surface"
           }
          ],
          "table": [
           {
            "cells": {
             "fill": {
              "color": "#EBF0F8"
             },
             "line": {
              "color": "white"
             }
            },
            "header": {
             "fill": {
              "color": "#C8D4E3"
             },
             "line": {
              "color": "white"
             }
            },
            "type": "table"
           }
          ]
         },
         "layout": {
          "annotationdefaults": {
           "arrowcolor": "#2a3f5f",
           "arrowhead": 0,
           "arrowwidth": 1
          },
          "autotypenumbers": "strict",
          "coloraxis": {
           "colorbar": {
            "outlinewidth": 0,
            "ticks": ""
           }
          },
          "colorscale": {
           "diverging": [
            [
             0,
             "#8e0152"
            ],
            [
             0.1,
             "#c51b7d"
            ],
            [
             0.2,
             "#de77ae"
            ],
            [
             0.3,
             "#f1b6da"
            ],
            [
             0.4,
             "#fde0ef"
            ],
            [
             0.5,
             "#f7f7f7"
            ],
            [
             0.6,
             "#e6f5d0"
            ],
            [
             0.7,
             "#b8e186"
            ],
            [
             0.8,
             "#7fbc41"
            ],
            [
             0.9,
             "#4d9221"
            ],
            [
             1,
             "#276419"
            ]
           ],
           "sequential": [
            [
             0,
             "#0d0887"
            ],
            [
             0.1111111111111111,
             "#46039f"
            ],
            [
             0.2222222222222222,
             "#7201a8"
            ],
            [
             0.3333333333333333,
             "#9c179e"
            ],
            [
             0.4444444444444444,
             "#bd3786"
            ],
            [
             0.5555555555555556,
             "#d8576b"
            ],
            [
             0.6666666666666666,
             "#ed7953"
            ],
            [
             0.7777777777777778,
             "#fb9f3a"
            ],
            [
             0.8888888888888888,
             "#fdca26"
            ],
            [
             1,
             "#f0f921"
            ]
           ],
           "sequentialminus": [
            [
             0,
             "#0d0887"
            ],
            [
             0.1111111111111111,
             "#46039f"
            ],
            [
             0.2222222222222222,
             "#7201a8"
            ],
            [
             0.3333333333333333,
             "#9c179e"
            ],
            [
             0.4444444444444444,
             "#bd3786"
            ],
            [
             0.5555555555555556,
             "#d8576b"
            ],
            [
             0.6666666666666666,
             "#ed7953"
            ],
            [
             0.7777777777777778,
             "#fb9f3a"
            ],
            [
             0.8888888888888888,
             "#fdca26"
            ],
            [
             1,
             "#f0f921"
            ]
           ]
          },
          "colorway": [
           "#636efa",
           "#EF553B",
           "#00cc96",
           "#ab63fa",
           "#FFA15A",
           "#19d3f3",
           "#FF6692",
           "#B6E880",
           "#FF97FF",
           "#FECB52"
          ],
          "font": {
           "color": "#2a3f5f"
          },
          "geo": {
           "bgcolor": "white",
           "lakecolor": "white",
           "landcolor": "#E5ECF6",
           "showlakes": true,
           "showland": true,
           "subunitcolor": "white"
          },
          "hoverlabel": {
           "align": "left"
          },
          "hovermode": "closest",
          "mapbox": {
           "style": "light"
          },
          "paper_bgcolor": "white",
          "plot_bgcolor": "#E5ECF6",
          "polar": {
           "angularaxis": {
            "gridcolor": "white",
            "linecolor": "white",
            "ticks": ""
           },
           "bgcolor": "#E5ECF6",
           "radialaxis": {
            "gridcolor": "white",
            "linecolor": "white",
            "ticks": ""
           }
          },
          "scene": {
           "xaxis": {
            "backgroundcolor": "#E5ECF6",
            "gridcolor": "white",
            "gridwidth": 2,
            "linecolor": "white",
            "showbackground": true,
            "ticks": "",
            "zerolinecolor": "white"
           },
           "yaxis": {
            "backgroundcolor": "#E5ECF6",
            "gridcolor": "white",
            "gridwidth": 2,
            "linecolor": "white",
            "showbackground": true,
            "ticks": "",
            "zerolinecolor": "white"
           },
           "zaxis": {
            "backgroundcolor": "#E5ECF6",
            "gridcolor": "white",
            "gridwidth": 2,
            "linecolor": "white",
            "showbackground": true,
            "ticks": "",
            "zerolinecolor": "white"
           }
          },
          "shapedefaults": {
           "line": {
            "color": "#2a3f5f"
           }
          },
          "ternary": {
           "aaxis": {
            "gridcolor": "white",
            "linecolor": "white",
            "ticks": ""
           },
           "baxis": {
            "gridcolor": "white",
            "linecolor": "white",
            "ticks": ""
           },
           "bgcolor": "#E5ECF6",
           "caxis": {
            "gridcolor": "white",
            "linecolor": "white",
            "ticks": ""
           }
          },
          "title": {
           "x": 0.05
          },
          "xaxis": {
           "automargin": true,
           "gridcolor": "white",
           "linecolor": "white",
           "ticks": "",
           "title": {
            "standoff": 15
           },
           "zerolinecolor": "white",
           "zerolinewidth": 2
          },
          "yaxis": {
           "automargin": true,
           "gridcolor": "white",
           "linecolor": "white",
           "ticks": "",
           "title": {
            "standoff": 15
           },
           "zerolinecolor": "white",
           "zerolinewidth": 2
          }
         }
        },
        "title": {
         "text": "Аэропорт с минимальной задержкой вылета"
        },
        "xaxis": {
         "tickangle": 30
        },
        "yaxis": {
         "title": {
          "text": "Количество рейсов с минимальной задержкой"
         }
        }
       }
      },
      "text/html": [
       "<div>                            <div id=\"331f5148-1cf4-49b1-9800-2ff715342e16\" class=\"plotly-graph-div\" style=\"height:525px; width:100%;\"></div>            <script type=\"text/javascript\">                require([\"plotly\"], function(Plotly) {                    window.PLOTLYENV=window.PLOTLYENV || {};                                    if (document.getElementById(\"331f5148-1cf4-49b1-9800-2ff715342e16\")) {                    Plotly.newPlot(                        \"331f5148-1cf4-49b1-9800-2ff715342e16\",                        [{\"marker\":{\"color\":[11520,7413,6358,6308,6042,4815,4199,4188,4045,3871,3225,3157,3107,3025,2929],\"colorscale\":[[0.0,\"#440154\"],[0.1111111111111111,\"#482878\"],[0.2222222222222222,\"#3e4989\"],[0.3333333333333333,\"#31688e\"],[0.4444444444444444,\"#26828e\"],[0.5555555555555556,\"#1f9e89\"],[0.6666666666666666,\"#35b779\"],[0.7777777777777778,\"#6ece58\"],[0.8888888888888888,\"#b5de2b\"],[1.0,\"#fde725\"]],\"showscale\":true},\"x\":[\"Hartsfield-Jackson Atlanta International Airport\",\"Chicago O'Hare International Airport\",\"Denver International Airport\",\"Dallas/Fort Worth International Airport\",\"Los Angeles International Airport\",\"Phoenix Sky Harbor International Airport\",\"McCarran International Airport\",\"San Francisco International Airport\",\"George Bush Intercontinental Airport\",\"Seattle-Tacoma International Airport\",\"Orlando International Airport\",\"Charlotte Douglas International Airport\",\"Chicago Midway International Airport\",\"Newark Liberty International Airport\",\"Baltimore-Washington International Airport\"],\"y\":[11520,7413,6358,6308,6042,4815,4199,4188,4045,3871,3225,3157,3107,3025,2929],\"type\":\"bar\"}],                        {\"template\":{\"data\":{\"barpolar\":[{\"marker\":{\"line\":{\"color\":\"#E5ECF6\",\"width\":0.5},\"pattern\":{\"fillmode\":\"overlay\",\"size\":10,\"solidity\":0.2}},\"type\":\"barpolar\"}],\"bar\":[{\"error_x\":{\"color\":\"#2a3f5f\"},\"error_y\":{\"color\":\"#2a3f5f\"},\"marker\":{\"line\":{\"color\":\"#E5ECF6\",\"width\":0.5},\"pattern\":{\"fillmode\":\"overlay\",\"size\":10,\"solidity\":0.2}},\"type\":\"bar\"}],\"carpet\":[{\"aaxis\":{\"endlinecolor\":\"#2a3f5f\",\"gridcolor\":\"white\",\"linecolor\":\"white\",\"minorgridcolor\":\"white\",\"startlinecolor\":\"#2a3f5f\"},\"baxis\":{\"endlinecolor\":\"#2a3f5f\",\"gridcolor\":\"white\",\"linecolor\":\"white\",\"minorgridcolor\":\"white\",\"startlinecolor\":\"#2a3f5f\"},\"type\":\"carpet\"}],\"choropleth\":[{\"colorbar\":{\"outlinewidth\":0,\"ticks\":\"\"},\"type\":\"choropleth\"}],\"contourcarpet\":[{\"colorbar\":{\"outlinewidth\":0,\"ticks\":\"\"},\"type\":\"contourcarpet\"}],\"contour\":[{\"colorbar\":{\"outlinewidth\":0,\"ticks\":\"\"},\"colorscale\":[[0.0,\"#0d0887\"],[0.1111111111111111,\"#46039f\"],[0.2222222222222222,\"#7201a8\"],[0.3333333333333333,\"#9c179e\"],[0.4444444444444444,\"#bd3786\"],[0.5555555555555556,\"#d8576b\"],[0.6666666666666666,\"#ed7953\"],[0.7777777777777778,\"#fb9f3a\"],[0.8888888888888888,\"#fdca26\"],[1.0,\"#f0f921\"]],\"type\":\"contour\"}],\"heatmapgl\":[{\"colorbar\":{\"outlinewidth\":0,\"ticks\":\"\"},\"colorscale\":[[0.0,\"#0d0887\"],[0.1111111111111111,\"#46039f\"],[0.2222222222222222,\"#7201a8\"],[0.3333333333333333,\"#9c179e\"],[0.4444444444444444,\"#bd3786\"],[0.5555555555555556,\"#d8576b\"],[0.6666666666666666,\"#ed7953\"],[0.7777777777777778,\"#fb9f3a\"],[0.8888888888888888,\"#fdca26\"],[1.0,\"#f0f921\"]],\"type\":\"heatmapgl\"}],\"heatmap\":[{\"colorbar\":{\"outlinewidth\":0,\"ticks\":\"\"},\"colorscale\":[[0.0,\"#0d0887\"],[0.1111111111111111,\"#46039f\"],[0.2222222222222222,\"#7201a8\"],[0.3333333333333333,\"#9c179e\"],[0.4444444444444444,\"#bd3786\"],[0.5555555555555556,\"#d8576b\"],[0.6666666666666666,\"#ed7953\"],[0.7777777777777778,\"#fb9f3a\"],[0.8888888888888888,\"#fdca26\"],[1.0,\"#f0f921\"]],\"type\":\"heatmap\"}],\"histogram2dcontour\":[{\"colorbar\":{\"outlinewidth\":0,\"ticks\":\"\"},\"colorscale\":[[0.0,\"#0d0887\"],[0.1111111111111111,\"#46039f\"],[0.2222222222222222,\"#7201a8\"],[0.3333333333333333,\"#9c179e\"],[0.4444444444444444,\"#bd3786\"],[0.5555555555555556,\"#d8576b\"],[0.6666666666666666,\"#ed7953\"],[0.7777777777777778,\"#fb9f3a\"],[0.8888888888888888,\"#fdca26\"],[1.0,\"#f0f921\"]],\"type\":\"histogram2dcontour\"}],\"histogram2d\":[{\"colorbar\":{\"outlinewidth\":0,\"ticks\":\"\"},\"colorscale\":[[0.0,\"#0d0887\"],[0.1111111111111111,\"#46039f\"],[0.2222222222222222,\"#7201a8\"],[0.3333333333333333,\"#9c179e\"],[0.4444444444444444,\"#bd3786\"],[0.5555555555555556,\"#d8576b\"],[0.6666666666666666,\"#ed7953\"],[0.7777777777777778,\"#fb9f3a\"],[0.8888888888888888,\"#fdca26\"],[1.0,\"#f0f921\"]],\"type\":\"histogram2d\"}],\"histogram\":[{\"marker\":{\"pattern\":{\"fillmode\":\"overlay\",\"size\":10,\"solidity\":0.2}},\"type\":\"histogram\"}],\"mesh3d\":[{\"colorbar\":{\"outlinewidth\":0,\"ticks\":\"\"},\"type\":\"mesh3d\"}],\"parcoords\":[{\"line\":{\"colorbar\":{\"outlinewidth\":0,\"ticks\":\"\"}},\"type\":\"parcoords\"}],\"pie\":[{\"automargin\":true,\"type\":\"pie\"}],\"scatter3d\":[{\"line\":{\"colorbar\":{\"outlinewidth\":0,\"ticks\":\"\"}},\"marker\":{\"colorbar\":{\"outlinewidth\":0,\"ticks\":\"\"}},\"type\":\"scatter3d\"}],\"scattercarpet\":[{\"marker\":{\"colorbar\":{\"outlinewidth\":0,\"ticks\":\"\"}},\"type\":\"scattercarpet\"}],\"scattergeo\":[{\"marker\":{\"colorbar\":{\"outlinewidth\":0,\"ticks\":\"\"}},\"type\":\"scattergeo\"}],\"scattergl\":[{\"marker\":{\"colorbar\":{\"outlinewidth\":0,\"ticks\":\"\"}},\"type\":\"scattergl\"}],\"scattermapbox\":[{\"marker\":{\"colorbar\":{\"outlinewidth\":0,\"ticks\":\"\"}},\"type\":\"scattermapbox\"}],\"scatterpolargl\":[{\"marker\":{\"colorbar\":{\"outlinewidth\":0,\"ticks\":\"\"}},\"type\":\"scatterpolargl\"}],\"scatterpolar\":[{\"marker\":{\"colorbar\":{\"outlinewidth\":0,\"ticks\":\"\"}},\"type\":\"scatterpolar\"}],\"scatter\":[{\"marker\":{\"colorbar\":{\"outlinewidth\":0,\"ticks\":\"\"}},\"type\":\"scatter\"}],\"scatterternary\":[{\"marker\":{\"colorbar\":{\"outlinewidth\":0,\"ticks\":\"\"}},\"type\":\"scatterternary\"}],\"surface\":[{\"colorbar\":{\"outlinewidth\":0,\"ticks\":\"\"},\"colorscale\":[[0.0,\"#0d0887\"],[0.1111111111111111,\"#46039f\"],[0.2222222222222222,\"#7201a8\"],[0.3333333333333333,\"#9c179e\"],[0.4444444444444444,\"#bd3786\"],[0.5555555555555556,\"#d8576b\"],[0.6666666666666666,\"#ed7953\"],[0.7777777777777778,\"#fb9f3a\"],[0.8888888888888888,\"#fdca26\"],[1.0,\"#f0f921\"]],\"type\":\"surface\"}],\"table\":[{\"cells\":{\"fill\":{\"color\":\"#EBF0F8\"},\"line\":{\"color\":\"white\"}},\"header\":{\"fill\":{\"color\":\"#C8D4E3\"},\"line\":{\"color\":\"white\"}},\"type\":\"table\"}]},\"layout\":{\"annotationdefaults\":{\"arrowcolor\":\"#2a3f5f\",\"arrowhead\":0,\"arrowwidth\":1},\"autotypenumbers\":\"strict\",\"coloraxis\":{\"colorbar\":{\"outlinewidth\":0,\"ticks\":\"\"}},\"colorscale\":{\"diverging\":[[0,\"#8e0152\"],[0.1,\"#c51b7d\"],[0.2,\"#de77ae\"],[0.3,\"#f1b6da\"],[0.4,\"#fde0ef\"],[0.5,\"#f7f7f7\"],[0.6,\"#e6f5d0\"],[0.7,\"#b8e186\"],[0.8,\"#7fbc41\"],[0.9,\"#4d9221\"],[1,\"#276419\"]],\"sequential\":[[0.0,\"#0d0887\"],[0.1111111111111111,\"#46039f\"],[0.2222222222222222,\"#7201a8\"],[0.3333333333333333,\"#9c179e\"],[0.4444444444444444,\"#bd3786\"],[0.5555555555555556,\"#d8576b\"],[0.6666666666666666,\"#ed7953\"],[0.7777777777777778,\"#fb9f3a\"],[0.8888888888888888,\"#fdca26\"],[1.0,\"#f0f921\"]],\"sequentialminus\":[[0.0,\"#0d0887\"],[0.1111111111111111,\"#46039f\"],[0.2222222222222222,\"#7201a8\"],[0.3333333333333333,\"#9c179e\"],[0.4444444444444444,\"#bd3786\"],[0.5555555555555556,\"#d8576b\"],[0.6666666666666666,\"#ed7953\"],[0.7777777777777778,\"#fb9f3a\"],[0.8888888888888888,\"#fdca26\"],[1.0,\"#f0f921\"]]},\"colorway\":[\"#636efa\",\"#EF553B\",\"#00cc96\",\"#ab63fa\",\"#FFA15A\",\"#19d3f3\",\"#FF6692\",\"#B6E880\",\"#FF97FF\",\"#FECB52\"],\"font\":{\"color\":\"#2a3f5f\"},\"geo\":{\"bgcolor\":\"white\",\"lakecolor\":\"white\",\"landcolor\":\"#E5ECF6\",\"showlakes\":true,\"showland\":true,\"subunitcolor\":\"white\"},\"hoverlabel\":{\"align\":\"left\"},\"hovermode\":\"closest\",\"mapbox\":{\"style\":\"light\"},\"paper_bgcolor\":\"white\",\"plot_bgcolor\":\"#E5ECF6\",\"polar\":{\"angularaxis\":{\"gridcolor\":\"white\",\"linecolor\":\"white\",\"ticks\":\"\"},\"bgcolor\":\"#E5ECF6\",\"radialaxis\":{\"gridcolor\":\"white\",\"linecolor\":\"white\",\"ticks\":\"\"}},\"scene\":{\"xaxis\":{\"backgroundcolor\":\"#E5ECF6\",\"gridcolor\":\"white\",\"gridwidth\":2,\"linecolor\":\"white\",\"showbackground\":true,\"ticks\":\"\",\"zerolinecolor\":\"white\"},\"yaxis\":{\"backgroundcolor\":\"#E5ECF6\",\"gridcolor\":\"white\",\"gridwidth\":2,\"linecolor\":\"white\",\"showbackground\":true,\"ticks\":\"\",\"zerolinecolor\":\"white\"},\"zaxis\":{\"backgroundcolor\":\"#E5ECF6\",\"gridcolor\":\"white\",\"gridwidth\":2,\"linecolor\":\"white\",\"showbackground\":true,\"ticks\":\"\",\"zerolinecolor\":\"white\"}},\"shapedefaults\":{\"line\":{\"color\":\"#2a3f5f\"}},\"ternary\":{\"aaxis\":{\"gridcolor\":\"white\",\"linecolor\":\"white\",\"ticks\":\"\"},\"baxis\":{\"gridcolor\":\"white\",\"linecolor\":\"white\",\"ticks\":\"\"},\"bgcolor\":\"#E5ECF6\",\"caxis\":{\"gridcolor\":\"white\",\"linecolor\":\"white\",\"ticks\":\"\"}},\"title\":{\"x\":0.05},\"xaxis\":{\"automargin\":true,\"gridcolor\":\"white\",\"linecolor\":\"white\",\"ticks\":\"\",\"title\":{\"standoff\":15},\"zerolinecolor\":\"white\",\"zerolinewidth\":2},\"yaxis\":{\"automargin\":true,\"gridcolor\":\"white\",\"linecolor\":\"white\",\"ticks\":\"\",\"title\":{\"standoff\":15},\"zerolinecolor\":\"white\",\"zerolinewidth\":2}}},\"title\":{\"text\":\"\\u0410\\u044d\\u0440\\u043e\\u043f\\u043e\\u0440\\u0442 \\u0441 \\u043c\\u0438\\u043d\\u0438\\u043c\\u0430\\u043b\\u044c\\u043d\\u043e\\u0439 \\u0437\\u0430\\u0434\\u0435\\u0440\\u0436\\u043a\\u043e\\u0439 \\u0432\\u044b\\u043b\\u0435\\u0442\\u0430\"},\"xaxis\":{\"tickangle\":30},\"yaxis\":{\"title\":{\"text\":\"\\u041a\\u043e\\u043b\\u0438\\u0447\\u0435\\u0441\\u0442\\u0432\\u043e \\u0440\\u0435\\u0439\\u0441\\u043e\\u0432 \\u0441 \\u043c\\u0438\\u043d\\u0438\\u043c\\u0430\\u043b\\u044c\\u043d\\u043e\\u0439 \\u0437\\u0430\\u0434\\u0435\\u0440\\u0436\\u043a\\u043e\\u0439\"}}},                        {\"responsive\": true}                    ).then(function(){\n",
       "                            \n",
       "var gd = document.getElementById('331f5148-1cf4-49b1-9800-2ff715342e16');\n",
       "var x = new MutationObserver(function (mutations, observer) {{\n",
       "        var display = window.getComputedStyle(gd).display;\n",
       "        if (!display || display === 'none') {{\n",
       "            console.log([gd, 'removed!']);\n",
       "            Plotly.purge(gd);\n",
       "            observer.disconnect();\n",
       "        }}\n",
       "}});\n",
       "\n",
       "// Listen for the removal of the full notebook cells\n",
       "var notebookContainer = gd.closest('#notebook-container');\n",
       "if (notebookContainer) {{\n",
       "    x.observe(notebookContainer, {childList: true});\n",
       "}}\n",
       "\n",
       "// Listen for the clearing of the current output cell\n",
       "var outputEl = gd.closest('.output');\n",
       "if (outputEl) {{\n",
       "    x.observe(outputEl, {childList: true});\n",
       "}}\n",
       "\n",
       "                        })                };                });            </script>        </div>"
      ]
     },
     "metadata": {},
     "output_type": "display_data"
    }
   ],
   "source": [
    "trace = go.Bar(x=F.index, y=F.values, marker=dict(color = F.values,colorscale='viridis',showscale=True))\n",
    "\n",
    "data = [trace]\n",
    "layout = go.Layout(xaxis=dict(tickangle=30),title='Аэропорт с минимальной задержкой вылета', yaxis = dict(title = 'Количество рейсов с минимальной задержкой'))\n",
    "fig = go.Figure(data=data, layout=layout)\n",
    "py.iplot(fig)"
   ]
  },
  {
   "cell_type": "code",
   "execution_count": null,
   "id": "13f986d1",
   "metadata": {},
   "outputs": [],
   "source": [
    "# Самая пунктуальная авиакомпания на прилет в Los Angeles International Airport"
   ]
  },
  {
   "cell_type": "code",
   "execution_count": 145,
   "id": "bdc52327",
   "metadata": {},
   "outputs": [],
   "source": [
    "Fly_pos = New_Fly[New_Fly['ARRIVAL_DELAY'] < 0]"
   ]
  },
  {
   "cell_type": "code",
   "execution_count": 146,
   "id": "f6fcdbaa",
   "metadata": {},
   "outputs": [
    {
     "data": {
      "text/html": [
       "<div>\n",
       "<style scoped>\n",
       "    .dataframe tbody tr th:only-of-type {\n",
       "        vertical-align: middle;\n",
       "    }\n",
       "\n",
       "    .dataframe tbody tr th {\n",
       "        vertical-align: top;\n",
       "    }\n",
       "\n",
       "    .dataframe thead th {\n",
       "        text-align: right;\n",
       "    }\n",
       "</style>\n",
       "<table border=\"1\" class=\"dataframe\">\n",
       "  <thead>\n",
       "    <tr style=\"text-align: right;\">\n",
       "      <th></th>\n",
       "      <th>Date</th>\n",
       "      <th>AIRLINE</th>\n",
       "      <th>ORIGIN_AIRPORT</th>\n",
       "      <th>Airport_Name</th>\n",
       "      <th>Airport_City</th>\n",
       "      <th>DESTINATION_AIRPORT</th>\n",
       "      <th>Destination_Airport_Name</th>\n",
       "      <th>Destination_City</th>\n",
       "      <th>SCHEDULED_DEPARTURE</th>\n",
       "      <th>DEPARTURE_TIME</th>\n",
       "      <th>...</th>\n",
       "      <th>ARRIVAL_TIME</th>\n",
       "      <th>SCHEDULED_ARRIVAL</th>\n",
       "      <th>ARRIVAL_DELAY</th>\n",
       "      <th>SCHEDULED_TIME</th>\n",
       "      <th>ELAPSED_TIME</th>\n",
       "      <th>DISTANCE</th>\n",
       "      <th>AIR_TIME</th>\n",
       "      <th>TAXI_IN</th>\n",
       "      <th>TAXI_OUT</th>\n",
       "      <th>Taxi_Difference</th>\n",
       "    </tr>\n",
       "  </thead>\n",
       "  <tbody>\n",
       "    <tr>\n",
       "      <th>0</th>\n",
       "      <td>2015-01-01</td>\n",
       "      <td>Alaska Airlines Inc.</td>\n",
       "      <td>ANC</td>\n",
       "      <td>Ted Stevens Anchorage International Airport</td>\n",
       "      <td>Anchorage</td>\n",
       "      <td>SEA</td>\n",
       "      <td>Seattle-Tacoma International Airport</td>\n",
       "      <td>Seattle</td>\n",
       "      <td>00:05:00</td>\n",
       "      <td>23:54:00</td>\n",
       "      <td>...</td>\n",
       "      <td>04:08:00</td>\n",
       "      <td>04:30:00</td>\n",
       "      <td>-22.0</td>\n",
       "      <td>205.0</td>\n",
       "      <td>194.0</td>\n",
       "      <td>1448</td>\n",
       "      <td>169.0</td>\n",
       "      <td>4.0</td>\n",
       "      <td>21.0</td>\n",
       "      <td>17.0</td>\n",
       "    </tr>\n",
       "    <tr>\n",
       "      <th>1</th>\n",
       "      <td>2015-01-01</td>\n",
       "      <td>Alaska Airlines Inc.</td>\n",
       "      <td>ANC</td>\n",
       "      <td>Ted Stevens Anchorage International Airport</td>\n",
       "      <td>Anchorage</td>\n",
       "      <td>SEA</td>\n",
       "      <td>Seattle-Tacoma International Airport</td>\n",
       "      <td>Seattle</td>\n",
       "      <td>00:45:00</td>\n",
       "      <td>00:41:00</td>\n",
       "      <td>...</td>\n",
       "      <td>04:55:00</td>\n",
       "      <td>05:09:00</td>\n",
       "      <td>-14.0</td>\n",
       "      <td>204.0</td>\n",
       "      <td>194.0</td>\n",
       "      <td>1448</td>\n",
       "      <td>173.0</td>\n",
       "      <td>4.0</td>\n",
       "      <td>17.0</td>\n",
       "      <td>13.0</td>\n",
       "    </tr>\n",
       "    <tr>\n",
       "      <th>2</th>\n",
       "      <td>2015-01-01</td>\n",
       "      <td>Alaska Airlines Inc.</td>\n",
       "      <td>ANC</td>\n",
       "      <td>Ted Stevens Anchorage International Airport</td>\n",
       "      <td>Anchorage</td>\n",
       "      <td>SEA</td>\n",
       "      <td>Seattle-Tacoma International Airport</td>\n",
       "      <td>Seattle</td>\n",
       "      <td>01:55:00</td>\n",
       "      <td>01:40:00</td>\n",
       "      <td>...</td>\n",
       "      <td>05:58:00</td>\n",
       "      <td>06:33:00</td>\n",
       "      <td>-35.0</td>\n",
       "      <td>218.0</td>\n",
       "      <td>198.0</td>\n",
       "      <td>1448</td>\n",
       "      <td>170.0</td>\n",
       "      <td>11.0</td>\n",
       "      <td>17.0</td>\n",
       "      <td>6.0</td>\n",
       "    </tr>\n",
       "    <tr>\n",
       "      <th>3</th>\n",
       "      <td>2015-01-01</td>\n",
       "      <td>Alaska Airlines Inc.</td>\n",
       "      <td>ANC</td>\n",
       "      <td>Ted Stevens Anchorage International Airport</td>\n",
       "      <td>Anchorage</td>\n",
       "      <td>SEA</td>\n",
       "      <td>Seattle-Tacoma International Airport</td>\n",
       "      <td>Seattle</td>\n",
       "      <td>02:20:00</td>\n",
       "      <td>02:09:00</td>\n",
       "      <td>...</td>\n",
       "      <td>06:28:00</td>\n",
       "      <td>06:40:00</td>\n",
       "      <td>-12.0</td>\n",
       "      <td>200.0</td>\n",
       "      <td>199.0</td>\n",
       "      <td>1448</td>\n",
       "      <td>176.0</td>\n",
       "      <td>8.0</td>\n",
       "      <td>15.0</td>\n",
       "      <td>7.0</td>\n",
       "    </tr>\n",
       "    <tr>\n",
       "      <th>4</th>\n",
       "      <td>2015-01-01</td>\n",
       "      <td>Alaska Airlines Inc.</td>\n",
       "      <td>ANC</td>\n",
       "      <td>Ted Stevens Anchorage International Airport</td>\n",
       "      <td>Anchorage</td>\n",
       "      <td>SEA</td>\n",
       "      <td>Seattle-Tacoma International Airport</td>\n",
       "      <td>Seattle</td>\n",
       "      <td>05:05:00</td>\n",
       "      <td>04:57:00</td>\n",
       "      <td>...</td>\n",
       "      <td>09:16:00</td>\n",
       "      <td>09:30:00</td>\n",
       "      <td>-14.0</td>\n",
       "      <td>205.0</td>\n",
       "      <td>199.0</td>\n",
       "      <td>1448</td>\n",
       "      <td>179.0</td>\n",
       "      <td>4.0</td>\n",
       "      <td>16.0</td>\n",
       "      <td>12.0</td>\n",
       "    </tr>\n",
       "    <tr>\n",
       "      <th>...</th>\n",
       "      <td>...</td>\n",
       "      <td>...</td>\n",
       "      <td>...</td>\n",
       "      <td>...</td>\n",
       "      <td>...</td>\n",
       "      <td>...</td>\n",
       "      <td>...</td>\n",
       "      <td>...</td>\n",
       "      <td>...</td>\n",
       "      <td>...</td>\n",
       "      <td>...</td>\n",
       "      <td>...</td>\n",
       "      <td>...</td>\n",
       "      <td>...</td>\n",
       "      <td>...</td>\n",
       "      <td>...</td>\n",
       "      <td>...</td>\n",
       "      <td>...</td>\n",
       "      <td>...</td>\n",
       "      <td>...</td>\n",
       "      <td>...</td>\n",
       "    </tr>\n",
       "    <tr>\n",
       "      <th>5221993</th>\n",
       "      <td>2015-12-28</td>\n",
       "      <td>Atlantic Southeast Airlines</td>\n",
       "      <td>MEI</td>\n",
       "      <td>Meridian Regional Airport</td>\n",
       "      <td>Meridian</td>\n",
       "      <td>PIB</td>\n",
       "      <td>Hattiesburg-Laurel Regional Airport</td>\n",
       "      <td>Hattiesburg-Laurel</td>\n",
       "      <td>20:46:00</td>\n",
       "      <td>20:41:00</td>\n",
       "      <td>...</td>\n",
       "      <td>21:05:00</td>\n",
       "      <td>21:20:00</td>\n",
       "      <td>-15.0</td>\n",
       "      <td>34.0</td>\n",
       "      <td>24.0</td>\n",
       "      <td>69</td>\n",
       "      <td>16.0</td>\n",
       "      <td>3.0</td>\n",
       "      <td>5.0</td>\n",
       "      <td>2.0</td>\n",
       "    </tr>\n",
       "    <tr>\n",
       "      <th>5221994</th>\n",
       "      <td>2015-12-29</td>\n",
       "      <td>Atlantic Southeast Airlines</td>\n",
       "      <td>MEI</td>\n",
       "      <td>Meridian Regional Airport</td>\n",
       "      <td>Meridian</td>\n",
       "      <td>PIB</td>\n",
       "      <td>Hattiesburg-Laurel Regional Airport</td>\n",
       "      <td>Hattiesburg-Laurel</td>\n",
       "      <td>14:35:00</td>\n",
       "      <td>14:10:00</td>\n",
       "      <td>...</td>\n",
       "      <td>14:41:00</td>\n",
       "      <td>15:09:00</td>\n",
       "      <td>-28.0</td>\n",
       "      <td>34.0</td>\n",
       "      <td>31.0</td>\n",
       "      <td>69</td>\n",
       "      <td>17.0</td>\n",
       "      <td>3.0</td>\n",
       "      <td>11.0</td>\n",
       "      <td>8.0</td>\n",
       "    </tr>\n",
       "    <tr>\n",
       "      <th>5221995</th>\n",
       "      <td>2015-12-29</td>\n",
       "      <td>Atlantic Southeast Airlines</td>\n",
       "      <td>MEI</td>\n",
       "      <td>Meridian Regional Airport</td>\n",
       "      <td>Meridian</td>\n",
       "      <td>PIB</td>\n",
       "      <td>Hattiesburg-Laurel Regional Airport</td>\n",
       "      <td>Hattiesburg-Laurel</td>\n",
       "      <td>20:46:00</td>\n",
       "      <td>20:37:00</td>\n",
       "      <td>...</td>\n",
       "      <td>21:02:00</td>\n",
       "      <td>21:20:00</td>\n",
       "      <td>-18.0</td>\n",
       "      <td>34.0</td>\n",
       "      <td>25.0</td>\n",
       "      <td>69</td>\n",
       "      <td>17.0</td>\n",
       "      <td>2.0</td>\n",
       "      <td>6.0</td>\n",
       "      <td>4.0</td>\n",
       "    </tr>\n",
       "    <tr>\n",
       "      <th>5221998</th>\n",
       "      <td>2015-12-31</td>\n",
       "      <td>Atlantic Southeast Airlines</td>\n",
       "      <td>MEI</td>\n",
       "      <td>Meridian Regional Airport</td>\n",
       "      <td>Meridian</td>\n",
       "      <td>PIB</td>\n",
       "      <td>Hattiesburg-Laurel Regional Airport</td>\n",
       "      <td>Hattiesburg-Laurel</td>\n",
       "      <td>14:35:00</td>\n",
       "      <td>14:21:00</td>\n",
       "      <td>...</td>\n",
       "      <td>14:51:00</td>\n",
       "      <td>15:09:00</td>\n",
       "      <td>-18.0</td>\n",
       "      <td>34.0</td>\n",
       "      <td>30.0</td>\n",
       "      <td>69</td>\n",
       "      <td>18.0</td>\n",
       "      <td>3.0</td>\n",
       "      <td>9.0</td>\n",
       "      <td>6.0</td>\n",
       "    </tr>\n",
       "    <tr>\n",
       "      <th>5221999</th>\n",
       "      <td>2015-12-31</td>\n",
       "      <td>Atlantic Southeast Airlines</td>\n",
       "      <td>MEI</td>\n",
       "      <td>Meridian Regional Airport</td>\n",
       "      <td>Meridian</td>\n",
       "      <td>PIB</td>\n",
       "      <td>Hattiesburg-Laurel Regional Airport</td>\n",
       "      <td>Hattiesburg-Laurel</td>\n",
       "      <td>20:46:00</td>\n",
       "      <td>20:20:00</td>\n",
       "      <td>...</td>\n",
       "      <td>20:48:00</td>\n",
       "      <td>21:20:00</td>\n",
       "      <td>-32.0</td>\n",
       "      <td>34.0</td>\n",
       "      <td>28.0</td>\n",
       "      <td>69</td>\n",
       "      <td>18.0</td>\n",
       "      <td>3.0</td>\n",
       "      <td>7.0</td>\n",
       "      <td>4.0</td>\n",
       "    </tr>\n",
       "  </tbody>\n",
       "</table>\n",
       "<p>3163948 rows × 21 columns</p>\n",
       "</div>"
      ],
      "text/plain": [
       "              Date                      AIRLINE ORIGIN_AIRPORT  \\\n",
       "0       2015-01-01         Alaska Airlines Inc.            ANC   \n",
       "1       2015-01-01         Alaska Airlines Inc.            ANC   \n",
       "2       2015-01-01         Alaska Airlines Inc.            ANC   \n",
       "3       2015-01-01         Alaska Airlines Inc.            ANC   \n",
       "4       2015-01-01         Alaska Airlines Inc.            ANC   \n",
       "...            ...                          ...            ...   \n",
       "5221993 2015-12-28  Atlantic Southeast Airlines            MEI   \n",
       "5221994 2015-12-29  Atlantic Southeast Airlines            MEI   \n",
       "5221995 2015-12-29  Atlantic Southeast Airlines            MEI   \n",
       "5221998 2015-12-31  Atlantic Southeast Airlines            MEI   \n",
       "5221999 2015-12-31  Atlantic Southeast Airlines            MEI   \n",
       "\n",
       "                                        Airport_Name Airport_City  \\\n",
       "0        Ted Stevens Anchorage International Airport    Anchorage   \n",
       "1        Ted Stevens Anchorage International Airport    Anchorage   \n",
       "2        Ted Stevens Anchorage International Airport    Anchorage   \n",
       "3        Ted Stevens Anchorage International Airport    Anchorage   \n",
       "4        Ted Stevens Anchorage International Airport    Anchorage   \n",
       "...                                              ...          ...   \n",
       "5221993                    Meridian Regional Airport     Meridian   \n",
       "5221994                    Meridian Regional Airport     Meridian   \n",
       "5221995                    Meridian Regional Airport     Meridian   \n",
       "5221998                    Meridian Regional Airport     Meridian   \n",
       "5221999                    Meridian Regional Airport     Meridian   \n",
       "\n",
       "        DESTINATION_AIRPORT              Destination_Airport_Name  \\\n",
       "0                       SEA  Seattle-Tacoma International Airport   \n",
       "1                       SEA  Seattle-Tacoma International Airport   \n",
       "2                       SEA  Seattle-Tacoma International Airport   \n",
       "3                       SEA  Seattle-Tacoma International Airport   \n",
       "4                       SEA  Seattle-Tacoma International Airport   \n",
       "...                     ...                                   ...   \n",
       "5221993                 PIB   Hattiesburg-Laurel Regional Airport   \n",
       "5221994                 PIB   Hattiesburg-Laurel Regional Airport   \n",
       "5221995                 PIB   Hattiesburg-Laurel Regional Airport   \n",
       "5221998                 PIB   Hattiesburg-Laurel Regional Airport   \n",
       "5221999                 PIB   Hattiesburg-Laurel Regional Airport   \n",
       "\n",
       "           Destination_City SCHEDULED_DEPARTURE DEPARTURE_TIME  ...  \\\n",
       "0                   Seattle            00:05:00       23:54:00  ...   \n",
       "1                   Seattle            00:45:00       00:41:00  ...   \n",
       "2                   Seattle            01:55:00       01:40:00  ...   \n",
       "3                   Seattle            02:20:00       02:09:00  ...   \n",
       "4                   Seattle            05:05:00       04:57:00  ...   \n",
       "...                     ...                 ...            ...  ...   \n",
       "5221993  Hattiesburg-Laurel            20:46:00       20:41:00  ...   \n",
       "5221994  Hattiesburg-Laurel            14:35:00       14:10:00  ...   \n",
       "5221995  Hattiesburg-Laurel            20:46:00       20:37:00  ...   \n",
       "5221998  Hattiesburg-Laurel            14:35:00       14:21:00  ...   \n",
       "5221999  Hattiesburg-Laurel            20:46:00       20:20:00  ...   \n",
       "\n",
       "         ARRIVAL_TIME SCHEDULED_ARRIVAL ARRIVAL_DELAY  SCHEDULED_TIME  \\\n",
       "0            04:08:00          04:30:00         -22.0           205.0   \n",
       "1            04:55:00          05:09:00         -14.0           204.0   \n",
       "2            05:58:00          06:33:00         -35.0           218.0   \n",
       "3            06:28:00          06:40:00         -12.0           200.0   \n",
       "4            09:16:00          09:30:00         -14.0           205.0   \n",
       "...               ...               ...           ...             ...   \n",
       "5221993      21:05:00          21:20:00         -15.0            34.0   \n",
       "5221994      14:41:00          15:09:00         -28.0            34.0   \n",
       "5221995      21:02:00          21:20:00         -18.0            34.0   \n",
       "5221998      14:51:00          15:09:00         -18.0            34.0   \n",
       "5221999      20:48:00          21:20:00         -32.0            34.0   \n",
       "\n",
       "         ELAPSED_TIME  DISTANCE  AIR_TIME  TAXI_IN  TAXI_OUT  Taxi_Difference  \n",
       "0               194.0      1448     169.0      4.0      21.0             17.0  \n",
       "1               194.0      1448     173.0      4.0      17.0             13.0  \n",
       "2               198.0      1448     170.0     11.0      17.0              6.0  \n",
       "3               199.0      1448     176.0      8.0      15.0              7.0  \n",
       "4               199.0      1448     179.0      4.0      16.0             12.0  \n",
       "...               ...       ...       ...      ...       ...              ...  \n",
       "5221993          24.0        69      16.0      3.0       5.0              2.0  \n",
       "5221994          31.0        69      17.0      3.0      11.0              8.0  \n",
       "5221995          25.0        69      17.0      2.0       6.0              4.0  \n",
       "5221998          30.0        69      18.0      3.0       9.0              6.0  \n",
       "5221999          28.0        69      18.0      3.0       7.0              4.0  \n",
       "\n",
       "[3163948 rows x 21 columns]"
      ]
     },
     "execution_count": 146,
     "metadata": {},
     "output_type": "execute_result"
    }
   ],
   "source": [
    "Fly_pos"
   ]
  },
  {
   "cell_type": "code",
   "execution_count": 147,
   "id": "7e6d1aa5",
   "metadata": {},
   "outputs": [],
   "source": [
    "Fly2 = Fly_pos[Fly_pos['ARRIVAL_DELAY'] == Fly_pos['ARRIVAL_DELAY'].max()]"
   ]
  },
  {
   "cell_type": "code",
   "execution_count": 148,
   "id": "1f13968c",
   "metadata": {},
   "outputs": [
    {
     "data": {
      "text/html": [
       "<div>\n",
       "<style scoped>\n",
       "    .dataframe tbody tr th:only-of-type {\n",
       "        vertical-align: middle;\n",
       "    }\n",
       "\n",
       "    .dataframe tbody tr th {\n",
       "        vertical-align: top;\n",
       "    }\n",
       "\n",
       "    .dataframe thead th {\n",
       "        text-align: right;\n",
       "    }\n",
       "</style>\n",
       "<table border=\"1\" class=\"dataframe\">\n",
       "  <thead>\n",
       "    <tr style=\"text-align: right;\">\n",
       "      <th></th>\n",
       "      <th>Date</th>\n",
       "      <th>AIRLINE</th>\n",
       "      <th>ORIGIN_AIRPORT</th>\n",
       "      <th>Airport_Name</th>\n",
       "      <th>Airport_City</th>\n",
       "      <th>DESTINATION_AIRPORT</th>\n",
       "      <th>Destination_Airport_Name</th>\n",
       "      <th>Destination_City</th>\n",
       "      <th>SCHEDULED_DEPARTURE</th>\n",
       "      <th>DEPARTURE_TIME</th>\n",
       "      <th>...</th>\n",
       "      <th>ARRIVAL_TIME</th>\n",
       "      <th>SCHEDULED_ARRIVAL</th>\n",
       "      <th>ARRIVAL_DELAY</th>\n",
       "      <th>SCHEDULED_TIME</th>\n",
       "      <th>ELAPSED_TIME</th>\n",
       "      <th>DISTANCE</th>\n",
       "      <th>AIR_TIME</th>\n",
       "      <th>TAXI_IN</th>\n",
       "      <th>TAXI_OUT</th>\n",
       "      <th>Taxi_Difference</th>\n",
       "    </tr>\n",
       "  </thead>\n",
       "  <tbody>\n",
       "    <tr>\n",
       "      <th>94</th>\n",
       "      <td>2015-01-07</td>\n",
       "      <td>Alaska Airlines Inc.</td>\n",
       "      <td>ANC</td>\n",
       "      <td>Ted Stevens Anchorage International Airport</td>\n",
       "      <td>Anchorage</td>\n",
       "      <td>SEA</td>\n",
       "      <td>Seattle-Tacoma International Airport</td>\n",
       "      <td>Seattle</td>\n",
       "      <td>17:50:00</td>\n",
       "      <td>17:53:00</td>\n",
       "      <td>...</td>\n",
       "      <td>22:06:00</td>\n",
       "      <td>22:07:00</td>\n",
       "      <td>-1.0</td>\n",
       "      <td>197.0</td>\n",
       "      <td>193.0</td>\n",
       "      <td>1448</td>\n",
       "      <td>180.0</td>\n",
       "      <td>7.0</td>\n",
       "      <td>6.0</td>\n",
       "      <td>-1.0</td>\n",
       "    </tr>\n",
       "    <tr>\n",
       "      <th>120</th>\n",
       "      <td>2015-01-09</td>\n",
       "      <td>Alaska Airlines Inc.</td>\n",
       "      <td>ANC</td>\n",
       "      <td>Ted Stevens Anchorage International Airport</td>\n",
       "      <td>Anchorage</td>\n",
       "      <td>SEA</td>\n",
       "      <td>Seattle-Tacoma International Airport</td>\n",
       "      <td>Seattle</td>\n",
       "      <td>13:40:00</td>\n",
       "      <td>13:38:00</td>\n",
       "      <td>...</td>\n",
       "      <td>17:54:00</td>\n",
       "      <td>17:55:00</td>\n",
       "      <td>-1.0</td>\n",
       "      <td>195.0</td>\n",
       "      <td>196.0</td>\n",
       "      <td>1448</td>\n",
       "      <td>182.0</td>\n",
       "      <td>6.0</td>\n",
       "      <td>8.0</td>\n",
       "      <td>2.0</td>\n",
       "    </tr>\n",
       "    <tr>\n",
       "      <th>168</th>\n",
       "      <td>2015-01-13</td>\n",
       "      <td>Alaska Airlines Inc.</td>\n",
       "      <td>ANC</td>\n",
       "      <td>Ted Stevens Anchorage International Airport</td>\n",
       "      <td>Anchorage</td>\n",
       "      <td>SEA</td>\n",
       "      <td>Seattle-Tacoma International Airport</td>\n",
       "      <td>Seattle</td>\n",
       "      <td>05:05:00</td>\n",
       "      <td>05:01:00</td>\n",
       "      <td>...</td>\n",
       "      <td>09:29:00</td>\n",
       "      <td>09:30:00</td>\n",
       "      <td>-1.0</td>\n",
       "      <td>205.0</td>\n",
       "      <td>208.0</td>\n",
       "      <td>1448</td>\n",
       "      <td>181.0</td>\n",
       "      <td>13.0</td>\n",
       "      <td>14.0</td>\n",
       "      <td>1.0</td>\n",
       "    </tr>\n",
       "    <tr>\n",
       "      <th>183</th>\n",
       "      <td>2015-01-14</td>\n",
       "      <td>Alaska Airlines Inc.</td>\n",
       "      <td>ANC</td>\n",
       "      <td>Ted Stevens Anchorage International Airport</td>\n",
       "      <td>Anchorage</td>\n",
       "      <td>SEA</td>\n",
       "      <td>Seattle-Tacoma International Airport</td>\n",
       "      <td>Seattle</td>\n",
       "      <td>10:35:00</td>\n",
       "      <td>10:31:00</td>\n",
       "      <td>...</td>\n",
       "      <td>15:02:00</td>\n",
       "      <td>15:03:00</td>\n",
       "      <td>-1.0</td>\n",
       "      <td>208.0</td>\n",
       "      <td>211.0</td>\n",
       "      <td>1448</td>\n",
       "      <td>198.0</td>\n",
       "      <td>6.0</td>\n",
       "      <td>7.0</td>\n",
       "      <td>1.0</td>\n",
       "    </tr>\n",
       "    <tr>\n",
       "      <th>284</th>\n",
       "      <td>2015-01-22</td>\n",
       "      <td>Alaska Airlines Inc.</td>\n",
       "      <td>ANC</td>\n",
       "      <td>Ted Stevens Anchorage International Airport</td>\n",
       "      <td>Anchorage</td>\n",
       "      <td>SEA</td>\n",
       "      <td>Seattle-Tacoma International Airport</td>\n",
       "      <td>Seattle</td>\n",
       "      <td>19:10:00</td>\n",
       "      <td>19:01:00</td>\n",
       "      <td>...</td>\n",
       "      <td>23:32:00</td>\n",
       "      <td>23:33:00</td>\n",
       "      <td>-1.0</td>\n",
       "      <td>203.0</td>\n",
       "      <td>211.0</td>\n",
       "      <td>1448</td>\n",
       "      <td>180.0</td>\n",
       "      <td>4.0</td>\n",
       "      <td>27.0</td>\n",
       "      <td>23.0</td>\n",
       "    </tr>\n",
       "    <tr>\n",
       "      <th>...</th>\n",
       "      <td>...</td>\n",
       "      <td>...</td>\n",
       "      <td>...</td>\n",
       "      <td>...</td>\n",
       "      <td>...</td>\n",
       "      <td>...</td>\n",
       "      <td>...</td>\n",
       "      <td>...</td>\n",
       "      <td>...</td>\n",
       "      <td>...</td>\n",
       "      <td>...</td>\n",
       "      <td>...</td>\n",
       "      <td>...</td>\n",
       "      <td>...</td>\n",
       "      <td>...</td>\n",
       "      <td>...</td>\n",
       "      <td>...</td>\n",
       "      <td>...</td>\n",
       "      <td>...</td>\n",
       "      <td>...</td>\n",
       "      <td>...</td>\n",
       "    </tr>\n",
       "    <tr>\n",
       "      <th>5221624</th>\n",
       "      <td>2015-04-23</td>\n",
       "      <td>Atlantic Southeast Airlines</td>\n",
       "      <td>MEI</td>\n",
       "      <td>Meridian Regional Airport</td>\n",
       "      <td>Meridian</td>\n",
       "      <td>PIB</td>\n",
       "      <td>Hattiesburg-Laurel Regional Airport</td>\n",
       "      <td>Hattiesburg-Laurel</td>\n",
       "      <td>20:46:00</td>\n",
       "      <td>20:38:00</td>\n",
       "      <td>...</td>\n",
       "      <td>21:15:00</td>\n",
       "      <td>21:16:00</td>\n",
       "      <td>-1.0</td>\n",
       "      <td>30.0</td>\n",
       "      <td>37.0</td>\n",
       "      <td>69</td>\n",
       "      <td>19.0</td>\n",
       "      <td>5.0</td>\n",
       "      <td>13.0</td>\n",
       "      <td>8.0</td>\n",
       "    </tr>\n",
       "    <tr>\n",
       "      <th>5221668</th>\n",
       "      <td>2015-05-19</td>\n",
       "      <td>Atlantic Southeast Airlines</td>\n",
       "      <td>MEI</td>\n",
       "      <td>Meridian Regional Airport</td>\n",
       "      <td>Meridian</td>\n",
       "      <td>PIB</td>\n",
       "      <td>Hattiesburg-Laurel Regional Airport</td>\n",
       "      <td>Hattiesburg-Laurel</td>\n",
       "      <td>20:46:00</td>\n",
       "      <td>20:34:00</td>\n",
       "      <td>...</td>\n",
       "      <td>21:15:00</td>\n",
       "      <td>21:16:00</td>\n",
       "      <td>-1.0</td>\n",
       "      <td>30.0</td>\n",
       "      <td>41.0</td>\n",
       "      <td>69</td>\n",
       "      <td>19.0</td>\n",
       "      <td>7.0</td>\n",
       "      <td>15.0</td>\n",
       "      <td>8.0</td>\n",
       "    </tr>\n",
       "    <tr>\n",
       "      <th>5221693</th>\n",
       "      <td>2015-06-03</td>\n",
       "      <td>Atlantic Southeast Airlines</td>\n",
       "      <td>MEI</td>\n",
       "      <td>Meridian Regional Airport</td>\n",
       "      <td>Meridian</td>\n",
       "      <td>PIB</td>\n",
       "      <td>Hattiesburg-Laurel Regional Airport</td>\n",
       "      <td>Hattiesburg-Laurel</td>\n",
       "      <td>20:46:00</td>\n",
       "      <td>20:44:00</td>\n",
       "      <td>...</td>\n",
       "      <td>21:15:00</td>\n",
       "      <td>21:16:00</td>\n",
       "      <td>-1.0</td>\n",
       "      <td>30.0</td>\n",
       "      <td>31.0</td>\n",
       "      <td>69</td>\n",
       "      <td>16.0</td>\n",
       "      <td>3.0</td>\n",
       "      <td>12.0</td>\n",
       "      <td>9.0</td>\n",
       "    </tr>\n",
       "    <tr>\n",
       "      <th>5221700</th>\n",
       "      <td>2015-06-08</td>\n",
       "      <td>Atlantic Southeast Airlines</td>\n",
       "      <td>MEI</td>\n",
       "      <td>Meridian Regional Airport</td>\n",
       "      <td>Meridian</td>\n",
       "      <td>PIB</td>\n",
       "      <td>Hattiesburg-Laurel Regional Airport</td>\n",
       "      <td>Hattiesburg-Laurel</td>\n",
       "      <td>14:35:00</td>\n",
       "      <td>14:34:00</td>\n",
       "      <td>...</td>\n",
       "      <td>15:04:00</td>\n",
       "      <td>15:05:00</td>\n",
       "      <td>-1.0</td>\n",
       "      <td>30.0</td>\n",
       "      <td>30.0</td>\n",
       "      <td>69</td>\n",
       "      <td>17.0</td>\n",
       "      <td>3.0</td>\n",
       "      <td>10.0</td>\n",
       "      <td>7.0</td>\n",
       "    </tr>\n",
       "    <tr>\n",
       "      <th>5221719</th>\n",
       "      <td>2015-06-18</td>\n",
       "      <td>Atlantic Southeast Airlines</td>\n",
       "      <td>MEI</td>\n",
       "      <td>Meridian Regional Airport</td>\n",
       "      <td>Meridian</td>\n",
       "      <td>PIB</td>\n",
       "      <td>Hattiesburg-Laurel Regional Airport</td>\n",
       "      <td>Hattiesburg-Laurel</td>\n",
       "      <td>20:46:00</td>\n",
       "      <td>20:43:00</td>\n",
       "      <td>...</td>\n",
       "      <td>21:15:00</td>\n",
       "      <td>21:16:00</td>\n",
       "      <td>-1.0</td>\n",
       "      <td>30.0</td>\n",
       "      <td>32.0</td>\n",
       "      <td>69</td>\n",
       "      <td>15.0</td>\n",
       "      <td>5.0</td>\n",
       "      <td>12.0</td>\n",
       "      <td>7.0</td>\n",
       "    </tr>\n",
       "  </tbody>\n",
       "</table>\n",
       "<p>120277 rows × 21 columns</p>\n",
       "</div>"
      ],
      "text/plain": [
       "              Date                      AIRLINE ORIGIN_AIRPORT  \\\n",
       "94      2015-01-07         Alaska Airlines Inc.            ANC   \n",
       "120     2015-01-09         Alaska Airlines Inc.            ANC   \n",
       "168     2015-01-13         Alaska Airlines Inc.            ANC   \n",
       "183     2015-01-14         Alaska Airlines Inc.            ANC   \n",
       "284     2015-01-22         Alaska Airlines Inc.            ANC   \n",
       "...            ...                          ...            ...   \n",
       "5221624 2015-04-23  Atlantic Southeast Airlines            MEI   \n",
       "5221668 2015-05-19  Atlantic Southeast Airlines            MEI   \n",
       "5221693 2015-06-03  Atlantic Southeast Airlines            MEI   \n",
       "5221700 2015-06-08  Atlantic Southeast Airlines            MEI   \n",
       "5221719 2015-06-18  Atlantic Southeast Airlines            MEI   \n",
       "\n",
       "                                        Airport_Name Airport_City  \\\n",
       "94       Ted Stevens Anchorage International Airport    Anchorage   \n",
       "120      Ted Stevens Anchorage International Airport    Anchorage   \n",
       "168      Ted Stevens Anchorage International Airport    Anchorage   \n",
       "183      Ted Stevens Anchorage International Airport    Anchorage   \n",
       "284      Ted Stevens Anchorage International Airport    Anchorage   \n",
       "...                                              ...          ...   \n",
       "5221624                    Meridian Regional Airport     Meridian   \n",
       "5221668                    Meridian Regional Airport     Meridian   \n",
       "5221693                    Meridian Regional Airport     Meridian   \n",
       "5221700                    Meridian Regional Airport     Meridian   \n",
       "5221719                    Meridian Regional Airport     Meridian   \n",
       "\n",
       "        DESTINATION_AIRPORT              Destination_Airport_Name  \\\n",
       "94                      SEA  Seattle-Tacoma International Airport   \n",
       "120                     SEA  Seattle-Tacoma International Airport   \n",
       "168                     SEA  Seattle-Tacoma International Airport   \n",
       "183                     SEA  Seattle-Tacoma International Airport   \n",
       "284                     SEA  Seattle-Tacoma International Airport   \n",
       "...                     ...                                   ...   \n",
       "5221624                 PIB   Hattiesburg-Laurel Regional Airport   \n",
       "5221668                 PIB   Hattiesburg-Laurel Regional Airport   \n",
       "5221693                 PIB   Hattiesburg-Laurel Regional Airport   \n",
       "5221700                 PIB   Hattiesburg-Laurel Regional Airport   \n",
       "5221719                 PIB   Hattiesburg-Laurel Regional Airport   \n",
       "\n",
       "           Destination_City SCHEDULED_DEPARTURE DEPARTURE_TIME  ...  \\\n",
       "94                  Seattle            17:50:00       17:53:00  ...   \n",
       "120                 Seattle            13:40:00       13:38:00  ...   \n",
       "168                 Seattle            05:05:00       05:01:00  ...   \n",
       "183                 Seattle            10:35:00       10:31:00  ...   \n",
       "284                 Seattle            19:10:00       19:01:00  ...   \n",
       "...                     ...                 ...            ...  ...   \n",
       "5221624  Hattiesburg-Laurel            20:46:00       20:38:00  ...   \n",
       "5221668  Hattiesburg-Laurel            20:46:00       20:34:00  ...   \n",
       "5221693  Hattiesburg-Laurel            20:46:00       20:44:00  ...   \n",
       "5221700  Hattiesburg-Laurel            14:35:00       14:34:00  ...   \n",
       "5221719  Hattiesburg-Laurel            20:46:00       20:43:00  ...   \n",
       "\n",
       "         ARRIVAL_TIME SCHEDULED_ARRIVAL ARRIVAL_DELAY  SCHEDULED_TIME  \\\n",
       "94           22:06:00          22:07:00          -1.0           197.0   \n",
       "120          17:54:00          17:55:00          -1.0           195.0   \n",
       "168          09:29:00          09:30:00          -1.0           205.0   \n",
       "183          15:02:00          15:03:00          -1.0           208.0   \n",
       "284          23:32:00          23:33:00          -1.0           203.0   \n",
       "...               ...               ...           ...             ...   \n",
       "5221624      21:15:00          21:16:00          -1.0            30.0   \n",
       "5221668      21:15:00          21:16:00          -1.0            30.0   \n",
       "5221693      21:15:00          21:16:00          -1.0            30.0   \n",
       "5221700      15:04:00          15:05:00          -1.0            30.0   \n",
       "5221719      21:15:00          21:16:00          -1.0            30.0   \n",
       "\n",
       "         ELAPSED_TIME  DISTANCE  AIR_TIME  TAXI_IN  TAXI_OUT  Taxi_Difference  \n",
       "94              193.0      1448     180.0      7.0       6.0             -1.0  \n",
       "120             196.0      1448     182.0      6.0       8.0              2.0  \n",
       "168             208.0      1448     181.0     13.0      14.0              1.0  \n",
       "183             211.0      1448     198.0      6.0       7.0              1.0  \n",
       "284             211.0      1448     180.0      4.0      27.0             23.0  \n",
       "...               ...       ...       ...      ...       ...              ...  \n",
       "5221624          37.0        69      19.0      5.0      13.0              8.0  \n",
       "5221668          41.0        69      19.0      7.0      15.0              8.0  \n",
       "5221693          31.0        69      16.0      3.0      12.0              9.0  \n",
       "5221700          30.0        69      17.0      3.0      10.0              7.0  \n",
       "5221719          32.0        69      15.0      5.0      12.0              7.0  \n",
       "\n",
       "[120277 rows x 21 columns]"
      ]
     },
     "execution_count": 148,
     "metadata": {},
     "output_type": "execute_result"
    }
   ],
   "source": [
    "Fly2"
   ]
  },
  {
   "cell_type": "code",
   "execution_count": 53,
   "id": "53b27cac",
   "metadata": {},
   "outputs": [],
   "source": [
    "Airp = Fly2.loc[Fly2['Destination_Airport_Name'] == 'Los Angeles International Airport']"
   ]
  },
  {
   "cell_type": "code",
   "execution_count": 54,
   "id": "942653a2",
   "metadata": {},
   "outputs": [
    {
     "data": {
      "text/html": [
       "<div>\n",
       "<style scoped>\n",
       "    .dataframe tbody tr th:only-of-type {\n",
       "        vertical-align: middle;\n",
       "    }\n",
       "\n",
       "    .dataframe tbody tr th {\n",
       "        vertical-align: top;\n",
       "    }\n",
       "\n",
       "    .dataframe thead th {\n",
       "        text-align: right;\n",
       "    }\n",
       "</style>\n",
       "<table border=\"1\" class=\"dataframe\">\n",
       "  <thead>\n",
       "    <tr style=\"text-align: right;\">\n",
       "      <th></th>\n",
       "      <th>Date</th>\n",
       "      <th>AIRLINE</th>\n",
       "      <th>ORIGIN_AIRPORT</th>\n",
       "      <th>Airport_Name</th>\n",
       "      <th>Airport_City</th>\n",
       "      <th>DESTINATION_AIRPORT</th>\n",
       "      <th>Destination_Airport_Name</th>\n",
       "      <th>Destination_City</th>\n",
       "      <th>SCHEDULED_DEPARTURE</th>\n",
       "      <th>DEPARTURE_TIME</th>\n",
       "      <th>DEPARTURE_DELAY</th>\n",
       "      <th>ARRIVAL_TIME</th>\n",
       "      <th>SCHEDULED_ARRIVAL</th>\n",
       "      <th>ARRIVAL_DELAY</th>\n",
       "      <th>SCHEDULED_TIME</th>\n",
       "      <th>ELAPSED_TIME</th>\n",
       "      <th>DISTANCE</th>\n",
       "      <th>AIR_TIME</th>\n",
       "      <th>TAXI_IN</th>\n",
       "      <th>TAXI_OUT</th>\n",
       "    </tr>\n",
       "  </thead>\n",
       "  <tbody>\n",
       "    <tr>\n",
       "      <th>783078</th>\n",
       "      <td>2015-01-23</td>\n",
       "      <td>Alaska Airlines Inc.</td>\n",
       "      <td>ANC</td>\n",
       "      <td>Ted Stevens Anchorage International Airport</td>\n",
       "      <td>Anchorage</td>\n",
       "      <td>LAX</td>\n",
       "      <td>Los Angeles International Airport</td>\n",
       "      <td>Los Angeles</td>\n",
       "      <td>23:40:00</td>\n",
       "      <td>23:49:00</td>\n",
       "      <td>9.0</td>\n",
       "      <td>05:59:00</td>\n",
       "      <td>06:00:00</td>\n",
       "      <td>-1.0</td>\n",
       "      <td>320.0</td>\n",
       "      <td>310.0</td>\n",
       "      <td>2345</td>\n",
       "      <td>274.0</td>\n",
       "      <td>12.0</td>\n",
       "      <td>24.0</td>\n",
       "    </tr>\n",
       "    <tr>\n",
       "      <th>783195</th>\n",
       "      <td>2015-06-07</td>\n",
       "      <td>Alaska Airlines Inc.</td>\n",
       "      <td>ANC</td>\n",
       "      <td>Ted Stevens Anchorage International Airport</td>\n",
       "      <td>Anchorage</td>\n",
       "      <td>LAX</td>\n",
       "      <td>Los Angeles International Airport</td>\n",
       "      <td>Los Angeles</td>\n",
       "      <td>14:30:00</td>\n",
       "      <td>14:35:00</td>\n",
       "      <td>5.0</td>\n",
       "      <td>20:54:00</td>\n",
       "      <td>20:55:00</td>\n",
       "      <td>-1.0</td>\n",
       "      <td>325.0</td>\n",
       "      <td>319.0</td>\n",
       "      <td>2345</td>\n",
       "      <td>297.0</td>\n",
       "      <td>8.0</td>\n",
       "      <td>14.0</td>\n",
       "    </tr>\n",
       "    <tr>\n",
       "      <th>783221</th>\n",
       "      <td>2015-06-20</td>\n",
       "      <td>Alaska Airlines Inc.</td>\n",
       "      <td>ANC</td>\n",
       "      <td>Ted Stevens Anchorage International Airport</td>\n",
       "      <td>Anchorage</td>\n",
       "      <td>LAX</td>\n",
       "      <td>Los Angeles International Airport</td>\n",
       "      <td>Los Angeles</td>\n",
       "      <td>14:30:00</td>\n",
       "      <td>14:34:00</td>\n",
       "      <td>4.0</td>\n",
       "      <td>20:54:00</td>\n",
       "      <td>20:55:00</td>\n",
       "      <td>-1.0</td>\n",
       "      <td>325.0</td>\n",
       "      <td>320.0</td>\n",
       "      <td>2345</td>\n",
       "      <td>300.0</td>\n",
       "      <td>10.0</td>\n",
       "      <td>10.0</td>\n",
       "    </tr>\n",
       "    <tr>\n",
       "      <th>783303</th>\n",
       "      <td>2015-07-31</td>\n",
       "      <td>Alaska Airlines Inc.</td>\n",
       "      <td>ANC</td>\n",
       "      <td>Ted Stevens Anchorage International Airport</td>\n",
       "      <td>Anchorage</td>\n",
       "      <td>LAX</td>\n",
       "      <td>Los Angeles International Airport</td>\n",
       "      <td>Los Angeles</td>\n",
       "      <td>14:30:00</td>\n",
       "      <td>14:25:00</td>\n",
       "      <td>-5.0</td>\n",
       "      <td>20:52:00</td>\n",
       "      <td>20:53:00</td>\n",
       "      <td>-1.0</td>\n",
       "      <td>323.0</td>\n",
       "      <td>327.0</td>\n",
       "      <td>2345</td>\n",
       "      <td>301.0</td>\n",
       "      <td>8.0</td>\n",
       "      <td>18.0</td>\n",
       "    </tr>\n",
       "    <tr>\n",
       "      <th>783311</th>\n",
       "      <td>2015-08-04</td>\n",
       "      <td>Alaska Airlines Inc.</td>\n",
       "      <td>ANC</td>\n",
       "      <td>Ted Stevens Anchorage International Airport</td>\n",
       "      <td>Anchorage</td>\n",
       "      <td>LAX</td>\n",
       "      <td>Los Angeles International Airport</td>\n",
       "      <td>Los Angeles</td>\n",
       "      <td>14:30:00</td>\n",
       "      <td>14:37:00</td>\n",
       "      <td>7.0</td>\n",
       "      <td>20:52:00</td>\n",
       "      <td>20:53:00</td>\n",
       "      <td>-1.0</td>\n",
       "      <td>323.0</td>\n",
       "      <td>315.0</td>\n",
       "      <td>2345</td>\n",
       "      <td>279.0</td>\n",
       "      <td>9.0</td>\n",
       "      <td>27.0</td>\n",
       "    </tr>\n",
       "    <tr>\n",
       "      <th>...</th>\n",
       "      <td>...</td>\n",
       "      <td>...</td>\n",
       "      <td>...</td>\n",
       "      <td>...</td>\n",
       "      <td>...</td>\n",
       "      <td>...</td>\n",
       "      <td>...</td>\n",
       "      <td>...</td>\n",
       "      <td>...</td>\n",
       "      <td>...</td>\n",
       "      <td>...</td>\n",
       "      <td>...</td>\n",
       "      <td>...</td>\n",
       "      <td>...</td>\n",
       "      <td>...</td>\n",
       "      <td>...</td>\n",
       "      <td>...</td>\n",
       "      <td>...</td>\n",
       "      <td>...</td>\n",
       "      <td>...</td>\n",
       "    </tr>\n",
       "    <tr>\n",
       "      <th>975117</th>\n",
       "      <td>2015-03-25</td>\n",
       "      <td>Skywest Airlines Inc.</td>\n",
       "      <td>SMX</td>\n",
       "      <td>Santa Maria Public Airport (Capt G. Allan Hanc...</td>\n",
       "      <td>Santa Maria</td>\n",
       "      <td>LAX</td>\n",
       "      <td>Los Angeles International Airport</td>\n",
       "      <td>Los Angeles</td>\n",
       "      <td>13:57:00</td>\n",
       "      <td>13:56:00</td>\n",
       "      <td>-1.0</td>\n",
       "      <td>14:55:00</td>\n",
       "      <td>14:56:00</td>\n",
       "      <td>-1.0</td>\n",
       "      <td>59.0</td>\n",
       "      <td>59.0</td>\n",
       "      <td>134</td>\n",
       "      <td>40.0</td>\n",
       "      <td>10.0</td>\n",
       "      <td>9.0</td>\n",
       "    </tr>\n",
       "    <tr>\n",
       "      <th>975126</th>\n",
       "      <td>2015-03-30</td>\n",
       "      <td>Skywest Airlines Inc.</td>\n",
       "      <td>SMX</td>\n",
       "      <td>Santa Maria Public Airport (Capt G. Allan Hanc...</td>\n",
       "      <td>Santa Maria</td>\n",
       "      <td>LAX</td>\n",
       "      <td>Los Angeles International Airport</td>\n",
       "      <td>Los Angeles</td>\n",
       "      <td>08:38:00</td>\n",
       "      <td>08:32:00</td>\n",
       "      <td>-6.0</td>\n",
       "      <td>09:42:00</td>\n",
       "      <td>09:43:00</td>\n",
       "      <td>-1.0</td>\n",
       "      <td>65.0</td>\n",
       "      <td>70.0</td>\n",
       "      <td>134</td>\n",
       "      <td>39.0</td>\n",
       "      <td>21.0</td>\n",
       "      <td>10.0</td>\n",
       "    </tr>\n",
       "    <tr>\n",
       "      <th>975139</th>\n",
       "      <td>2015-04-05</td>\n",
       "      <td>Skywest Airlines Inc.</td>\n",
       "      <td>SMX</td>\n",
       "      <td>Santa Maria Public Airport (Capt G. Allan Hanc...</td>\n",
       "      <td>Santa Maria</td>\n",
       "      <td>LAX</td>\n",
       "      <td>Los Angeles International Airport</td>\n",
       "      <td>Los Angeles</td>\n",
       "      <td>13:57:00</td>\n",
       "      <td>13:48:00</td>\n",
       "      <td>-9.0</td>\n",
       "      <td>14:55:00</td>\n",
       "      <td>14:56:00</td>\n",
       "      <td>-1.0</td>\n",
       "      <td>59.0</td>\n",
       "      <td>67.0</td>\n",
       "      <td>134</td>\n",
       "      <td>36.0</td>\n",
       "      <td>12.0</td>\n",
       "      <td>19.0</td>\n",
       "    </tr>\n",
       "    <tr>\n",
       "      <th>975164</th>\n",
       "      <td>2015-04-18</td>\n",
       "      <td>Skywest Airlines Inc.</td>\n",
       "      <td>SMX</td>\n",
       "      <td>Santa Maria Public Airport (Capt G. Allan Hanc...</td>\n",
       "      <td>Santa Maria</td>\n",
       "      <td>LAX</td>\n",
       "      <td>Los Angeles International Airport</td>\n",
       "      <td>Los Angeles</td>\n",
       "      <td>06:00:00</td>\n",
       "      <td>06:00:00</td>\n",
       "      <td>0.0</td>\n",
       "      <td>07:04:00</td>\n",
       "      <td>07:05:00</td>\n",
       "      <td>-1.0</td>\n",
       "      <td>65.0</td>\n",
       "      <td>64.0</td>\n",
       "      <td>134</td>\n",
       "      <td>36.0</td>\n",
       "      <td>12.0</td>\n",
       "      <td>16.0</td>\n",
       "    </tr>\n",
       "    <tr>\n",
       "      <th>975194</th>\n",
       "      <td>2015-05-03</td>\n",
       "      <td>Skywest Airlines Inc.</td>\n",
       "      <td>SMX</td>\n",
       "      <td>Santa Maria Public Airport (Capt G. Allan Hanc...</td>\n",
       "      <td>Santa Maria</td>\n",
       "      <td>LAX</td>\n",
       "      <td>Los Angeles International Airport</td>\n",
       "      <td>Los Angeles</td>\n",
       "      <td>06:00:00</td>\n",
       "      <td>05:57:00</td>\n",
       "      <td>-3.0</td>\n",
       "      <td>07:04:00</td>\n",
       "      <td>07:05:00</td>\n",
       "      <td>-1.0</td>\n",
       "      <td>65.0</td>\n",
       "      <td>67.0</td>\n",
       "      <td>134</td>\n",
       "      <td>38.0</td>\n",
       "      <td>9.0</td>\n",
       "      <td>20.0</td>\n",
       "    </tr>\n",
       "  </tbody>\n",
       "</table>\n",
       "<p>4179 rows × 20 columns</p>\n",
       "</div>"
      ],
      "text/plain": [
       "             Date                AIRLINE ORIGIN_AIRPORT  \\\n",
       "783078 2015-01-23   Alaska Airlines Inc.            ANC   \n",
       "783195 2015-06-07   Alaska Airlines Inc.            ANC   \n",
       "783221 2015-06-20   Alaska Airlines Inc.            ANC   \n",
       "783303 2015-07-31   Alaska Airlines Inc.            ANC   \n",
       "783311 2015-08-04   Alaska Airlines Inc.            ANC   \n",
       "...           ...                    ...            ...   \n",
       "975117 2015-03-25  Skywest Airlines Inc.            SMX   \n",
       "975126 2015-03-30  Skywest Airlines Inc.            SMX   \n",
       "975139 2015-04-05  Skywest Airlines Inc.            SMX   \n",
       "975164 2015-04-18  Skywest Airlines Inc.            SMX   \n",
       "975194 2015-05-03  Skywest Airlines Inc.            SMX   \n",
       "\n",
       "                                             Airport_Name Airport_City  \\\n",
       "783078        Ted Stevens Anchorage International Airport    Anchorage   \n",
       "783195        Ted Stevens Anchorage International Airport    Anchorage   \n",
       "783221        Ted Stevens Anchorage International Airport    Anchorage   \n",
       "783303        Ted Stevens Anchorage International Airport    Anchorage   \n",
       "783311        Ted Stevens Anchorage International Airport    Anchorage   \n",
       "...                                                   ...          ...   \n",
       "975117  Santa Maria Public Airport (Capt G. Allan Hanc...  Santa Maria   \n",
       "975126  Santa Maria Public Airport (Capt G. Allan Hanc...  Santa Maria   \n",
       "975139  Santa Maria Public Airport (Capt G. Allan Hanc...  Santa Maria   \n",
       "975164  Santa Maria Public Airport (Capt G. Allan Hanc...  Santa Maria   \n",
       "975194  Santa Maria Public Airport (Capt G. Allan Hanc...  Santa Maria   \n",
       "\n",
       "       DESTINATION_AIRPORT           Destination_Airport_Name  \\\n",
       "783078                 LAX  Los Angeles International Airport   \n",
       "783195                 LAX  Los Angeles International Airport   \n",
       "783221                 LAX  Los Angeles International Airport   \n",
       "783303                 LAX  Los Angeles International Airport   \n",
       "783311                 LAX  Los Angeles International Airport   \n",
       "...                    ...                                ...   \n",
       "975117                 LAX  Los Angeles International Airport   \n",
       "975126                 LAX  Los Angeles International Airport   \n",
       "975139                 LAX  Los Angeles International Airport   \n",
       "975164                 LAX  Los Angeles International Airport   \n",
       "975194                 LAX  Los Angeles International Airport   \n",
       "\n",
       "       Destination_City SCHEDULED_DEPARTURE DEPARTURE_TIME  DEPARTURE_DELAY  \\\n",
       "783078      Los Angeles            23:40:00       23:49:00              9.0   \n",
       "783195      Los Angeles            14:30:00       14:35:00              5.0   \n",
       "783221      Los Angeles            14:30:00       14:34:00              4.0   \n",
       "783303      Los Angeles            14:30:00       14:25:00             -5.0   \n",
       "783311      Los Angeles            14:30:00       14:37:00              7.0   \n",
       "...                 ...                 ...            ...              ...   \n",
       "975117      Los Angeles            13:57:00       13:56:00             -1.0   \n",
       "975126      Los Angeles            08:38:00       08:32:00             -6.0   \n",
       "975139      Los Angeles            13:57:00       13:48:00             -9.0   \n",
       "975164      Los Angeles            06:00:00       06:00:00              0.0   \n",
       "975194      Los Angeles            06:00:00       05:57:00             -3.0   \n",
       "\n",
       "       ARRIVAL_TIME SCHEDULED_ARRIVAL  ARRIVAL_DELAY  SCHEDULED_TIME  \\\n",
       "783078     05:59:00          06:00:00           -1.0           320.0   \n",
       "783195     20:54:00          20:55:00           -1.0           325.0   \n",
       "783221     20:54:00          20:55:00           -1.0           325.0   \n",
       "783303     20:52:00          20:53:00           -1.0           323.0   \n",
       "783311     20:52:00          20:53:00           -1.0           323.0   \n",
       "...             ...               ...            ...             ...   \n",
       "975117     14:55:00          14:56:00           -1.0            59.0   \n",
       "975126     09:42:00          09:43:00           -1.0            65.0   \n",
       "975139     14:55:00          14:56:00           -1.0            59.0   \n",
       "975164     07:04:00          07:05:00           -1.0            65.0   \n",
       "975194     07:04:00          07:05:00           -1.0            65.0   \n",
       "\n",
       "        ELAPSED_TIME  DISTANCE  AIR_TIME  TAXI_IN  TAXI_OUT  \n",
       "783078         310.0      2345     274.0     12.0      24.0  \n",
       "783195         319.0      2345     297.0      8.0      14.0  \n",
       "783221         320.0      2345     300.0     10.0      10.0  \n",
       "783303         327.0      2345     301.0      8.0      18.0  \n",
       "783311         315.0      2345     279.0      9.0      27.0  \n",
       "...              ...       ...       ...      ...       ...  \n",
       "975117          59.0       134      40.0     10.0       9.0  \n",
       "975126          70.0       134      39.0     21.0      10.0  \n",
       "975139          67.0       134      36.0     12.0      19.0  \n",
       "975164          64.0       134      36.0     12.0      16.0  \n",
       "975194          67.0       134      38.0      9.0      20.0  \n",
       "\n",
       "[4179 rows x 20 columns]"
      ]
     },
     "execution_count": 54,
     "metadata": {},
     "output_type": "execute_result"
    }
   ],
   "source": [
    "Airp"
   ]
  },
  {
   "cell_type": "code",
   "execution_count": 55,
   "id": "d5c25452",
   "metadata": {},
   "outputs": [],
   "source": [
    "F2=Airp.AIRLINE.value_counts().sort_values(ascending=False)"
   ]
  },
  {
   "cell_type": "code",
   "execution_count": 56,
   "id": "02c3c5f3",
   "metadata": {},
   "outputs": [
    {
     "data": {
      "text/plain": [
       "Southwest Airlines Co.          910\n",
       "Skywest Airlines Inc.           899\n",
       "United Air Lines Inc.           548\n",
       "American Airlines Inc.          529\n",
       "Delta Air Lines Inc.            511\n",
       "Virgin America                  311\n",
       "Alaska Airlines Inc.            184\n",
       "JetBlue Airways                  82\n",
       "US Airways Inc.                  71\n",
       "Spirit Air Lines                 70\n",
       "Hawaiian Airlines Inc.           35\n",
       "Frontier Airlines Inc.           28\n",
       "American Eagle Airlines Inc.      1\n",
       "Name: AIRLINE, dtype: int64"
      ]
     },
     "execution_count": 56,
     "metadata": {},
     "output_type": "execute_result"
    }
   ],
   "source": [
    "F2"
   ]
  },
  {
   "cell_type": "code",
   "execution_count": 59,
   "id": "1b84cb62",
   "metadata": {},
   "outputs": [],
   "source": [
    "def airline_marketshare(data=Airp, by='AIRLINE', titlehere='Пунктуальные авиакомпании'):\n",
    "    df = data.loc[:, [by]]\n",
    "    df['Share %'] = 1\n",
    "    top = df.groupby(by).sum().sort_values(by='Share %',ascending=False)\n",
    "    top = top.reset_index()\n",
    "    \n",
    "    sharePlot = top['Share %'].plot.pie(subplots=True,\n",
    "                                         autopct='%0.2f%%',\n",
    "                                         fontsize=12,\n",
    "                                         figsize=(10,10),\n",
    "                                         legend=False,\n",
    "                                         labels=top[by],\n",
    "                                         shadow=False,\n",
    "                                         explode=(0.01,0.02,0.03,0.04,0.05,0.06,\n",
    "                                                  0.07,0.08,0.1,0.15,\n",
    "                                                  0.2,0.25,\n",
    "                                                  0.3,0.35)[:len(data[by].unique())],\n",
    "                                         startangle=90,\n",
    "                                         colormap='summer',\n",
    "                                         title=titlehere\n",
    "                                       )\n",
    "    \n",
    "    plt.show()"
   ]
  },
  {
   "cell_type": "code",
   "execution_count": 60,
   "id": "f23f5423",
   "metadata": {
    "scrolled": false
   },
   "outputs": [
    {
     "data": {
      "image/png": "[encoded data removed]",
      "text/plain": [
       "<Figure size 720x720 with 1 Axes>"
      ]
     },
     "metadata": {},
     "output_type": "display_data"
    }
   ],
   "source": [
    "airline_marketshare()"
   ]
  },
  {
   "cell_type": "code",
   "execution_count": null,
   "id": "063b2c81",
   "metadata": {},
   "outputs": [],
   "source": [
    "# Аэропорт с самой большой долей руления на 1 самолетовылет"
   ]
  },
  {
   "cell_type": "code",
   "execution_count": 159,
   "id": "e0d5dcfd",
   "metadata": {},
   "outputs": [
    {
     "data": {
      "application/vnd.plotly.v1+json": {
       "config": {
        "linkText": "Export to plot.ly",
        "plotlyServerURL": "https://plot.ly",
        "showLink": false
       },
       "data": [
        {
         "marker": {
          "color": [
           19.81,
           18.9,
           14.8,
           13.74,
           13.69,
           13.16,
           13.07,
           13.06,
           13.03,
           12.8,
           12.76,
           12.56,
           12.42,
           12.27,
           11.78,
           11.59,
           11.53,
           11.51,
           11.4,
           11.2,
           11.08,
           11.01,
           10.89,
           10.77,
           10.73,
           10.7,
           10.56,
           10.46,
           10.3,
           10.23,
           10.22,
           10.05,
           9.96,
           9.92,
           9.86,
           9.8,
           9.53,
           9.43,
           9.39,
           9.22,
           9.07,
           9.06,
           8.96,
           8.92,
           8.88,
           8.7,
           8.68,
           8.58,
           8.57,
           8.35,
           8.34,
           8.26,
           8.21,
           8.13,
           8.09,
           8.05,
           8.05,
           7.99,
           7.86,
           7.85,
           7.69,
           7.67,
           7.67,
           7.67,
           7.66,
           7.61,
           7.58,
           7.56,
           7.55,
           7.45,
           7.39,
           7.39,
           7.36,
           7.35,
           7.27,
           7.27,
           7.22,
           7.19,
           7.18,
           7.14,
           7.09,
           7.05,
           7,
           6.97,
           6.87,
           6.87,
           6.8,
           6.78,
           6.77,
           6.75,
           6.73,
           6.66,
           6.63,
           6.58,
           6.58,
           6.57,
           6.51,
           6.4,
           6.4,
           6.39,
           6.38,
           6.37,
           6.33,
           6.29,
           6.28,
           6.24,
           6.19,
           6.18,
           6.11,
           6.1,
           6.1,
           6.09,
           6.07,
           6.01,
           5.96,
           5.93,
           5.88,
           5.88,
           5.87,
           5.85,
           5.83,
           5.81,
           5.75,
           5.75,
           5.69,
           5.67,
           5.67,
           5.66,
           5.63,
           5.6,
           5.59,
           5.57,
           5.54,
           5.5,
           5.49,
           5.45,
           5.43,
           5.42,
           5.41,
           5.38,
           5.37,
           5.36,
           5.33,
           5.32,
           5.29,
           5.28,
           5.26,
           5.26,
           5.24,
           5.22,
           5.21,
           5.18,
           5.16,
           5.15,
           5.15,
           5.09,
           5.09,
           5.08,
           5.07,
           5.06,
           5.05,
           5.05,
           5.03,
           4.98,
           4.98,
           4.98,
           4.96,
           4.96,
           4.96,
           4.94,
           4.91,
           4.9,
           4.9,
           4.9,
           4.89,
           4.75,
           4.73,
           4.72,
           4.71,
           4.6,
           4.59,
           4.57,
           4.56,
           4.56,
           4.55,
           4.52,
           4.5,
           4.44,
           4.44,
           4.44,
           4.42,
           4.42,
           4.36,
           4.34,
           4.32,
           4.29,
           4.29,
           4.28,
           4.26,
           4.24,
           4.22,
           4.22,
           4.19,
           4.19,
           4.09,
           4.06,
           4.04,
           4.02,
           3.97,
           3.92,
           3.91,
           3.9,
           3.88,
           3.83,
           3.8,
           3.78,
           3.74,
           3.74,
           3.73,
           3.72,
           3.71,
           3.71,
           3.67,
           3.65,
           3.62,
           3.61,
           3.55,
           3.52,
           3.51,
           3.49,
           3.48,
           3.45,
           3.44,
           3.44,
           3.37,
           3.37,
           3.34,
           3.32,
           3.3,
           3.28,
           3.27,
           3.26,
           3.26,
           3.25,
           3.25,
           3.24,
           3.22,
           3.16,
           3.15,
           3.14,
           3.07,
           2.97,
           2.95,
           2.82,
           2.78,
           2.75,
           2.63,
           2.63,
           2.62,
           2.61,
           2.58,
           2.57,
           2.55,
           2.52,
           2.48,
           2.46,
           2.45,
           2.39,
           2.27,
           2.23,
           2.12,
           2.12,
           2.01,
           1.96,
           1.93,
           1.88,
           1.88,
           1.84,
           1.79,
           1.68,
           1.58,
           1.55,
           1.51,
           1.51,
           1.48,
           1.3,
           1.29,
           1.19,
           0.97,
           0.94,
           0.88,
           0.85,
           0.81,
           0.6,
           0.34,
           0.22,
           0.1,
           0.05,
           -0.25,
           -0.26,
           -0.51,
           -0.73,
           -0.79,
           -1.06,
           -1.47,
           -1.5,
           -1.54,
           -1.63,
           -1.9,
           -2.18,
           -2.4,
           -2.79,
           -3.26,
           -3.75,
           -3.78,
           -4.1,
           -4.94,
           -5.2,
           -5.68
          ],
          "colorscale": [
           [
            0,
            "#440154"
           ],
           [
            0.1111111111111111,
            "#482878"
           ],
           [
            0.2222222222222222,
            "#3e4989"
           ],
           [
            0.3333333333333333,
            "#31688e"
           ],
           [
            0.4444444444444444,
            "#26828e"
           ],
           [
            0.5555555555555556,
            "#1f9e89"
           ],
           [
            0.6666666666666666,
            "#35b779"
           ],
           [
            0.7777777777777778,
            "#6ece58"
           ],
           [
            0.8888888888888888,
            "#b5de2b"
           ],
           [
            1,
            "#fde725"
           ]
          ],
          "showscale": true
         },
         "type": "bar",
         "x": [
          "John F. Kennedy International Airport (New York International Airport)",
          "LaGuardia Airport (Marine Air Terminal)",
          "Ithaca Tompkins Regional Airport",
          "Philadelphia International Airport",
          "Brainerd Lakes Regional Airport",
          "Sloulin Field International Airport",
          "Chicago O'Hare International Airport",
          "Rhinelander-Oneida County Airport",
          "Falls International Airport",
          "Grand Forks International Airport",
          "Ford Airport",
          "Charlotte Douglas International Airport",
          "Newark Liberty International Airport",
          "Gen. Edward Lawrence Logan International Airport",
          "Chippewa County International Airport",
          "Mammoth Yosemite Airport",
          "Hartsfield-Jackson Atlanta International Airport",
          "Bemidji Regional Airport",
          "Detroit Metropolitan Airport",
          "Ronald Reagan Washington National Airport",
          "Salt Lake City International Airport",
          "Devils Lake Regional Airport",
          "Redding Municipal Airport",
          "Dallas/Fort Worth International Airport",
          "Range Regional Airport (Chisholm-Hibbing Airport)",
          "George Bush Intercontinental Airport",
          "Nantucket Memorial Airport",
          "Yellowstone Regional Airport",
          "Minneapolis-Saint Paul International Airport",
          "Miami International Airport",
          "Minot International Airport",
          "San Francisco International Airport",
          "Seattle-Tacoma International Airport",
          "Pellston Regional Airport of Emmet County",
          "Los Angeles International Airport",
          "Flagstaff Pulliam Airport",
          "City of Colorado Springs Municipal Airport",
          "Greater Binghamton Airport",
          "Juneau International Airport",
          "Denver International Airport",
          "Washington Dulles International Airport",
          "South Bend International Airport (South Bend Regional)",
          "Rogue Valley International Airport",
          "Bangor International Airport",
          "Aberdeen Regional Airport",
          "Dickinson Theodore Roosevelt Regional Airport",
          "Elmira/Corning Regional Airport",
          "Asheville Regional Airport",
          "Phoenix Sky Harbor International Airport",
          "Jackson Hole Airport",
          "Jamestown Regional Airport",
          "Honolulu International Airport",
          "Helena Regional Airport",
          "Burlington International Airport",
          "Bismarck Municipal Airport",
          "Glacier Park International Airport",
          "Tri-Cities Regional Airport",
          "Southwest Oregon Regional Airport (North Bend Municipal)",
          "Tri-Cities Airport",
          "Cedar City Regional Airport",
          "Friedman Memorial Airport",
          "Elko Regional Airport",
          "Meadows Field",
          "St. George Regional Airport",
          "Fairbanks International Airport",
          "Baltimore-Washington International Airport",
          "Augusta Regional Airport (Bush Field)",
          "Missoula International Airport",
          "McCarran International Airport",
          "Del Norte County Airport (Jack McNamara Field)",
          "Bert Mooney Airport",
          "Great Falls International Airport",
          "Bozeman Yellowstone International Airport (Gallatin Field Airport)",
          "Rock Springs-Sweetwater County Airport",
          "Duluth International Airport",
          "San Diego International Airport (Lindbergh Field)",
          "Fort Lauderdale-Hollywood International Airport",
          "Westchester County Airport",
          "Capital Region International Airport ( Lansing Capital City)",
          "Santa Maria Public Airport (Capt G. Allan Hancock Field)",
          "Brunswick Golden Isles Airport",
          "Spokane International Airport",
          "Gillette-Campbell County Airport",
          "Orlando International Airport",
          "Piedmont Triad International Airport",
          "Guam International Airport",
          "Ted Stevens Anchorage International Airport",
          "Laramie Regional Airport",
          "Lewiston-Nez Perce County Airport",
          "Dothan Regional Airport",
          "Chicago Midway International Airport",
          "Fresno Yosemite International Airport",
          "Yampa Valley Airport (Yampa Valley Regional)",
          "Bellingham International Airport",
          "Raleigh-Durham International Airport",
          "Sitka Rocky Gutierrez Airport",
          "Richmond International Airport",
          "Gunnison-Crested Butte Regional Airport",
          "Pocatello Regional Airport",
          "Long Beach Airport (Daugherty Field)",
          "Hector International Airport",
          "Wilmington Airport",
          "Delta County Airport",
          "Huntsville International Airport",
          "Syracuse Hancock International Airport",
          "Roanoke Regional Airport (Woodrum Field)",
          "Stewart International Airport",
          "Magic Valley Regional Airport (Joslin Field)",
          "Eugene Airport (Mahlon Sweet Field)",
          "Bradley International Airport",
          "Arcata Airport",
          "Portland International Jetport",
          "Chattanooga Metropolitan Airport (Lovell Field)",
          "Mercedita Airport",
          "Boise Airport (Boise Air Terminal)",
          "Westerly State Airport",
          "Billings Logan International Airport",
          "Fort Wayne International Airport",
          "Ketchikan International Airport",
          "Bob Hope Airport (Hollywood Burbank Airport)",
          "Sioux Falls Regional Airport",
          "Rapid City Regional Airport",
          "Reno/Tahoe International Airport",
          "Santa Barbara Municipal Airport (Santa Barbara Airport)",
          "James M. Cox Dayton International Airport",
          "Charleston International Airport/Charleston AFB",
          "Idaho Falls Regional Airport",
          "Albany International Airport",
          "Louisville International Airport (Standiford Field)",
          "Houghton County Memorial Airport",
          "Aspen-Pitkin County Airport",
          "Natrona County International Airport",
          "Cincinnati/Northern Kentucky International Airport",
          "Appleton International Airport",
          "Memphis International Airport",
          "Wilkes-Barre/Scranton International Airport",
          "Palm Springs International Airport",
          "Worcester Regional Airport",
          "Dallas Love Field",
          "Montrose Regional Airport",
          "Redmond Municipal Airport (Roberts Field)",
          "Savannah/Hilton Head International Airport",
          "Jacksonville International Airport",
          "Melbourne International Airport",
          "Durango-La Plata County Airport",
          "Yeager Airport",
          "Albert J. Ellis Airport",
          "Theodore Francis Green State Airport",
          "Pittsburgh International Airport",
          "Palm Beach International Airport",
          "Greater Rochester International Airport",
          "Norman Y. Mineta San José International Airport",
          "Gerald R. Ford International Airport",
          "Blue Grass Airport",
          "Birmingham-Shuttlesworth International Airport",
          "Manchester-Boston Regional Airport",
          "Portland International Airport",
          "Indianapolis International Airport",
          "El Paso International Airport",
          "Alpena County Regional Airport",
          "Petersburg James A. Johnson Airport",
          "Akron-Canton Regional Airport",
          "Greenville-Spartanburg International Airport",
          "Daytona Beach International Airport",
          "Evansville Regional Airport",
          "Lehigh Valley International Airport",
          "St. Cloud Regional Airport",
          "Niagara Falls International Airport",
          "Eagle County Regional Airport",
          "Buffalo Niagara International Airport",
          "General Mitchell International Airport",
          "Cleveland Hopkins International Airport",
          "Ontario International Airport",
          "Luis Muñoz Marín International Airport",
          "Norfolk International Airport",
          "John Wayne Airport (Orange County Airport)",
          "Nashville International Airport",
          "Erie International Airport",
          "Valdosta Regional Airport",
          "Gainesville Regional Airport",
          "Gustavus Airport",
          "Port Columbus International Airport",
          "Eppley Airfield",
          "Harrisburg International Airport",
          "Sacramento International Airport",
          "Trenton Mercer Airport",
          "Austin-Bergstrom International Airport",
          "Oakland International Airport",
          "Rafael Hernández Airport",
          "Tampa International Airport",
          "Wilmington International Airport",
          "Golden Triangle Regional Airport",
          "Southwest Florida International Airport",
          "Will Rogers World Airport",
          "Albuquerque International Sunport",
          "Southwest Georgia Regional Airport",
          "Tallahassee International Airport",
          "Fayetteville Regional Airport",
          "Adak Airport",
          "Grand Junction Regional Airport (Walker Field)",
          "Kansas City International Airport",
          "Barnstable Municipal Airport",
          "Arnold Palmer Regional Airport",
          "King Salmon Airport",
          "Tucson International Airport",
          "William P. Hobby Airport",
          "Hattiesburg-Laurel Regional Airport",
          "Midland International Airport",
          "Yakutat Airport",
          "Monterey Regional Airport (Monterey Peninsula Airport)",
          "Columbia Metropolitan Airport",
          "Merle K. (Mudhole) Smith Airport",
          "Yuma International Airport",
          "Hays Regional Airport",
          "Pensacola International Airport (Pensacola Gulf Coast Regional Airport)",
          "Charlottesville-Albemarle Airport",
          "Lubbock Preston Smith International Airport",
          "Tulsa International Airport",
          "Coastal Carolina Regional Airport (Craven County Regional)",
          "Destin-Fort Walton Beach Airport/Eglin AFB",
          "Long Island MacArthur Airport",
          "McGhee Tyson Airport",
          "Newport News/Williamsburg International Airport",
          "Columbus Metropolitan Airport",
          "Wrangell Airport",
          "Pago Pago International Airport (Tafuna Airport)",
          "Santa Fe Municipal Airport",
          "Valdez Airport",
          "Ralph Wien Memorial Airport",
          "San Luis Obispo County Regional Airport (McChesney Field)",
          "St. Louis International Airport at Lambert Field",
          "General Wayne A. Downing Peoria International Airport",
          "Martha's Vineyard Airport",
          "McClellan-Palomar Airport",
          "Corpus Christi International Airport",
          "Cyril E. King Airport",
          "Rick Husband Amarillo International Airport",
          "Sarasota-Bradenton International Airport",
          "Lafayette Regional Airport",
          "Atlantic City International Airport",
          "Montgomery Regional Airport",
          "Dillingham Airport",
          "Lincoln Airport (Lincoln Municipal)",
          "Wichita Dwight D. Eisenhower National Airport (Wichita Mid-Continent Airport)",
          "Nome Airport",
          "Northwest Arkansas Regional Airport",
          "Bishop International Airport",
          "San Antonio International Airport",
          "Bill and Hillary Clinton National Airport (Adams Field)",
          "Wiley Post-Will Rogers Memorial Airport",
          "Lea County Regional Airport",
          "Bethel Airport",
          "Meridian Regional Airport",
          "Mobile Regional Airport",
          "Kodiak Airport",
          "Baton Rouge Metropolitan Airport",
          "Dane County Regional Airport",
          "Alexandria International Airport",
          "Deadhorse Airport (Prudhoe Bay Airport)",
          "Cherry Capital Airport",
          "Kona International Airport at Keahole",
          "Kalamazoo/Battle Creek International Airport",
          "Green Bay-Austin Straubel International Airport",
          "Valley International Airport",
          "Louis Armstrong New Orleans International Airport",
          "McAllen-Miller International Airport (McAllen Miller International)",
          "MBS International Airport",
          "The Eastern Iowa Airport",
          "Springfield-Branson National Airport",
          "Des Moines International Airport",
          "University Park Airport",
          "Kahului Airport",
          "Canyonlands Field",
          "Jackson-Evers International Airport",
          "Killeen-Fort Hood Regional Airport",
          "Brownsville/South Padre Island International Airport",
          "Gulfport-Biloxi International Airport",
          "Rochester International Airport",
          "Quad City International Airport",
          "Henry E. Rohlsen Airport",
          "Central Nebraska Regional Airport",
          "Columbia Regional Airport",
          "Wichita Falls Municipal Airport/Sheppard AFB",
          "Monroe Regional Airport",
          "Chippewa Valley Regional Airport",
          "Hilo International Airport",
          "Central Illinois Regional Airport at Bloomington-Normal",
          "Laredo International Airport",
          "Myrtle Beach International Airport",
          "Lihue Airport",
          "Lake Charles Regional Airport",
          "Key West International Airport",
          "Pueblo Memorial Airport",
          "Muskegon County Airport",
          "Fort Smith Regional Airport",
          "Abraham Lincoln Capital Airport",
          "Barkley Regional Airport",
          "Joplin Regional Airport",
          "La Crosse Regional Airport",
          "Roswell International Air Center",
          "Garden City Regional Airport",
          "Toledo Express Airport",
          "Shreveport Regional Airport",
          "Manhattan Regional Airport",
          "Central Wisconsin Airport",
          "Abilene Regional Airport",
          "San Angelo Regional Airport (Mathis Field)",
          "Lawton-Fort Sill Regional Airport",
          "Tyler Pounds Regional Airport",
          "Waco Regional Airport",
          "Jack Brooks Regional Airport (Southeast Texas Regional)",
          "Easterwood Airport",
          "University of Illinois - Willard Airport",
          "Waterloo Regional Airport",
          "Sawyer International Airport",
          "Dubuque Regional Airport",
          "Sioux Gateway Airport",
          "East Texas Regional Airport",
          "Texarkana Regional Airport (Webb Field)"
         ],
         "y": [
          19.81,
          18.9,
          14.8,
          13.74,
          13.69,
          13.16,
          13.07,
          13.06,
          13.03,
          12.8,
          12.76,
          12.56,
          12.42,
          12.27,
          11.78,
          11.59,
          11.53,
          11.51,
          11.4,
          11.2,
          11.08,
          11.01,
          10.89,
          10.77,
          10.73,
          10.7,
          10.56,
          10.46,
          10.3,
          10.23,
          10.22,
          10.05,
          9.96,
          9.92,
          9.86,
          9.8,
          9.53,
          9.43,
          9.39,
          9.22,
          9.07,
          9.06,
          8.96,
          8.92,
          8.88,
          8.7,
          8.68,
          8.58,
          8.57,
          8.35,
          8.34,
          8.26,
          8.21,
          8.13,
          8.09,
          8.05,
          8.05,
          7.99,
          7.86,
          7.85,
          7.69,
          7.67,
          7.67,
          7.67,
          7.66,
          7.61,
          7.58,
          7.56,
          7.55,
          7.45,
          7.39,
          7.39,
          7.36,
          7.35,
          7.27,
          7.27,
          7.22,
          7.19,
          7.18,
          7.14,
          7.09,
          7.05,
          7,
          6.97,
          6.87,
          6.87,
          6.8,
          6.78,
          6.77,
          6.75,
          6.73,
          6.66,
          6.63,
          6.58,
          6.58,
          6.57,
          6.51,
          6.4,
          6.4,
          6.39,
          6.38,
          6.37,
          6.33,
          6.29,
          6.28,
          6.24,
          6.19,
          6.18,
          6.11,
          6.1,
          6.1,
          6.09,
          6.07,
          6.01,
          5.96,
          5.93,
          5.88,
          5.88,
          5.87,
          5.85,
          5.83,
          5.81,
          5.75,
          5.75,
          5.69,
          5.67,
          5.67,
          5.66,
          5.63,
          5.6,
          5.59,
          5.57,
          5.54,
          5.5,
          5.49,
          5.45,
          5.43,
          5.42,
          5.41,
          5.38,
          5.37,
          5.36,
          5.33,
          5.32,
          5.29,
          5.28,
          5.26,
          5.26,
          5.24,
          5.22,
          5.21,
          5.18,
          5.16,
          5.15,
          5.15,
          5.09,
          5.09,
          5.08,
          5.07,
          5.06,
          5.05,
          5.05,
          5.03,
          4.98,
          4.98,
          4.98,
          4.96,
          4.96,
          4.96,
          4.94,
          4.91,
          4.9,
          4.9,
          4.9,
          4.89,
          4.75,
          4.73,
          4.72,
          4.71,
          4.6,
          4.59,
          4.57,
          4.56,
          4.56,
          4.55,
          4.52,
          4.5,
          4.44,
          4.44,
          4.44,
          4.42,
          4.42,
          4.36,
          4.34,
          4.32,
          4.29,
          4.29,
          4.28,
          4.26,
          4.24,
          4.22,
          4.22,
          4.19,
          4.19,
          4.09,
          4.06,
          4.04,
          4.02,
          3.97,
          3.92,
          3.91,
          3.9,
          3.88,
          3.83,
          3.8,
          3.78,
          3.74,
          3.74,
          3.73,
          3.72,
          3.71,
          3.71,
          3.67,
          3.65,
          3.62,
          3.61,
          3.55,
          3.52,
          3.51,
          3.49,
          3.48,
          3.45,
          3.44,
          3.44,
          3.37,
          3.37,
          3.34,
          3.32,
          3.3,
          3.28,
          3.27,
          3.26,
          3.26,
          3.25,
          3.25,
          3.24,
          3.22,
          3.16,
          3.15,
          3.14,
          3.07,
          2.97,
          2.95,
          2.82,
          2.78,
          2.75,
          2.63,
          2.63,
          2.62,
          2.61,
          2.58,
          2.57,
          2.55,
          2.52,
          2.48,
          2.46,
          2.45,
          2.39,
          2.27,
          2.23,
          2.12,
          2.12,
          2.01,
          1.96,
          1.93,
          1.88,
          1.88,
          1.84,
          1.79,
          1.68,
          1.58,
          1.55,
          1.51,
          1.51,
          1.48,
          1.3,
          1.29,
          1.19,
          0.97,
          0.94,
          0.88,
          0.85,
          0.81,
          0.6,
          0.34,
          0.22,
          0.1,
          0.05,
          -0.25,
          -0.26,
          -0.51,
          -0.73,
          -0.79,
          -1.06,
          -1.47,
          -1.5,
          -1.54,
          -1.63,
          -1.9,
          -2.18,
          -2.4,
          -2.79,
          -3.26,
          -3.75,
          -3.78,
          -4.1,
          -4.94,
          -5.2,
          -5.68
         ]
        }
       ],
       "layout": {
        "template": {
         "data": {
          "bar": [
           {
            "error_x": {
             "color": "#2a3f5f"
            },
            "error_y": {
             "color": "#2a3f5f"
            },
            "marker": {
             "line": {
              "color": "#E5ECF6",
              "width": 0.5
             },
             "pattern": {
              "fillmode": "overlay",
              "size": 10,
              "solidity": 0.2
             }
            },
            "type": "bar"
           }
          ],
          "barpolar": [
           {
            "marker": {
             "line": {
              "color": "#E5ECF6",
              "width": 0.5
             },
             "pattern": {
              "fillmode": "overlay",
              "size": 10,
              "solidity": 0.2
             }
            },
            "type": "barpolar"
           }
          ],
          "carpet": [
           {
            "aaxis": {
             "endlinecolor": "#2a3f5f",
             "gridcolor": "white",
             "linecolor": "white",
             "minorgridcolor": "white",
             "startlinecolor": "#2a3f5f"
            },
            "baxis": {
             "endlinecolor": "#2a3f5f",
             "gridcolor": "white",
             "linecolor": "white",
             "minorgridcolor": "white",
             "startlinecolor": "#2a3f5f"
            },
            "type": "carpet"
           }
          ],
          "choropleth": [
           {
            "colorbar": {
             "outlinewidth": 0,
             "ticks": ""
            },
            "type": "choropleth"
           }
          ],
          "contour": [
           {
            "colorbar": {
             "outlinewidth": 0,
             "ticks": ""
            },
            "colorscale": [
             [
              0,
              "#0d0887"
             ],
             [
              0.1111111111111111,
              "#46039f"
             ],
             [
              0.2222222222222222,
              "#7201a8"
             ],
             [
              0.3333333333333333,
              "#9c179e"
             ],
             [
              0.4444444444444444,
              "#bd3786"
             ],
             [
              0.5555555555555556,
              "#d8576b"
             ],
             [
              0.6666666666666666,
              "#ed7953"
             ],
             [
              0.7777777777777778,
              "#fb9f3a"
             ],
             [
              0.8888888888888888,
              "#fdca26"
             ],
             [
              1,
              "#f0f921"
             ]
            ],
            "type": "contour"
           }
          ],
          "contourcarpet": [
           {
            "colorbar": {
             "outlinewidth": 0,
             "ticks": ""
            },
            "type": "contourcarpet"
           }
          ],
          "heatmap": [
           {
            "colorbar": {
             "outlinewidth": 0,
             "ticks": ""
            },
            "colorscale": [
             [
              0,
              "#0d0887"
             ],
             [
              0.1111111111111111,
              "#46039f"
             ],
             [
              0.2222222222222222,
              "#7201a8"
             ],
             [
              0.3333333333333333,
              "#9c179e"
             ],
             [
              0.4444444444444444,
              "#bd3786"
             ],
             [
              0.5555555555555556,
              "#d8576b"
             ],
             [
              0.6666666666666666,
              "#ed7953"
             ],
             [
              0.7777777777777778,
              "#fb9f3a"
             ],
             [
              0.8888888888888888,
              "#fdca26"
             ],
             [
              1,
              "#f0f921"
             ]
            ],
            "type": "heatmap"
           }
          ],
          "heatmapgl": [
           {
            "colorbar": {
             "outlinewidth": 0,
             "ticks": ""
            },
            "colorscale": [
             [
              0,
              "#0d0887"
             ],
             [
              0.1111111111111111,
              "#46039f"
             ],
             [
              0.2222222222222222,
              "#7201a8"
             ],
             [
              0.3333333333333333,
              "#9c179e"
             ],
             [
              0.4444444444444444,
              "#bd3786"
             ],
             [
              0.5555555555555556,
              "#d8576b"
             ],
             [
              0.6666666666666666,
              "#ed7953"
             ],
             [
              0.7777777777777778,
              "#fb9f3a"
             ],
             [
              0.8888888888888888,
              "#fdca26"
             ],
             [
              1,
              "#f0f921"
             ]
            ],
            "type": "heatmapgl"
           }
          ],
          "histogram": [
           {
            "marker": {
             "pattern": {
              "fillmode": "overlay",
              "size": 10,
              "solidity": 0.2
             }
            },
            "type": "histogram"
           }
          ],
          "histogram2d": [
           {
            "colorbar": {
             "outlinewidth": 0,
             "ticks": ""
            },
            "colorscale": [
             [
              0,
              "#0d0887"
             ],
             [
              0.1111111111111111,
              "#46039f"
             ],
             [
              0.2222222222222222,
              "#7201a8"
             ],
             [
              0.3333333333333333,
              "#9c179e"
             ],
             [
              0.4444444444444444,
              "#bd3786"
             ],
             [
              0.5555555555555556,
              "#d8576b"
             ],
             [
              0.6666666666666666,
              "#ed7953"
             ],
             [
              0.7777777777777778,
              "#fb9f3a"
             ],
             [
              0.8888888888888888,
              "#fdca26"
             ],
             [
              1,
              "#f0f921"
             ]
            ],
            "type": "histogram2d"
           }
          ],
          "histogram2dcontour": [
           {
            "colorbar": {
             "outlinewidth": 0,
             "ticks": ""
            },
            "colorscale": [
             [
              0,
              "#0d0887"
             ],
             [
              0.1111111111111111,
              "#46039f"
             ],
             [
              0.2222222222222222,
              "#7201a8"
             ],
             [
              0.3333333333333333,
              "#9c179e"
             ],
             [
              0.4444444444444444,
              "#bd3786"
             ],
             [
              0.5555555555555556,
              "#d8576b"
             ],
             [
              0.6666666666666666,
              "#ed7953"
             ],
             [
              0.7777777777777778,
              "#fb9f3a"
             ],
             [
              0.8888888888888888,
              "#fdca26"
             ],
             [
              1,
              "#f0f921"
             ]
            ],
            "type": "histogram2dcontour"
           }
          ],
          "mesh3d": [
           {
            "colorbar": {
             "outlinewidth": 0,
             "ticks": ""
            },
            "type": "mesh3d"
           }
          ],
          "parcoords": [
           {
            "line": {
             "colorbar": {
              "outlinewidth": 0,
              "ticks": ""
             }
            },
            "type": "parcoords"
           }
          ],
          "pie": [
           {
            "automargin": true,
            "type": "pie"
           }
          ],
          "scatter": [
           {
            "marker": {
             "colorbar": {
              "outlinewidth": 0,
              "ticks": ""
             }
            },
            "type": "scatter"
           }
          ],
          "scatter3d": [
           {
            "line": {
             "colorbar": {
              "outlinewidth": 0,
              "ticks": ""
             }
            },
            "marker": {
             "colorbar": {
              "outlinewidth": 0,
              "ticks": ""
             }
            },
            "type": "scatter3d"
           }
          ],
          "scattercarpet": [
           {
            "marker": {
             "colorbar": {
              "outlinewidth": 0,
              "ticks": ""
             }
            },
            "type": "scattercarpet"
           }
          ],
          "scattergeo": [
           {
            "marker": {
             "colorbar": {
              "outlinewidth": 0,
              "ticks": ""
             }
            },
            "type": "scattergeo"
           }
          ],
          "scattergl": [
           {
            "marker": {
             "colorbar": {
              "outlinewidth": 0,
              "ticks": ""
             }
            },
            "type": "scattergl"
           }
          ],
          "scattermapbox": [
           {
            "marker": {
             "colorbar": {
              "outlinewidth": 0,
              "ticks": ""
             }
            },
            "type": "scattermapbox"
           }
          ],
          "scatterpolar": [
           {
            "marker": {
             "colorbar": {
              "outlinewidth": 0,
              "ticks": ""
             }
            },
            "type": "scatterpolar"
           }
          ],
          "scatterpolargl": [
           {
            "marker": {
             "colorbar": {
              "outlinewidth": 0,
              "ticks": ""
             }
            },
            "type": "scatterpolargl"
           }
          ],
          "scatterternary": [
           {
            "marker": {
             "colorbar": {
              "outlinewidth": 0,
              "ticks": ""
             }
            },
            "type": "scatterternary"
           }
          ],
          "surface": [
           {
            "colorbar": {
             "outlinewidth": 0,
             "ticks": ""
            },
            "colorscale": [
             [
              0,
              "#0d0887"
             ],
             [
              0.1111111111111111,
              "#46039f"
             ],
             [
              0.2222222222222222,
              "#7201a8"
             ],
             [
              0.3333333333333333,
              "#9c179e"
             ],
             [
              0.4444444444444444,
              "#bd3786"
             ],
             [
              0.5555555555555556,
              "#d8576b"
             ],
             [
              0.6666666666666666,
              "#ed7953"
             ],
             [
              0.7777777777777778,
              "#fb9f3a"
             ],
             [
              0.8888888888888888,
              "#fdca26"
             ],
             [
              1,
              "#f0f921"
             ]
            ],
            "type": "surface"
           }
          ],
          "table": [
           {
            "cells": {
             "fill": {
              "color": "#EBF0F8"
             },
             "line": {
              "color": "white"
             }
            },
            "header": {
             "fill": {
              "color": "#C8D4E3"
             },
             "line": {
              "color": "white"
             }
            },
            "type": "table"
           }
          ]
         },
         "layout": {
          "annotationdefaults": {
           "arrowcolor": "#2a3f5f",
           "arrowhead": 0,
           "arrowwidth": 1
          },
          "autotypenumbers": "strict",
          "coloraxis": {
           "colorbar": {
            "outlinewidth": 0,
            "ticks": ""
           }
          },
          "colorscale": {
           "diverging": [
            [
             0,
             "#8e0152"
            ],
            [
             0.1,
             "#c51b7d"
            ],
            [
             0.2,
             "#de77ae"
            ],
            [
             0.3,
             "#f1b6da"
            ],
            [
             0.4,
             "#fde0ef"
            ],
            [
             0.5,
             "#f7f7f7"
            ],
            [
             0.6,
             "#e6f5d0"
            ],
            [
             0.7,
             "#b8e186"
            ],
            [
             0.8,
             "#7fbc41"
            ],
            [
             0.9,
             "#4d9221"
            ],
            [
             1,
             "#276419"
            ]
           ],
           "sequential": [
            [
             0,
             "#0d0887"
            ],
            [
             0.1111111111111111,
             "#46039f"
            ],
            [
             0.2222222222222222,
             "#7201a8"
            ],
            [
             0.3333333333333333,
             "#9c179e"
            ],
            [
             0.4444444444444444,
             "#bd3786"
            ],
            [
             0.5555555555555556,
             "#d8576b"
            ],
            [
             0.6666666666666666,
             "#ed7953"
            ],
            [
             0.7777777777777778,
             "#fb9f3a"
            ],
            [
             0.8888888888888888,
             "#fdca26"
            ],
            [
             1,
             "#f0f921"
            ]
           ],
           "sequentialminus": [
            [
             0,
             "#0d0887"
            ],
            [
             0.1111111111111111,
             "#46039f"
            ],
            [
             0.2222222222222222,
             "#7201a8"
            ],
            [
             0.3333333333333333,
             "#9c179e"
            ],
            [
             0.4444444444444444,
             "#bd3786"
            ],
            [
             0.5555555555555556,
             "#d8576b"
            ],
            [
             0.6666666666666666,
             "#ed7953"
            ],
            [
             0.7777777777777778,
             "#fb9f3a"
            ],
            [
             0.8888888888888888,
             "#fdca26"
            ],
            [
             1,
             "#f0f921"
            ]
           ]
          },
          "colorway": [
           "#636efa",
           "#EF553B",
           "#00cc96",
           "#ab63fa",
           "#FFA15A",
           "#19d3f3",
           "#FF6692",
           "#B6E880",
           "#FF97FF",
           "#FECB52"
          ],
          "font": {
           "color": "#2a3f5f"
          },
          "geo": {
           "bgcolor": "white",
           "lakecolor": "white",
           "landcolor": "#E5ECF6",
           "showlakes": true,
           "showland": true,
           "subunitcolor": "white"
          },
          "hoverlabel": {
           "align": "left"
          },
          "hovermode": "closest",
          "mapbox": {
           "style": "light"
          },
          "paper_bgcolor": "white",
          "plot_bgcolor": "#E5ECF6",
          "polar": {
           "angularaxis": {
            "gridcolor": "white",
            "linecolor": "white",
            "ticks": ""
           },
           "bgcolor": "#E5ECF6",
           "radialaxis": {
            "gridcolor": "white",
            "linecolor": "white",
            "ticks": ""
           }
          },
          "scene": {
           "xaxis": {
            "backgroundcolor": "#E5ECF6",
            "gridcolor": "white",
            "gridwidth": 2,
            "linecolor": "white",
            "showbackground": true,
            "ticks": "",
            "zerolinecolor": "white"
           },
           "yaxis": {
            "backgroundcolor": "#E5ECF6",
            "gridcolor": "white",
            "gridwidth": 2,
            "linecolor": "white",
            "showbackground": true,
            "ticks": "",
            "zerolinecolor": "white"
           },
           "zaxis": {
            "backgroundcolor": "#E5ECF6",
            "gridcolor": "white",
            "gridwidth": 2,
            "linecolor": "white",
            "showbackground": true,
            "ticks": "",
            "zerolinecolor": "white"
           }
          },
          "shapedefaults": {
           "line": {
            "color": "#2a3f5f"
           }
          },
          "ternary": {
           "aaxis": {
            "gridcolor": "white",
            "linecolor": "white",
            "ticks": ""
           },
           "baxis": {
            "gridcolor": "white",
            "linecolor": "white",
            "ticks": ""
           },
           "bgcolor": "#E5ECF6",
           "caxis": {
            "gridcolor": "white",
            "linecolor": "white",
            "ticks": ""
           }
          },
          "title": {
           "x": 0.05
          },
          "xaxis": {
           "automargin": true,
           "gridcolor": "white",
           "linecolor": "white",
           "ticks": "",
           "title": {
            "standoff": 15
           },
           "zerolinecolor": "white",
           "zerolinewidth": 2
          },
          "yaxis": {
           "automargin": true,
           "gridcolor": "white",
           "linecolor": "white",
           "ticks": "",
           "title": {
            "standoff": 15
           },
           "zerolinecolor": "white",
           "zerolinewidth": 2
          }
         }
        },
        "title": {
         "text": "Airport_Name_Difference"
        },
        "xaxis": {
         "tickangle": 30
        },
        "yaxis": {
         "title": {
          "text": "Minute"
         }
        }
       }
      },
      "text/html": [
       "<div>                            <div id=\"ce67c562-ef00-419e-94b7-79cb6b8364f1\" class=\"plotly-graph-div\" style=\"height:525px; width:100%;\"></div>            <script type=\"text/javascript\">                require([\"plotly\"], function(Plotly) {                    window.PLOTLYENV=window.PLOTLYENV || {};                                    if (document.getElementById(\"ce67c562-ef00-419e-94b7-79cb6b8364f1\")) {                    Plotly.newPlot(                        \"ce67c562-ef00-419e-94b7-79cb6b8364f1\",                        [{\"marker\":{\"color\":[19.81,18.9,14.8,13.74,13.69,13.16,13.07,13.06,13.03,12.8,12.76,12.56,12.42,12.27,11.78,11.59,11.53,11.51,11.4,11.2,11.08,11.01,10.89,10.77,10.73,10.7,10.56,10.46,10.3,10.23,10.22,10.05,9.96,9.92,9.86,9.8,9.53,9.43,9.39,9.22,9.07,9.06,8.96,8.92,8.88,8.7,8.68,8.58,8.57,8.35,8.34,8.26,8.21,8.13,8.09,8.05,8.05,7.99,7.86,7.85,7.69,7.67,7.67,7.67,7.66,7.61,7.58,7.56,7.55,7.45,7.39,7.39,7.36,7.35,7.27,7.27,7.22,7.19,7.18,7.14,7.09,7.05,7.0,6.97,6.87,6.87,6.8,6.78,6.77,6.75,6.73,6.66,6.63,6.58,6.58,6.57,6.51,6.4,6.4,6.39,6.38,6.37,6.33,6.29,6.28,6.24,6.19,6.18,6.11,6.1,6.1,6.09,6.07,6.01,5.96,5.93,5.88,5.88,5.87,5.85,5.83,5.81,5.75,5.75,5.69,5.67,5.67,5.66,5.63,5.6,5.59,5.57,5.54,5.5,5.49,5.45,5.43,5.42,5.41,5.38,5.37,5.36,5.33,5.32,5.29,5.28,5.26,5.26,5.24,5.22,5.21,5.18,5.16,5.15,5.15,5.09,5.09,5.08,5.07,5.06,5.05,5.05,5.03,4.98,4.98,4.98,4.96,4.96,4.96,4.94,4.91,4.9,4.9,4.9,4.89,4.75,4.73,4.72,4.71,4.6,4.59,4.57,4.56,4.56,4.55,4.52,4.5,4.44,4.44,4.44,4.42,4.42,4.36,4.34,4.32,4.29,4.29,4.28,4.26,4.24,4.22,4.22,4.19,4.19,4.09,4.06,4.04,4.02,3.97,3.92,3.91,3.9,3.88,3.83,3.8,3.78,3.74,3.74,3.73,3.72,3.71,3.71,3.67,3.65,3.62,3.61,3.55,3.52,3.51,3.49,3.48,3.45,3.44,3.44,3.37,3.37,3.34,3.32,3.3,3.28,3.27,3.26,3.26,3.25,3.25,3.24,3.22,3.16,3.15,3.14,3.07,2.97,2.95,2.82,2.78,2.75,2.63,2.63,2.62,2.61,2.58,2.57,2.55,2.52,2.48,2.46,2.45,2.39,2.27,2.23,2.12,2.12,2.01,1.96,1.93,1.88,1.88,1.84,1.79,1.68,1.58,1.55,1.51,1.51,1.48,1.3,1.29,1.19,0.97,0.94,0.88,0.85,0.81,0.6,0.34,0.22,0.1,0.05,-0.25,-0.26,-0.51,-0.73,-0.79,-1.06,-1.47,-1.5,-1.54,-1.63,-1.9,-2.18,-2.4,-2.79,-3.26,-3.75,-3.78,-4.1,-4.94,-5.2,-5.68],\"colorscale\":[[0.0,\"#440154\"],[0.1111111111111111,\"#482878\"],[0.2222222222222222,\"#3e4989\"],[0.3333333333333333,\"#31688e\"],[0.4444444444444444,\"#26828e\"],[0.5555555555555556,\"#1f9e89\"],[0.6666666666666666,\"#35b779\"],[0.7777777777777778,\"#6ece58\"],[0.8888888888888888,\"#b5de2b\"],[1.0,\"#fde725\"]],\"showscale\":true},\"x\":[\"John F. Kennedy International Airport\\u00a0(New York International Airport)\",\"LaGuardia Airport (Marine Air Terminal)\",\"Ithaca Tompkins Regional Airport\",\"Philadelphia International Airport\",\"Brainerd Lakes Regional Airport\",\"Sloulin Field International Airport\",\"Chicago O'Hare International Airport\",\"Rhinelander-Oneida County Airport\",\"Falls International Airport\",\"Grand Forks International Airport\",\"Ford Airport\",\"Charlotte Douglas International Airport\",\"Newark Liberty International Airport\",\"Gen. Edward Lawrence Logan International Airport\",\"Chippewa County International Airport\",\"Mammoth Yosemite Airport\",\"Hartsfield-Jackson Atlanta International Airport\",\"Bemidji Regional Airport\",\"Detroit Metropolitan Airport\",\"Ronald Reagan Washington National Airport\",\"Salt Lake City International Airport\",\"Devils Lake Regional Airport\",\"Redding Municipal Airport\",\"Dallas/Fort Worth International Airport\",\"Range Regional Airport\\u00a0(Chisholm-Hibbing Airport)\",\"George Bush Intercontinental Airport\",\"Nantucket Memorial Airport\",\"Yellowstone Regional Airport\",\"Minneapolis-Saint Paul International Airport\",\"Miami International Airport\",\"Minot International Airport\",\"San Francisco International Airport\",\"Seattle-Tacoma International Airport\",\"Pellston Regional Airport of Emmet County\",\"Los Angeles International Airport\",\"Flagstaff Pulliam Airport\",\"City of Colorado Springs Municipal Airport\",\"Greater Binghamton Airport\",\"Juneau International Airport\",\"Denver International Airport\",\"Washington Dulles International Airport\",\"South Bend International Airport\\u00a0(South Bend Regional)\",\"Rogue Valley International Airport\",\"Bangor International Airport\",\"Aberdeen Regional Airport\",\"Dickinson Theodore Roosevelt Regional Airport\",\"Elmira/Corning Regional Airport\",\"Asheville Regional Airport\",\"Phoenix Sky Harbor International Airport\",\"Jackson Hole Airport\",\"Jamestown Regional Airport\",\"Honolulu International Airport\",\"Helena Regional Airport\",\"Burlington International Airport\",\"Bismarck Municipal Airport\",\"Glacier Park International Airport\",\"Tri-Cities Regional Airport\",\"Southwest Oregon Regional Airport\\u00a0(North Bend Municipal)\",\"Tri-Cities Airport\",\"Cedar City Regional Airport\",\"Friedman Memorial Airport\",\"Elko Regional Airport\",\"Meadows Field\",\"St. George Regional Airport\",\"Fairbanks International Airport\",\"Baltimore-Washington International Airport\",\"Augusta Regional Airport\\u00a0(Bush Field)\",\"Missoula International Airport\",\"McCarran International Airport\",\"Del Norte County Airport\\u00a0(Jack McNamara Field)\",\"Bert Mooney Airport\",\"Great Falls International Airport\",\"Bozeman Yellowstone International Airport\\u00a0(Gallatin Field Airport)\",\"Rock Springs-Sweetwater County Airport\",\"Duluth International Airport\",\"San Diego International Airport\\u00a0(Lindbergh Field)\",\"Fort Lauderdale-Hollywood International Airport\",\"Westchester County Airport\",\"Capital Region International Airport\\u00a0( Lansing Capital City)\",\"Santa Maria Public Airport\\u00a0(Capt G. Allan Hancock Field)\",\"Brunswick Golden Isles Airport\",\"Spokane International Airport\",\"Gillette-Campbell County Airport\",\"Orlando International Airport\",\"Piedmont Triad International Airport\",\"Guam International Airport\",\"Ted Stevens Anchorage International Airport\",\"Laramie Regional Airport\",\"Lewiston-Nez Perce County Airport\",\"Dothan Regional Airport\",\"Chicago Midway International Airport\",\"Fresno Yosemite International Airport\",\"Yampa Valley Airport\\u00a0(Yampa Valley Regional)\",\"Bellingham International Airport\",\"Raleigh-Durham International Airport\",\"Sitka Rocky Gutierrez Airport\",\"Richmond International Airport\",\"Gunnison-Crested Butte Regional Airport\",\"Pocatello Regional Airport\",\"Long Beach Airport\\u00a0(Daugherty Field)\",\"Hector International Airport\",\"Wilmington Airport\",\"Delta County Airport\",\"Huntsville International Airport\",\"Syracuse Hancock International Airport\",\"Roanoke Regional Airport\\u00a0(Woodrum Field)\",\"Stewart International Airport\",\"Magic Valley Regional Airport\\u00a0(Joslin Field)\",\"Eugene Airport\\u00a0(Mahlon Sweet Field)\",\"Bradley International Airport\",\"Arcata Airport\",\"Portland International Jetport\",\"Chattanooga Metropolitan Airport\\u00a0(Lovell Field)\",\"Mercedita Airport\",\"Boise Airport\\u00a0(Boise Air Terminal)\",\"Westerly State Airport\",\"Billings Logan International Airport\",\"Fort Wayne International Airport\",\"Ketchikan International Airport\",\"Bob Hope Airport\\u00a0(Hollywood Burbank Airport)\",\"Sioux Falls Regional Airport\",\"Rapid City Regional Airport\",\"Reno/Tahoe International Airport\",\"Santa Barbara Municipal Airport\\u00a0(Santa Barbara Airport)\",\"James M. Cox Dayton International Airport\",\"Charleston International Airport/Charleston AFB\",\"Idaho Falls Regional Airport\",\"Albany International Airport\",\"Louisville International Airport\\u00a0(Standiford Field)\",\"Houghton County Memorial Airport\",\"Aspen-Pitkin County Airport\",\"Natrona County International Airport\",\"Cincinnati/Northern Kentucky International Airport\",\"Appleton International Airport\",\"Memphis International Airport\",\"Wilkes-Barre/Scranton International Airport\",\"Palm Springs International Airport\",\"Worcester Regional Airport\",\"Dallas Love Field\",\"Montrose Regional Airport\",\"Redmond Municipal Airport\\u00a0(Roberts Field)\",\"Savannah/Hilton Head International Airport\",\"Jacksonville International Airport\",\"Melbourne International Airport\",\"Durango-La Plata County Airport\",\"Yeager Airport\",\"Albert J. Ellis Airport\",\"Theodore Francis Green State Airport\",\"Pittsburgh International Airport\",\"Palm Beach International Airport\",\"Greater Rochester International Airport\",\"Norman Y. Mineta San Jos\\u00e9 International Airport\",\"Gerald R. Ford International Airport\",\"Blue Grass Airport\",\"Birmingham-Shuttlesworth International Airport\",\"Manchester-Boston Regional Airport\",\"Portland International Airport\",\"Indianapolis International Airport\",\"El Paso International Airport\",\"Alpena County Regional Airport\",\"Petersburg James A. Johnson Airport\",\"Akron-Canton Regional Airport\",\"Greenville-Spartanburg International Airport\",\"Daytona Beach International Airport\",\"Evansville Regional Airport\",\"Lehigh Valley International Airport\",\"St. Cloud Regional Airport\",\"Niagara Falls International Airport\",\"Eagle County Regional Airport\",\"Buffalo Niagara International Airport\",\"General Mitchell International Airport\",\"Cleveland Hopkins International Airport\",\"Ontario International Airport\",\"Luis Mu\\u00f1oz Mar\\u00edn International Airport\",\"Norfolk International Airport\",\"John Wayne Airport\\u00a0(Orange County Airport)\",\"Nashville International Airport\",\"Erie International Airport\",\"Valdosta Regional Airport\",\"Gainesville Regional Airport\",\"Gustavus Airport\",\"Port Columbus International Airport\",\"Eppley Airfield\",\"Harrisburg International Airport\",\"Sacramento International Airport\",\"Trenton Mercer Airport\",\"Austin-Bergstrom International Airport\",\"Oakland International Airport\",\"Rafael Hern\\u00e1ndez Airport\",\"Tampa International Airport\",\"Wilmington International Airport\",\"Golden Triangle Regional Airport\",\"Southwest Florida International Airport\",\"Will Rogers World Airport\",\"Albuquerque International Sunport\",\"Southwest Georgia Regional Airport\",\"Tallahassee International Airport\",\"Fayetteville Regional Airport\",\"Adak Airport\",\"Grand Junction Regional Airport\\u00a0(Walker Field)\",\"Kansas City International Airport\",\"Barnstable Municipal Airport\",\"Arnold Palmer Regional Airport\",\"King Salmon Airport\",\"Tucson International Airport\",\"William P. Hobby Airport\",\"Hattiesburg-Laurel Regional Airport\",\"Midland International Airport\",\"Yakutat Airport\",\"Monterey Regional Airport\\u00a0(Monterey Peninsula Airport)\",\"Columbia Metropolitan Airport\",\"Merle K. (Mudhole) Smith Airport\",\"Yuma International Airport\",\"Hays Regional Airport\",\"Pensacola International Airport\\u00a0(Pensacola Gulf Coast Regional Airport)\",\"Charlottesville-Albemarle Airport\",\"Lubbock Preston Smith International Airport\",\"Tulsa International Airport\",\"Coastal Carolina Regional Airport\\u00a0(Craven County Regional)\",\"Destin-Fort Walton Beach Airport/Eglin AFB\",\"Long Island MacArthur Airport\",\"McGhee Tyson Airport\",\"Newport News/Williamsburg International Airport\",\"Columbus Metropolitan Airport\",\"Wrangell Airport\",\"Pago Pago International Airport (Tafuna Airport)\",\"Santa Fe Municipal Airport\",\"Valdez Airport\",\"Ralph Wien Memorial Airport\",\"San Luis Obispo County Regional Airport\\u00a0(McChesney Field)\",\"St. Louis International Airport at Lambert Field\",\"General Wayne A. Downing Peoria International Airport\",\"Martha's Vineyard Airport\",\"McClellan-Palomar Airport\",\"Corpus Christi International Airport\",\"Cyril E. King Airport\",\"Rick Husband Amarillo International Airport\",\"Sarasota-Bradenton International Airport\",\"Lafayette Regional Airport\",\"Atlantic City International Airport\",\"Montgomery Regional Airport\",\"Dillingham Airport\",\"Lincoln Airport\\u00a0(Lincoln Municipal)\",\"Wichita Dwight D. Eisenhower National Airport\\u00a0(Wichita Mid-Continent Airport)\",\"Nome Airport\",\"Northwest Arkansas Regional Airport\",\"Bishop International Airport\",\"San Antonio International Airport\",\"Bill and Hillary Clinton National Airport\\u00a0(Adams Field)\",\"Wiley Post-Will Rogers Memorial Airport\",\"Lea County Regional Airport\",\"Bethel Airport\",\"Meridian Regional Airport\",\"Mobile Regional Airport\",\"Kodiak Airport\",\"Baton Rouge Metropolitan Airport\",\"Dane County Regional Airport\",\"Alexandria International Airport\",\"Deadhorse Airport\\u00a0(Prudhoe Bay Airport)\",\"Cherry Capital Airport\",\"Kona International Airport at Keahole\",\"Kalamazoo/Battle Creek International Airport\",\"Green Bay-Austin Straubel International Airport\",\"Valley International Airport\",\"Louis Armstrong New Orleans International Airport\",\"McAllen-Miller International Airport\\u00a0(McAllen Miller International)\",\"MBS International Airport\",\"The Eastern Iowa Airport\",\"Springfield-Branson National Airport\",\"Des Moines International Airport\",\"University Park Airport\",\"Kahului Airport\",\"Canyonlands Field\",\"Jackson-Evers International Airport\",\"Killeen-Fort Hood Regional Airport\",\"Brownsville/South Padre Island International Airport\",\"Gulfport-Biloxi International Airport\",\"Rochester International Airport\",\"Quad City International Airport\",\"Henry E. Rohlsen Airport\",\"Central Nebraska Regional Airport\",\"Columbia Regional Airport\",\"Wichita Falls Municipal Airport/Sheppard AFB\",\"Monroe Regional Airport\",\"Chippewa Valley Regional Airport\",\"Hilo International Airport\",\"Central Illinois Regional Airport at Bloomington-Normal\",\"Laredo International Airport\",\"Myrtle Beach International Airport\",\"Lihue Airport\",\"Lake Charles Regional Airport\",\"Key West International Airport\",\"Pueblo Memorial Airport\",\"Muskegon County Airport\",\"Fort Smith Regional Airport\",\"Abraham Lincoln Capital Airport\",\"Barkley Regional Airport\",\"Joplin Regional Airport\",\"La Crosse Regional Airport\",\"Roswell International Air Center\",\"Garden City Regional Airport\",\"Toledo Express Airport\",\"Shreveport Regional Airport\",\"Manhattan Regional Airport\",\"Central Wisconsin Airport\",\"Abilene Regional Airport\",\"San Angelo Regional Airport\\u00a0(Mathis Field)\",\"Lawton-Fort Sill Regional Airport\",\"Tyler Pounds Regional Airport\",\"Waco Regional Airport\",\"Jack Brooks Regional Airport\\u00a0(Southeast Texas Regional)\",\"Easterwood Airport\",\"University of Illinois - Willard Airport\",\"Waterloo Regional Airport\",\"Sawyer International Airport\",\"Dubuque Regional Airport\",\"Sioux Gateway Airport\",\"East Texas Regional Airport\",\"Texarkana Regional Airport\\u00a0(Webb Field)\"],\"y\":[19.81,18.9,14.8,13.74,13.69,13.16,13.07,13.06,13.03,12.8,12.76,12.56,12.42,12.27,11.78,11.59,11.53,11.51,11.4,11.2,11.08,11.01,10.89,10.77,10.73,10.7,10.56,10.46,10.3,10.23,10.22,10.05,9.96,9.92,9.86,9.8,9.53,9.43,9.39,9.22,9.07,9.06,8.96,8.92,8.88,8.7,8.68,8.58,8.57,8.35,8.34,8.26,8.21,8.13,8.09,8.05,8.05,7.99,7.86,7.85,7.69,7.67,7.67,7.67,7.66,7.61,7.58,7.56,7.55,7.45,7.39,7.39,7.36,7.35,7.27,7.27,7.22,7.19,7.18,7.14,7.09,7.05,7.0,6.97,6.87,6.87,6.8,6.78,6.77,6.75,6.73,6.66,6.63,6.58,6.58,6.57,6.51,6.4,6.4,6.39,6.38,6.37,6.33,6.29,6.28,6.24,6.19,6.18,6.11,6.1,6.1,6.09,6.07,6.01,5.96,5.93,5.88,5.88,5.87,5.85,5.83,5.81,5.75,5.75,5.69,5.67,5.67,5.66,5.63,5.6,5.59,5.57,5.54,5.5,5.49,5.45,5.43,5.42,5.41,5.38,5.37,5.36,5.33,5.32,5.29,5.28,5.26,5.26,5.24,5.22,5.21,5.18,5.16,5.15,5.15,5.09,5.09,5.08,5.07,5.06,5.05,5.05,5.03,4.98,4.98,4.98,4.96,4.96,4.96,4.94,4.91,4.9,4.9,4.9,4.89,4.75,4.73,4.72,4.71,4.6,4.59,4.57,4.56,4.56,4.55,4.52,4.5,4.44,4.44,4.44,4.42,4.42,4.36,4.34,4.32,4.29,4.29,4.28,4.26,4.24,4.22,4.22,4.19,4.19,4.09,4.06,4.04,4.02,3.97,3.92,3.91,3.9,3.88,3.83,3.8,3.78,3.74,3.74,3.73,3.72,3.71,3.71,3.67,3.65,3.62,3.61,3.55,3.52,3.51,3.49,3.48,3.45,3.44,3.44,3.37,3.37,3.34,3.32,3.3,3.28,3.27,3.26,3.26,3.25,3.25,3.24,3.22,3.16,3.15,3.14,3.07,2.97,2.95,2.82,2.78,2.75,2.63,2.63,2.62,2.61,2.58,2.57,2.55,2.52,2.48,2.46,2.45,2.39,2.27,2.23,2.12,2.12,2.01,1.96,1.93,1.88,1.88,1.84,1.79,1.68,1.58,1.55,1.51,1.51,1.48,1.3,1.29,1.19,0.97,0.94,0.88,0.85,0.81,0.6,0.34,0.22,0.1,0.05,-0.25,-0.26,-0.51,-0.73,-0.79,-1.06,-1.47,-1.5,-1.54,-1.63,-1.9,-2.18,-2.4,-2.79,-3.26,-3.75,-3.78,-4.1,-4.94,-5.2,-5.68],\"type\":\"bar\"}],                        {\"template\":{\"data\":{\"barpolar\":[{\"marker\":{\"line\":{\"color\":\"#E5ECF6\",\"width\":0.5},\"pattern\":{\"fillmode\":\"overlay\",\"size\":10,\"solidity\":0.2}},\"type\":\"barpolar\"}],\"bar\":[{\"error_x\":{\"color\":\"#2a3f5f\"},\"error_y\":{\"color\":\"#2a3f5f\"},\"marker\":{\"line\":{\"color\":\"#E5ECF6\",\"width\":0.5},\"pattern\":{\"fillmode\":\"overlay\",\"size\":10,\"solidity\":0.2}},\"type\":\"bar\"}],\"carpet\":[{\"aaxis\":{\"endlinecolor\":\"#2a3f5f\",\"gridcolor\":\"white\",\"linecolor\":\"white\",\"minorgridcolor\":\"white\",\"startlinecolor\":\"#2a3f5f\"},\"baxis\":{\"endlinecolor\":\"#2a3f5f\",\"gridcolor\":\"white\",\"linecolor\":\"white\",\"minorgridcolor\":\"white\",\"startlinecolor\":\"#2a3f5f\"},\"type\":\"carpet\"}],\"choropleth\":[{\"colorbar\":{\"outlinewidth\":0,\"ticks\":\"\"},\"type\":\"choropleth\"}],\"contourcarpet\":[{\"colorbar\":{\"outlinewidth\":0,\"ticks\":\"\"},\"type\":\"contourcarpet\"}],\"contour\":[{\"colorbar\":{\"outlinewidth\":0,\"ticks\":\"\"},\"colorscale\":[[0.0,\"#0d0887\"],[0.1111111111111111,\"#46039f\"],[0.2222222222222222,\"#7201a8\"],[0.3333333333333333,\"#9c179e\"],[0.4444444444444444,\"#bd3786\"],[0.5555555555555556,\"#d8576b\"],[0.6666666666666666,\"#ed7953\"],[0.7777777777777778,\"#fb9f3a\"],[0.8888888888888888,\"#fdca26\"],[1.0,\"#f0f921\"]],\"type\":\"contour\"}],\"heatmapgl\":[{\"colorbar\":{\"outlinewidth\":0,\"ticks\":\"\"},\"colorscale\":[[0.0,\"#0d0887\"],[0.1111111111111111,\"#46039f\"],[0.2222222222222222,\"#7201a8\"],[0.3333333333333333,\"#9c179e\"],[0.4444444444444444,\"#bd3786\"],[0.5555555555555556,\"#d8576b\"],[0.6666666666666666,\"#ed7953\"],[0.7777777777777778,\"#fb9f3a\"],[0.8888888888888888,\"#fdca26\"],[1.0,\"#f0f921\"]],\"type\":\"heatmapgl\"}],\"heatmap\":[{\"colorbar\":{\"outlinewidth\":0,\"ticks\":\"\"},\"colorscale\":[[0.0,\"#0d0887\"],[0.1111111111111111,\"#46039f\"],[0.2222222222222222,\"#7201a8\"],[0.3333333333333333,\"#9c179e\"],[0.4444444444444444,\"#bd3786\"],[0.5555555555555556,\"#d8576b\"],[0.6666666666666666,\"#ed7953\"],[0.7777777777777778,\"#fb9f3a\"],[0.8888888888888888,\"#fdca26\"],[1.0,\"#f0f921\"]],\"type\":\"heatmap\"}],\"histogram2dcontour\":[{\"colorbar\":{\"outlinewidth\":0,\"ticks\":\"\"},\"colorscale\":[[0.0,\"#0d0887\"],[0.1111111111111111,\"#46039f\"],[0.2222222222222222,\"#7201a8\"],[0.3333333333333333,\"#9c179e\"],[0.4444444444444444,\"#bd3786\"],[0.5555555555555556,\"#d8576b\"],[0.6666666666666666,\"#ed7953\"],[0.7777777777777778,\"#fb9f3a\"],[0.8888888888888888,\"#fdca26\"],[1.0,\"#f0f921\"]],\"type\":\"histogram2dcontour\"}],\"histogram2d\":[{\"colorbar\":{\"outlinewidth\":0,\"ticks\":\"\"},\"colorscale\":[[0.0,\"#0d0887\"],[0.1111111111111111,\"#46039f\"],[0.2222222222222222,\"#7201a8\"],[0.3333333333333333,\"#9c179e\"],[0.4444444444444444,\"#bd3786\"],[0.5555555555555556,\"#d8576b\"],[0.6666666666666666,\"#ed7953\"],[0.7777777777777778,\"#fb9f3a\"],[0.8888888888888888,\"#fdca26\"],[1.0,\"#f0f921\"]],\"type\":\"histogram2d\"}],\"histogram\":[{\"marker\":{\"pattern\":{\"fillmode\":\"overlay\",\"size\":10,\"solidity\":0.2}},\"type\":\"histogram\"}],\"mesh3d\":[{\"colorbar\":{\"outlinewidth\":0,\"ticks\":\"\"},\"type\":\"mesh3d\"}],\"parcoords\":[{\"line\":{\"colorbar\":{\"outlinewidth\":0,\"ticks\":\"\"}},\"type\":\"parcoords\"}],\"pie\":[{\"automargin\":true,\"type\":\"pie\"}],\"scatter3d\":[{\"line\":{\"colorbar\":{\"outlinewidth\":0,\"ticks\":\"\"}},\"marker\":{\"colorbar\":{\"outlinewidth\":0,\"ticks\":\"\"}},\"type\":\"scatter3d\"}],\"scattercarpet\":[{\"marker\":{\"colorbar\":{\"outlinewidth\":0,\"ticks\":\"\"}},\"type\":\"scattercarpet\"}],\"scattergeo\":[{\"marker\":{\"colorbar\":{\"outlinewidth\":0,\"ticks\":\"\"}},\"type\":\"scattergeo\"}],\"scattergl\":[{\"marker\":{\"colorbar\":{\"outlinewidth\":0,\"ticks\":\"\"}},\"type\":\"scattergl\"}],\"scattermapbox\":[{\"marker\":{\"colorbar\":{\"outlinewidth\":0,\"ticks\":\"\"}},\"type\":\"scattermapbox\"}],\"scatterpolargl\":[{\"marker\":{\"colorbar\":{\"outlinewidth\":0,\"ticks\":\"\"}},\"type\":\"scatterpolargl\"}],\"scatterpolar\":[{\"marker\":{\"colorbar\":{\"outlinewidth\":0,\"ticks\":\"\"}},\"type\":\"scatterpolar\"}],\"scatter\":[{\"marker\":{\"colorbar\":{\"outlinewidth\":0,\"ticks\":\"\"}},\"type\":\"scatter\"}],\"scatterternary\":[{\"marker\":{\"colorbar\":{\"outlinewidth\":0,\"ticks\":\"\"}},\"type\":\"scatterternary\"}],\"surface\":[{\"colorbar\":{\"outlinewidth\":0,\"ticks\":\"\"},\"colorscale\":[[0.0,\"#0d0887\"],[0.1111111111111111,\"#46039f\"],[0.2222222222222222,\"#7201a8\"],[0.3333333333333333,\"#9c179e\"],[0.4444444444444444,\"#bd3786\"],[0.5555555555555556,\"#d8576b\"],[0.6666666666666666,\"#ed7953\"],[0.7777777777777778,\"#fb9f3a\"],[0.8888888888888888,\"#fdca26\"],[1.0,\"#f0f921\"]],\"type\":\"surface\"}],\"table\":[{\"cells\":{\"fill\":{\"color\":\"#EBF0F8\"},\"line\":{\"color\":\"white\"}},\"header\":{\"fill\":{\"color\":\"#C8D4E3\"},\"line\":{\"color\":\"white\"}},\"type\":\"table\"}]},\"layout\":{\"annotationdefaults\":{\"arrowcolor\":\"#2a3f5f\",\"arrowhead\":0,\"arrowwidth\":1},\"autotypenumbers\":\"strict\",\"coloraxis\":{\"colorbar\":{\"outlinewidth\":0,\"ticks\":\"\"}},\"colorscale\":{\"diverging\":[[0,\"#8e0152\"],[0.1,\"#c51b7d\"],[0.2,\"#de77ae\"],[0.3,\"#f1b6da\"],[0.4,\"#fde0ef\"],[0.5,\"#f7f7f7\"],[0.6,\"#e6f5d0\"],[0.7,\"#b8e186\"],[0.8,\"#7fbc41\"],[0.9,\"#4d9221\"],[1,\"#276419\"]],\"sequential\":[[0.0,\"#0d0887\"],[0.1111111111111111,\"#46039f\"],[0.2222222222222222,\"#7201a8\"],[0.3333333333333333,\"#9c179e\"],[0.4444444444444444,\"#bd3786\"],[0.5555555555555556,\"#d8576b\"],[0.6666666666666666,\"#ed7953\"],[0.7777777777777778,\"#fb9f3a\"],[0.8888888888888888,\"#fdca26\"],[1.0,\"#f0f921\"]],\"sequentialminus\":[[0.0,\"#0d0887\"],[0.1111111111111111,\"#46039f\"],[0.2222222222222222,\"#7201a8\"],[0.3333333333333333,\"#9c179e\"],[0.4444444444444444,\"#bd3786\"],[0.5555555555555556,\"#d8576b\"],[0.6666666666666666,\"#ed7953\"],[0.7777777777777778,\"#fb9f3a\"],[0.8888888888888888,\"#fdca26\"],[1.0,\"#f0f921\"]]},\"colorway\":[\"#636efa\",\"#EF553B\",\"#00cc96\",\"#ab63fa\",\"#FFA15A\",\"#19d3f3\",\"#FF6692\",\"#B6E880\",\"#FF97FF\",\"#FECB52\"],\"font\":{\"color\":\"#2a3f5f\"},\"geo\":{\"bgcolor\":\"white\",\"lakecolor\":\"white\",\"landcolor\":\"#E5ECF6\",\"showlakes\":true,\"showland\":true,\"subunitcolor\":\"white\"},\"hoverlabel\":{\"align\":\"left\"},\"hovermode\":\"closest\",\"mapbox\":{\"style\":\"light\"},\"paper_bgcolor\":\"white\",\"plot_bgcolor\":\"#E5ECF6\",\"polar\":{\"angularaxis\":{\"gridcolor\":\"white\",\"linecolor\":\"white\",\"ticks\":\"\"},\"bgcolor\":\"#E5ECF6\",\"radialaxis\":{\"gridcolor\":\"white\",\"linecolor\":\"white\",\"ticks\":\"\"}},\"scene\":{\"xaxis\":{\"backgroundcolor\":\"#E5ECF6\",\"gridcolor\":\"white\",\"gridwidth\":2,\"linecolor\":\"white\",\"showbackground\":true,\"ticks\":\"\",\"zerolinecolor\":\"white\"},\"yaxis\":{\"backgroundcolor\":\"#E5ECF6\",\"gridcolor\":\"white\",\"gridwidth\":2,\"linecolor\":\"white\",\"showbackground\":true,\"ticks\":\"\",\"zerolinecolor\":\"white\"},\"zaxis\":{\"backgroundcolor\":\"#E5ECF6\",\"gridcolor\":\"white\",\"gridwidth\":2,\"linecolor\":\"white\",\"showbackground\":true,\"ticks\":\"\",\"zerolinecolor\":\"white\"}},\"shapedefaults\":{\"line\":{\"color\":\"#2a3f5f\"}},\"ternary\":{\"aaxis\":{\"gridcolor\":\"white\",\"linecolor\":\"white\",\"ticks\":\"\"},\"baxis\":{\"gridcolor\":\"white\",\"linecolor\":\"white\",\"ticks\":\"\"},\"bgcolor\":\"#E5ECF6\",\"caxis\":{\"gridcolor\":\"white\",\"linecolor\":\"white\",\"ticks\":\"\"}},\"title\":{\"x\":0.05},\"xaxis\":{\"automargin\":true,\"gridcolor\":\"white\",\"linecolor\":\"white\",\"ticks\":\"\",\"title\":{\"standoff\":15},\"zerolinecolor\":\"white\",\"zerolinewidth\":2},\"yaxis\":{\"automargin\":true,\"gridcolor\":\"white\",\"linecolor\":\"white\",\"ticks\":\"\",\"title\":{\"standoff\":15},\"zerolinecolor\":\"white\",\"zerolinewidth\":2}}},\"title\":{\"text\":\"Airport_Name_Difference\"},\"xaxis\":{\"tickangle\":30},\"yaxis\":{\"title\":{\"text\":\"Minute\"}}},                        {\"responsive\": true}                    ).then(function(){\n",
       "                            \n",
       "var gd = document.getElementById('ce67c562-ef00-419e-94b7-79cb6b8364f1');\n",
       "var x = new MutationObserver(function (mutations, observer) {{\n",
       "        var display = window.getComputedStyle(gd).display;\n",
       "        if (!display || display === 'none') {{\n",
       "            console.log([gd, 'removed!']);\n",
       "            Plotly.purge(gd);\n",
       "            observer.disconnect();\n",
       "        }}\n",
       "}});\n",
       "\n",
       "// Listen for the removal of the full notebook cells\n",
       "var notebookContainer = gd.closest('#notebook-container');\n",
       "if (notebookContainer) {{\n",
       "    x.observe(notebookContainer, {childList: true});\n",
       "}}\n",
       "\n",
       "// Listen for the clearing of the current output cell\n",
       "var outputEl = gd.closest('.output');\n",
       "if (outputEl) {{\n",
       "    x.observe(outputEl, {childList: true});\n",
       "}}\n",
       "\n",
       "                        })                };                });            </script>        </div>"
      ]
     },
     "metadata": {},
     "output_type": "display_data"
    }
   ],
   "source": [
    "New_Fly['Taxi_Difference'] = New_Fly['TAXI_OUT'] - New_Fly['TAXI_IN']\n",
    "F3 = New_Fly.groupby('Airport_Name').Taxi_Difference.mean().to_frame().sort_values(by='Taxi_Difference',ascending=False).round(2)\n",
    "\n",
    "trace = go.Bar(x=F3.index, y=F3.Taxi_Difference, marker=dict(color = F3.Taxi_Difference,colorscale='viridis',showscale=True))\n",
    "\n",
    "data = [trace]\n",
    "layout = go.Layout(xaxis=dict(tickangle=30),title='Airport_Name_Difference', yaxis = dict(title = 'Minute'))\n",
    "fig = go.Figure(data=data, layout=layout)\n",
    "py.iplot(fig)"
   ]
  },
  {
   "cell_type": "code",
   "execution_count": 61,
   "id": "ff02dff1",
   "metadata": {},
   "outputs": [],
   "source": [
    "# Построить модель которая будет выбирать топ 3 аэропорта прилета (вероятность опоздания минимальная – RMSE метрика), в зависимости от аэропорта вылета"
   ]
  },
  {
   "cell_type": "code",
   "execution_count": 62,
   "id": "fc08750b",
   "metadata": {},
   "outputs": [],
   "source": [
    "from sklearn.model_selection import train_test_split\n",
    "import numpy as np\n",
    "from sklearn.metrics import mean_squared_error\n",
    "from math import sqrt\n",
    "# from sklearn.linear_model import LinearRegression\n",
    "from sklearn.ensemble import GradientBoostingRegressor"
   ]
  },
  {
   "cell_type": "code",
   "execution_count": 64,
   "id": "f4a72221",
   "metadata": {},
   "outputs": [],
   "source": [
    "flight_new1 = pd.DataFrame(Fly[['YEAR', 'MONTH', 'DAY', 'DAY_OF_WEEK','ARRIVAL_DELAY','Airport_Name', 'Destination_Airport_Name']])"
   ]
  },
  {
   "cell_type": "code",
   "execution_count": 65,
   "id": "52e0eda3",
   "metadata": {},
   "outputs": [],
   "source": [
    "def make_date(df):\n",
    "  return datetime.date(df.YEAR, df.MONTH, df.DAY)\n",
    "\n",
    "def make_features(data, max_lag, rolling_mean_size):\n",
    "    data['year'] = data.dDate.dt.year\n",
    "    data['month'] = data.dDate.dt.month\n",
    "    data['day'] = data.dDate.dt.day\n",
    "    data['dayofweek'] = data.dDate.dt.dayofweek\n",
    "    for lag in range(1, max_lag + 1):\n",
    "        data['lag_{}'.format(lag)] = data['ARRIVAL_DELAY'].shift(lag)\n",
    "\n"
   ]
  },
  {
   "cell_type": "code",
   "execution_count": 66,
   "id": "adbe1350",
   "metadata": {},
   "outputs": [],
   "source": [
    "flight_new1['dDate'] = flight_new1.apply(make_date,axis = 1)"
   ]
  },
  {
   "cell_type": "code",
   "execution_count": 67,
   "id": "48c457ec",
   "metadata": {},
   "outputs": [],
   "source": [
    "flight_new1 [['Airport_Name','Destination_Airport_Name']] = flight_new1 [['Airport_Name','Destination_Airport_Name']].astype(str)"
   ]
  },
  {
   "cell_type": "code",
   "execution_count": 230,
   "id": "8324aab6",
   "metadata": {},
   "outputs": [
    {
     "name": "stdout",
     "output_type": "stream",
     "text": [
      "<class 'pandas.core.frame.DataFrame'>\n",
      "Int64Index: 5222000 entries, 0 to 5221999\n",
      "Data columns (total 8 columns):\n",
      " #   Column                    Dtype  \n",
      "---  ------                    -----  \n",
      " 0   YEAR                      int64  \n",
      " 1   MONTH                     int64  \n",
      " 2   DAY                       int64  \n",
      " 3   DAY_OF_WEEK               int64  \n",
      " 4   ARRIVAL_DELAY             float64\n",
      " 5   Airport_Name              object \n",
      " 6   Destination_Airport_Name  object \n",
      " 7   dDate                     object \n",
      "dtypes: float64(1), int64(4), object(3)\n",
      "memory usage: 358.6+ MB\n"
     ]
    }
   ],
   "source": [
    "flight_new1.info()"
   ]
  },
  {
   "cell_type": "code",
   "execution_count": 69,
   "id": "d9cbe4be",
   "metadata": {},
   "outputs": [],
   "source": [
    "flight_new_group1 = flight_new1.groupby(['dDate','Destination_Airport_Name'])['ARRIVAL_DELAY'].sum().reset_index()\n",
    "flight_new_group1['dDate'] = pd.to_datetime(flight_new_group1['dDate'])"
   ]
  },
  {
   "cell_type": "code",
   "execution_count": 163,
   "id": "d3fafe87",
   "metadata": {},
   "outputs": [],
   "source": [
    "where_to_go = []\n",
    "for dest in flight_new_group1.Destination_Airport_Name.unique():\n",
    "    tempo = flight_new_group1[flight_new_group1.Destination_Airport_Name==dest][['dDate','ARRIVAL_DELAY']]\n",
    "    tempo.columns = ['dDate','ARRIVAL_DELAY']\n",
    "    tempo = pd.DataFrame(tempo)\n",
    "    \n",
    "    try:\n",
    "    \n",
    "        make_features(tempo,5,3)\n",
    "        tempo.dropna(inplace=True)\n",
    "        tempo.set_index('dDate',inplace=True)\n",
    "           \n",
    "        X_train,X_test,y_train, y_test = train_test_split(tempo.drop('ARRIVAL_DELAY', axis=1),tempo.ARRIVAL_DELAY, shuffle=False, test_size=0.25)\n",
    "        \n",
    "        model_lr = GradientBoostingRegressor()\n",
    "        model_lr.fit(X_train,y_train)\n",
    "\n",
    "        y_predicted_lr = model_lr.predict(X_test)\n",
    "        where_to_go.append([dest,y_test.mean(),np.sqrt(mean_squared_error(y_test, y_predicted_lr))])\n",
    "\n",
    "    except Exception as e:\n",
    "        print('Error', str(e))\n",
    "        \n"
   ]
  },
  {
   "cell_type": "code",
   "execution_count": 164,
   "id": "260bcf98",
   "metadata": {},
   "outputs": [],
   "source": [
    "where_to_go = pd.DataFrame(where_to_go)\n",
    "where_to_go.columns = ['Destination_Airport_Name','MEAN_ARRIVAL_DELAY_IN_PAST','RMSE']"
   ]
  },
  {
   "cell_type": "code",
   "execution_count": 165,
   "id": "e663424f",
   "metadata": {
    "scrolled": false
   },
   "outputs": [
    {
     "name": "stdout",
     "output_type": "stream",
     "text": [
      "Лучшие направления с аэропорта Yakutat Airport\n",
      "\n",
      "           Destination_Airport_Name  MEAN_ARRIVAL_DELAY_IN_PAST        RMSE\n",
      "1  Merle K. (Mudhole) Smith Airport                   -1.048780   54.071738\n",
      "0      Juneau International Airport                   15.433735  193.103171\n"
     ]
    }
   ],
   "source": [
    "start_airport = np.random.choice(flight_new1['Airport_Name'].unique()) \n",
    "where_to_go_from_start_airport = flight_new1[flight_new1.Airport_Name==start_airport]['Destination_Airport_Name'].unique()\n",
    "\n",
    "where_to_go_from_start_airport = pd.DataFrame(where_to_go_from_start_airport)\n",
    "where_to_go_from_start_airport.columns = ['Destination_Airport_Name']\n",
    "\n",
    "top3 = where_to_go_from_start_airport\\\n",
    "    .merge(where_to_go,on='Destination_Airport_Name',how='inner')\\\n",
    "    .sort_values(by=['RMSE','MEAN_ARRIVAL_DELAY_IN_PAST'],ascending=[True, True])\\\n",
    "    .head(3)\n",
    "\n",
    "print('Лучшие направления с аэропорта',start_airport)\n",
    "print('')\n",
    "print(top3)"
   ]
  },
  {
   "cell_type": "code",
   "execution_count": 229,
   "id": "9c15b105",
   "metadata": {},
   "outputs": [
    {
     "data": {
      "image/png": "[encoded data removed]",
      "text/plain": [
       "<Figure size 864x432 with 1 Axes>"
      ]
     },
     "metadata": {},
     "output_type": "display_data"
    }
   ],
   "source": [
    "plt.figure(figsize = (12,6))\n",
    "plt.title('Gradient Boosting model')\n",
    "plt.scatter(y_test,y_predicted_lr)\n",
    "\n",
    "plt.show()"
   ]
  },
  {
   "cell_type": "code",
   "execution_count": null,
   "id": "aa565207",
   "metadata": {},
   "outputs": [],
   "source": []
  }
 ],
 "metadata": {
  "kernelspec": {
   "display_name": "Python 3 (ipykernel)",
   "language": "python",
   "name": "python3"
  },
  "language_info": {
   "codemirror_mode": {
    "name": "ipython",
    "version": 3
   },
   "file_extension": ".py",
   "mimetype": "text/x-python",
   "name": "python",
   "nbconvert_exporter": "python",
   "pygments_lexer": "ipython3",
   "version": "3.8.8"
  }
 },
 "nbformat": 4,
 "nbformat_minor": 5
}
